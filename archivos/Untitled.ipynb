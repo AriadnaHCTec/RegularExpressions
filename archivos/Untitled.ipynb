{
 "cells": [
  {
   "cell_type": "code",
   "execution_count": 1,
   "metadata": {},
   "outputs": [],
   "source": [
    "import shutil\n",
    "from os import listdir\n",
    "from os.path import isfile, join"
   ]
  },
  {
   "cell_type": "code",
   "execution_count": 4,
   "metadata": {},
   "outputs": [
    {
     "name": "stdout",
     "output_type": "stream",
     "text": [
      "['binary128.go', 'binary16_test.go', 'calculator.go', 'client.go', 'config_test.go', 'decoder_test.go', 'fuzzy_decoder.go', 'fuzzy_decoder_test.go', 'hellopb.go', 'jsoniter_array_test.go', 'modeling_math.go', 'otroServer.go', 'point_test.go', 'response.go', 'server.go', 'singlelinkedlist.go', 'struct_embedded_test.go', 'struct_tags_test.go', 'test_stale_repositories.go', 'Ultimo.go', 'Untitled.ipynb']\n"
     ]
    }
   ],
   "source": [
    "mypath = \"D:\\github\\RegularExpressions\\\\archivos\"\n",
    "onlyfiles = [f for f in listdir(mypath) if isfile(join(mypath, f))]\n",
    "print(onlyfiles)"
   ]
  },
  {
   "cell_type": "code",
   "execution_count": 5,
   "metadata": {},
   "outputs": [],
   "source": [
    "original = r'D:\\github\\RegularExpressions\\archivos\\ '\n",
    "target = r'D:\\github\\RegularExpressions\\archivos\\ '\n",
    "\n",
    "for i in onlyfiles:\n",
    "    for j in range(1,50):\n",
    "        originall = original[:-1]+i\n",
    "        targett = original[:-1]+i[:-3]+str(j)+\".go\"\n",
    "        shutil.copyfile(originall, targett)"
   ]
  },
  {
   "cell_type": "code",
   "execution_count": null,
   "metadata": {},
   "outputs": [],
   "source": []
  }
 ],
 "metadata": {
  "kernelspec": {
   "display_name": "Python 3",
   "language": "python",
   "name": "python3"
  },
  "language_info": {
   "codemirror_mode": {
    "name": "ipython",
    "version": 3
   },
   "file_extension": ".py",
   "mimetype": "text/x-python",
   "name": "python",
   "nbconvert_exporter": "python",
   "pygments_lexer": "ipython3",
   "version": "3.8.3"
  }
 },
 "nbformat": 4,
 "nbformat_minor": 4
}
