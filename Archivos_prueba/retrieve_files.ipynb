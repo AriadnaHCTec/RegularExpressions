{
 "cells": [
  {
   "cell_type": "markdown",
   "id": "6167dde8",
   "metadata": {},
   "source": [
    "# Retrieving Files from Directory\n",
    "\n",
    "Check Java’s [`java.io.File`](https://docs.oracle.com/en/java/javase/11/docs/api/java.base/java/io/File.html) class documentation for more information regarding files. "
   ]
  },
  {
   "cell_type": "code",
   "execution_count": 1,
   "id": "239cc8c3",
   "metadata": {},
   "outputs": [
    {
     "data": {
      "text/plain": [
       "#'user/get-file-info"
      ]
     },
     "execution_count": 1,
     "metadata": {},
     "output_type": "execute_result"
    }
   ],
   "source": [
    "(defn get-file-info\n",
    "  [dir]\n",
    "  (map (fn [f] \n",
    "         [(.getPath f) (.isFile f) (.length f)])\n",
    "       (file-seq (clojure.java.io/file dir))))"
   ]
  },
  {
   "cell_type": "code",
   "execution_count": 2,
   "id": "4533fa23",
   "metadata": {},
   "outputs": [
    {
     "name": "stdout",
     "output_type": "stream",
     "text": [
      "([\".\" false 4096]\n",
      " [\".\\\\.ipynb_checkpoints\" false 0]\n",
      " [\".\\\\.ipynb_checkpoints\\\\retrieve_files-checkpoint.ipynb\" true 24748]\n",
      " [\".\\\\10archivos\" false 4096]\n",
      " [\".\\\\10archivos\\\\binary128.go\" true 7947]\n",
      " [\".\\\\10archivos\\\\binary16_test.go\" true 9879]\n",
      " [\".\\\\10archivos\\\\binary_as_string_codec.go\" true 5282]\n",
      " [\".\\\\10archivos\\\\calculator.go\" true 4201]\n",
      " [\".\\\\10archivos\\\\hellopb.go\" true 9258]\n",
      " [\".\\\\10archivos\\\\point_test.go\" true 6143]\n",
      " [\".\\\\10archivos\\\\response.go\" true 4982]\n",
      " [\".\\\\10archivos\\\\server.go\" true 9019]\n",
      " [\".\\\\10archivos\\\\singlelinkedlist.go\" true 4867]\n",
      " [\".\\\\10archivos\\\\test_stale_repositories.go\" true 7811]\n",
      " [\".\\\\retrieve_files.ipynb\" true 25685]\n",
      " [\".\\\\samples\" false 4096]\n",
      " [\".\\\\samples\\\\.ipynb_checkpoints\" false 4096]\n",
      " [\".\\\\samples\\\\.ipynb_checkpoints\\\\Alices Adventures in Wonderland-checkpoint.txt\"\n",
      "  true\n",
      "  174313]\n",
      " [\".\\\\samples\\\\.ipynb_checkpoints\\\\Dracula-checkpoint.txt\" true 881473]\n",
      " [\".\\\\samples\\\\.ipynb_checkpoints\\\\Frankenstein-checkpoint.txt\"\n",
      "  true\n",
      "  448821]\n",
      " [\".\\\\samples\\\\.ipynb_checkpoints\\\\Little Women-checkpoint.txt\"\n",
      "  true\n",
      "  1053513]\n",
      " [\".\\\\samples\\\\.ipynb_checkpoints\\\\Moby Dick-checkpoint.txt\"\n",
      "  true\n",
      "  1276233]\n",
      " [\".\\\\samples\\\\.ipynb_checkpoints\\\\Pride and Prejudice-checkpoint.txt\"\n",
      "  true\n",
      "  799645]\n",
      " [\".\\\\samples\\\\.ipynb_checkpoints\\\\The Iliad-checkpoint.txt\"\n",
      "  true\n",
      "  1157929]\n",
      " [\".\\\\samples\\\\.ipynb_checkpoints\\\\The Jungle Book-checkpoint.txt\"\n",
      "  true\n",
      "  304373]\n",
      " [\".\\\\samples\\\\.ipynb_checkpoints\\\\The Picture of Dorian Gray-checkpoint.txt\"\n",
      "  true\n",
      "  465794]\n",
      " [\".\\\\samples\\\\.ipynb_checkpoints\\\\War and Peace-checkpoint.txt\"\n",
      "  true\n",
      "  3359581]\n",
      " [\".\\\\samples\\\\Alices Adventures in Wonderland.txt\" true 174310]\n",
      " [\".\\\\samples\\\\Dracula.txt\" true 881470]\n",
      " [\".\\\\samples\\\\Frankenstein.txt\" true 448818]\n",
      " [\".\\\\samples\\\\Little Women.txt\" true 1053510]\n",
      " [\".\\\\samples\\\\Moby Dick.txt\" true 1276230]\n",
      " [\".\\\\samples\\\\Pride and Prejudice.txt\" true 799642]\n",
      " [\".\\\\samples\\\\The Iliad.txt\" true 1157929]\n",
      " [\".\\\\samples\\\\The Jungle Book.txt\" true 304373]\n",
      " [\".\\\\samples\\\\The Picture of Dorian Gray.txt\" true 465794]\n",
      " [\".\\\\samples\\\\War and Peace.txt\" true 3359581])\n"
     ]
    },
    {
     "data": {
      "text/plain": [
       "nil"
      ]
     },
     "execution_count": 2,
     "metadata": {},
     "output_type": "execute_result"
    }
   ],
   "source": [
    "(clojure.pprint/pprint (get-file-info \".\"))"
   ]
  },
  {
   "cell_type": "code",
   "execution_count": 4,
   "id": "ef336c34-ddb4-4ca7-a44e-0318b76d7ec7",
   "metadata": {},
   "outputs": [
    {
     "name": "stdout",
     "output_type": "stream",
     "text": [
      "([\"10archivos\\\\binary128.go\" 39]\n",
      " [\"10archivos\\\\binary16_test.go\" 233]\n",
      " [\"10archivos\\\\binary_as_string_codec.go\" 22]\n",
      " [\"10archivos\\\\calculator.go\" 16]\n",
      " [\"10archivos\\\\hellopb.go\" 16]\n",
      " [\"10archivos\\\\point_test.go\" 31]\n",
      " [\"10archivos\\\\response.go\" 24]\n",
      " [\"10archivos\\\\server.go\" 41]\n",
      " [\"10archivos\\\\singlelinkedlist.go\" 35]\n",
      " [\"10archivos\\\\test_stale_repositories.go\" 32])\n"
     ]
    },
    {
     "data": {
      "text/plain": [
       "nil"
      ]
     },
     "execution_count": 4,
     "metadata": {},
     "output_type": "execute_result"
    }
   ],
   "source": [
    "(clojure.pprint/pprint\n",
    "(for [f (get-file-info \"10archivos\") :when (f 1)]\n",
    "  [(f 0) (count (re-seq #\"w+\"(slurp (f 0))))]))"
   ]
  },
  {
   "cell_type": "code",
   "execution_count": null,
   "id": "3f32bd8d-f5aa-453d-8db4-33da561057a7",
   "metadata": {},
   "outputs": [],
   "source": []
  }
 ],
 "metadata": {
  "kernelspec": {
   "display_name": "Clojure (clojupyter=0.3.2=1)",
   "language": "clojure",
   "name": "conda-clojupyter"
  },
  "language_info": {
   "file_extension": ".clj",
   "mimetype": "text/x-clojure",
   "name": "clojure",
   "version": "1.10.1"
  }
 },
 "nbformat": 4,
 "nbformat_minor": 5
}
