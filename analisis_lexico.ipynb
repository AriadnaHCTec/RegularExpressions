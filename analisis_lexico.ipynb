{
 "cells": [
  {
   "cell_type": "markdown",
   "metadata": {},
   "source": [
    "# Proyecto integrador\n",
    "\n",
    "Miguel Ángel Pérez López A01750145\n",
    "\n",
    "Ariadna Huesca Coronado A01749161\n",
    "\n",
    "Lenguaje: GO\n",
    "\n",
    "https://golang.org/ref/spec#Floating-point_literals\n",
    "\n",
    "http://www.regular-expressions.info/unicode.html#prop"
   ]
  },
  {
   "cell_type": "code",
   "execution_count": 1,
   "metadata": {},
   "outputs": [
    {
     "data": {
      "text/plain": [
       "nil"
      ]
     },
     "execution_count": 1,
     "metadata": {},
     "output_type": "execute_result"
    }
   ],
   "source": [
    ";; External function required for this notebook.\n",
    "(require '[clojure.test :refer [is]])"
   ]
  },
  {
   "cell_type": "markdown",
   "metadata": {},
   "source": [
    "Variable"
   ]
  },
  {
   "cell_type": "code",
   "execution_count": null,
   "metadata": {},
   "outputs": [],
   "source": [
    ";;; Regular expression:\n",
    "(def java-float #\"(?xi)\n",
    "                    [\\p{L}_][\\p{L}\\p{N}_]*\") \n",
    "(is (re-matches java-float \"a\"))\n",
    "(is (re-matches java-float \"_x9\"))\n",
    "(is (re-matches java-float \"ThisVariableIsExported\"))\n",
    "(is (re-matches java-float \"αβ\"))\n",
    ";(is (not (re-matches java-float \".\")))"
   ]
  },
  {
   "cell_type": "markdown",
   "metadata": {},
   "source": [
    "STRING"
   ]
  },
  {
   "cell_type": "code",
   "execution_count": null,
   "metadata": {},
   "outputs": [],
   "source": [
    "(def java-float #\"(?xi)\n",
    "                    \\X\") "
   ]
  },
  {
   "cell_type": "code",
   "execution_count": null,
   "metadata": {},
   "outputs": [],
   "source": [
    ";;; Regular expression:\n",
    "(def java-float #\"(?xi)\n",
    "                    (`(\\P{M}\\p{M}*+)*`)\n",
    "                    |(\\\"\n",
    "                        [(\\P{M}\\p{M}*+)]*\n",
    "                      \\\")\") \n",
    "(is (re-matches java-float \"`abc`\"))\n",
    "(is (re-matches java-float \"`\\n \\n`\"))\n",
    "(is (re-matches java-float \"\\\"\\\"\\\"\"))\n",
    "(is (re-matches java-float \"\\\"Hello, world!\\n\\\"\"))\n",
    "(is (re-matches java-float \"\\\"日本語\\\"\"))\n",
    ";(is (re-matches java-float \"\\\"\\u65e5本\\U00008a9e\\\"\"))\n",
    ";(is (re-matches java-float \"\\\"\\xff\\u00FF\\\"\"))\n",
    ";(is (not (re-matches java-float \"\\uD800\")))\n",
    ";(is (not (re-matches java-float \"\\U00110000\")))"
   ]
  },
  {
   "cell_type": "code",
   "execution_count": null,
   "metadata": {},
   "outputs": [],
   "source": [
    "(def regex #\"(?xi)\n",
    "    0[oO][_]*[0-7]+(?:_[0-7]+)* | 0[xX][0-9a-fA-F]+(?:_[0-9a-fA-F]+)* #Grupo 1: Enteros\n",
    "  | 0[bB][01]+(?:_[01]+)* | [0]+(?:_\\d+)*\\d+ | [1-9]+\\d*(?:_\\d+)*    \n",
    "  | \\d*(_\\d)*\\.\\d*([eE][+-]*\\d+(_\\d)*)*                               #Grupo2: Flotantes\n",
    "  | 0[xX][_]*([0-9a-fA-F]+(?:_[0-9a-fA-F]+)*[.]*[0-9a-fA-F]*|[0-9a-fA-F]*(?:_[0-9a-fA-F]+)*[.]*[0-9a-fA-F]+)(?:_[0-9a-fA-F]+)*[pPeE][+-]??[0-9a-fA-F]+(?:_[0-9a-fA-F]+)*\n",
    "  | ( // .* )                                # Grupo 3: Comentario\n",
    "  | ( [a-z] \\w* )                            # Grupo 4: Variable\n",
    "  | ( [=] )                                  # Grupo 5: Asignación\n",
    "  | ( [+] )                                  # Grupo 6: Suma\n",
    "  | ( [-] )                                  # Grupo 7: Resta\n",
    "  | ( [*] )                                  # Grupo 8: Multiplicación\n",
    "  | ( [/] )                                  # Grupo 9: División\n",
    "  | ( \\^ )                                   # Grupo 10: Potencia\n",
    "  | ( [(] )                                  # Grupo 11: Paréntesis que abre\n",
    "  | ( [)] )                                  # Grupo 12: Paréntesis que cierra\n",
    "  | ( \\s )                                   # Grupo 13: Espacios\n",
    "  | ( . )                                    # Grupo 14: Carácter inválido\n",
    "  \")"
   ]
  },
  {
   "cell_type": "markdown",
   "metadata": {},
   "source": [
    "## Tareas\n",
    "\n",
    "1. Entero 1\n",
    "2. FLotante 1\n",
    "3. Variable 1\n",
    "4. String\n",
    "5. Comentario 1\n",
    "6. Operadores (Asignación) = += *= Mmike\n",
    "7. Lógico (> < ==) Mike\n",
    "8. Aritmético(+ - *) mike\n",
    "9. Constantes (True, False, var) Ari\n",
    "10. Paréntesis y llaves Ari"
   ]
  },
  {
   "cell_type": "markdown",
   "metadata": {},
   "source": [
    "1. fn2: exportar archivo html\n",
    "2. fn1: (inicio intermedio final) : string \n",
    "3. intermedio: (\"<span class=\" \" resultado(float,var) \">\"  contenido \"</span>\"\n",
    "4. contenido: (< (menor que)   ➔   &lt; > (mayor que)   ➔   &gt; & (ampersand)   ➔   &amp;)"
   ]
  },
  {
   "cell_type": "code",
   "execution_count": null,
   "metadata": {},
   "outputs": [],
   "source": [
    "(defn tokenize-file\n",
    "  [file-name]\n",
    "  (->> (re-seq regex (slurp file-name))\n",
    "       (remove (fn [match] (match 13)))\n",
    "       (map (fn [match]\n",
    "              (let [token (match 0)]\n",
    "                (cond\n",
    "                  (match 1) [token \"Flotante\"]\n",
    "                  (match 2) [token \"Entero\"]\n",
    "                  (match 3) [token \"Comentario\"]\n",
    "                  (match 4) [token \"Variable\"]\n",
    "                  (match 5) [token \"Asignación\"]\n",
    "                  (match 6) [token \"Sum\"]\n",
    "                  (match 7) [token \"Resta\"]\n",
    "                  (match 8) [token \"Multiplicación\"]\n",
    "                  (match 9) [token \"División\"]\n",
    "                  (match 10) [token \"Potencia\"]\n",
    "                  (match 11) [token \"Paréntesis que abre\"]\n",
    "                  (match 12) [token \"Paréntesis que cierra\"]\n",
    "                  (match 14) [token \"Carácter inválido\"]))))))"
   ]
  },
  {
   "cell_type": "code",
   "execution_count": null,
   "metadata": {},
   "outputs": [],
   "source": [
    "(tokenize-file \"ejemplo.txt\")"
   ]
  },
  {
   "cell_type": "code",
   "execution_count": null,
   "metadata": {},
   "outputs": [],
   "source": [
    "(defn table-lines\n",
    "  [file-name]\n",
    "  (->> (tokenize-file \"ejemplo.txt\")\n",
    "      (map (fn [t] (format \"%-30s%s\" (t 0) (t 1))))))"
   ]
  },
  {
   "cell_type": "code",
   "execution_count": null,
   "metadata": {},
   "outputs": [],
   "source": [
    "(defn line\n",
    "  [character size]\n",
    "  (clojure.string/join (repeat size character)))"
   ]
  },
  {
   "cell_type": "code",
   "execution_count": null,
   "metadata": {},
   "outputs": [],
   "source": [
    "(defn table-string \n",
    "  [file-name]\n",
    "  (clojure.string/join \\newline\n",
    "    (concat [(line \\= 50)]\n",
    "            [(format \"%-30s%s\" \"Token\" \"Tipo\")]\n",
    "            [(line \\= 50)]\n",
    "            (table-lines file-name)\n",
    "            [(line \\= 50)])))"
   ]
  },
  {
   "cell_type": "code",
   "execution_count": null,
   "metadata": {},
   "outputs": [],
   "source": [
    "(defn print-token-table\n",
    "  [file-name]\n",
    "  (println (table-string file-name)))\n"
   ]
  },
  {
   "cell_type": "code",
   "execution_count": null,
   "metadata": {},
   "outputs": [],
   "source": [
    "(print-token-table \"ejemplo.txt\")"
   ]
  },
  {
   "cell_type": "code",
   "execution_count": null,
   "metadata": {},
   "outputs": [],
   "source": [
    "(spit \"salida.txt\" (table-string \"ejemplo.txt\"))"
   ]
  },
  {
   "cell_type": "code",
   "execution_count": 9,
   "metadata": {},
   "outputs": [
    {
     "data": {
      "text/plain": [
       "#'user/mike"
      ]
     },
     "execution_count": 9,
     "metadata": {},
     "output_type": "execute_result"
    }
   ],
   "source": [
    "(def mike #\"(?xi)\n",
    "  0[oO][_]*[0-7]+(?:_[0-7]+)*                 #octal\n",
    "| 0[xX][0-9a-fA-F]+(?:_[0-9a-fA-F]+)*         #hexadecimal\n",
    "| 0[bB][01]+(?:_[01]+)*                       #binario\n",
    "| (?:[0]+\\d*(?:_\\d+)*|[1-9]+\\d*(?:_\\d+)*)[eE][+-]??(?:[0]+\\d*(?:_\\d+)*|[1-9]+\\d*(?:_\\d+)*) #flotantes con E sin punto\n",
    "| [0]+\\d*(?:_\\d+)*\\d+                         #enteros empezando con 0\n",
    "| [1-9]+\\d*(?:_\\d+)*                          #enteros que no empiezan con 0\n",
    "| \\d*(?:_\\d)*\\.\\d*(?:[eE][+-]??\\d+(?:_\\d)*)*        #flotantes con enteros\n",
    "| 0[xX][_]*([0-9a-fA-F]+(?:_[0-9a-fA-F]+)*[.]*[0-9a-fA-F]*|[0-9a-fA-F]*(?:_[0-9a-fA-F]+)*[.]*[0-9a-fA-F]+)(?:_[0-9a-fA-F]+)*[pPeE][+-]??[0-9a-fA-F]+(?:_[0-9a-fA-F]+)* #hexadecimales flotantes\n",
    "| (?:// .* )                                  #Comentario\")"
   ]
  },
  {
   "cell_type": "code",
   "execution_count": 16,
   "metadata": {},
   "outputs": [
    {
     "data": {
      "text/plain": [
       "true"
      ]
     },
     "execution_count": 16,
     "metadata": {},
     "output_type": "execute_result"
    }
   ],
   "source": [
    ";enteros\n",
    "(is (re-matches mike \"4_4543_35435_2\"))\n",
    "(is (re-matches mike \"342_3242_2342\"))\n",
    "(is (re-matches mike \"7_7\"))\n",
    "(is (re-matches mike \"00_232_232\"))\n",
    "(is (re-matches mike \"0_232_232\"))\n",
    "(is (re-matches mike \"8699874238403009\"))\n",
    "(is (re-matches mike \"43216400\"))\n",
    "(is (re-matches mike \"00089970\"))\n",
    "(is (re-matches mike \"08989\"))\n",
    "(is (re-matches mike \"7678575\"))\n",
    "(is (re-matches mike \"0o6565467\"))\n",
    "(is (re-matches mike \"0x435F564A\"))\n",
    "(is (re-matches mike \"0X000_3_f565\"))\n",
    "(is (re-matches mike \"0x47464456f_32f_3_3\"))\n",
    "(is (re-matches mike \"0b10100_01_1\"))\n",
    "(is (re-matches mike \"0B00_1_111\"))\n",
    "(is (re-matches mike \"0o_6_3432_2_34\"))\n",
    "(is (re-matches mike \"0O4_43_2432\"))\n",
    "(is (re-matches mike \"0_54654654\"))\n",
    "(is (re-matches mike \"//Hello\"))\n",
    "(is (re-matches mike \"0xBad_Face\"))\n",
    ";flotantes enteros\n",
    "(is (re-matches mike \"0.\"))\n",
    "(is (re-matches mike \"72.40\"))\n",
    "(is (re-matches mike \"7_2.40\"))\n",
    "(is (re-matches mike \"072.40\"))\n",
    "(is (re-matches mike \"2.71828\"))\n",
    "(is (re-matches mike \"1.e+0\"))\n",
    "(is (re-matches mike \"1.e+0_4_4_4\"))\n",
    "(is (re-matches mike \"6.67428e-11\"))\n",
    ";checar este caso\n",
    "(is (re-matches mike \".25\"))\n",
    "(is (re-matches mike \".12345E+5\"))\n",
    "(is (re-matches mike \"1_5.\"))\n",
    "(is (re-matches mike \"0.15e+0_2\"))\n",
    ";flotantes con e sin punto\n",
    "(is (re-matches mike \"1E6\"))\n",
    "(is (re-matches mike \"0E6\"))\n",
    "(is (re-matches mike \"434_43e423\"))\n",
    "(is (re-matches mike \"00565_443_4e4_4\"))\n",
    "(is (not (re-matches mike \"4534545e_e\")))\n",
    ";flotantes hexadecimales\n",
    "(is (re-matches mike \"0x2.p10\"))\n",
    "(is (re-matches mike \"0x2_3.p10_12_2222_2\"))\n",
    "(is (re-matches mike \"0X1.p1\"))\n",
    "(is (re-matches mike \"0x_4.p43\"))\n",
    "(is (re-matches mike \"0x_4p45\"))\n",
    "(is (re-matches mike \"0x1p-2\"))\n",
    "(is (re-matches mike \"0x3_3._32p3\"))\n",
    "(is (re-matches mike \"0x1.Fp+0\"))\n",
    "(is (re-matches mike \"0x.8p-0\"))\n",
    "(is (re-matches mike \"0X_1FFFP-16\"))\n",
    "(is (re-matches mike \"0x15e-2\"))\n",
    "(is (re-matches mike \"0x.1p1\"))\n",
    ";este caso es erróneo\n",
    "(is (not (re-matches mike \"0x.p1\")))"
   ]
  },
  {
   "cell_type": "markdown",
   "metadata": {},
   "source": [
    "## Version final hexadecimal\n",
    "\n",
    "0[xX][_]*([0-9a-fA-F]+(?:_[0-9a-fA-F]+)*[.]*[0-9a-fA-F]*|[0-9a-fA-F]*(?:_[0-9a-fA-F]+)*[.]*[0-9a-fA-F]+)(?:_[0-9a-fA-F]+)*[pPeE][+-]??[0-9a-fA-F]+(?:_[0-9a-fA-F]+)*"
   ]
  },
  {
   "cell_type": "code",
   "execution_count": null,
   "metadata": {},
   "outputs": [],
   "source": [
    ";0[oO][_]*[0-7]+(_[0-7]+)* #octal\n",
    ";0[xX][0-9a-fA-F]+(_[0-9a-fA-F]+)* #hexadecimal\n",
    ";0[bB][01]+(_[01]+)* #binario\n",
    "\n",
    ";[0]+(_\\d+)*\\d+ #enteros empezando con 0\n",
    ";[1-9]+\\d*(_\\d+)* #enteros que no empiezan con 0"
   ]
  },
  {
   "cell_type": "code",
   "execution_count": null,
   "metadata": {},
   "outputs": [],
   "source": [
    ";\\d*(_\\d)*\\.\\d*([eE][+-]*\\d+(_\\d)*)* #flotantes con enteros\n",
    "\n",
    ";#flotantes hexadecimales como 0x2_3.p10_12_2222_2 sin tener numeros despues del .\n",
    ";0[xX][_]*[0-9a-fA-F]+(_[0-9a-fA-F])*\\.p[0-9a-fA-F]+(_[0-9a-fA-F]+)* \n",
    ";final casi bueno 0[xX][_]*[0-9a-fA-F]*(_[0-9a-fA-F]+)*[.]*[0-9a-fA-F]*(_[0-9a-fA-F]+)*[pP][+-]*[0-9a-fA-F]+(_[0-9a-fA-F]+)*\n",
    ";caso que acepta 1.p 0[xX][_]*[0-9a-fA-F]+(_[0-9a-fA-F]+)*[.]*[0-9a-fA-F]*(_[0-9a-fA-F]+)*[pP][+-]*[0-9a-fA-F]+(_[0-9a-fA-F]+)*\n",
    ";caso que acepta .1p 0[xX][_]*[0-9a-fA-F]*(_[0-9a-fA-F]+)*[.]*[0-9a-fA-F]+(_[0-9a-fA-F]+)*[pP][+-]*[0-9a-fA-F]+(_[0-9a-fA-F]+)*"
   ]
  },
  {
   "cell_type": "code",
   "execution_count": null,
   "metadata": {},
   "outputs": [],
   "source": []
  }
 ],
 "metadata": {
  "kernelspec": {
   "display_name": "Clojure (clojupyter=0.3.2=1)",
   "language": "clojure",
   "name": "conda-clojupyter"
  },
  "language_info": {
   "file_extension": ".clj",
   "mimetype": "text/x-clojure",
   "name": "clojure",
   "version": "1.10.1"
  }
 },
 "nbformat": 4,
 "nbformat_minor": 4
}
