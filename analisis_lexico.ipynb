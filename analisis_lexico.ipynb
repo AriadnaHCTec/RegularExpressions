{
 "cells": [
  {
   "cell_type": "markdown",
   "metadata": {
    "tags": []
   },
   "source": [
    "# Proyecto integrador\n",
    "\n",
    "Miguel Ángel Pérez López A01750145\n",
    "\n",
    "Ariadna Huesca Coronado A01749161\n",
    "\n",
    "Lenguaje: GO\n",
    "\n",
    "https://golang.org/ref/spec#Floating-point_literals\n",
    "\n",
    "http://www.regular-expressions.info/unicode.html#prop"
   ]
  },
  {
   "cell_type": "code",
   "execution_count": 1,
   "metadata": {},
   "outputs": [
    {
     "data": {
      "text/plain": [
       "nil"
      ]
     },
     "execution_count": 1,
     "metadata": {},
     "output_type": "execute_result"
    }
   ],
   "source": [
    ";; External function required for this notebook.\n",
    "(require '[clojure.test :refer [is]])"
   ]
  },
  {
   "cell_type": "markdown",
   "metadata": {
    "heading_collapsed": true,
    "tags": [],
    "toc-hr-collapsed": true
   },
   "source": [
    "## Pruebas unitarias"
   ]
  },
  {
   "cell_type": "markdown",
   "metadata": {
    "heading_collapsed": true,
    "hidden": true,
    "tags": []
   },
   "source": [
    "### Variable"
   ]
  },
  {
   "cell_type": "code",
   "execution_count": 2,
   "metadata": {
    "hidden": true
   },
   "outputs": [
    {
     "data": {
      "text/plain": [
       "true"
      ]
     },
     "execution_count": 2,
     "metadata": {},
     "output_type": "execute_result"
    }
   ],
   "source": [
    ";;; Regular expression:\n",
    "(def GO-variable #\"(?xi)\n",
    "                    [\\p{L}_][\\p{L}\\p{N}_]*\") \n",
    "(is (re-matches GO-variable \"a\"))\n",
    "(is (re-matches GO-variable \"_x9\"))\n",
    "(is (re-matches GO-variable \"ThisVariableIsExported\"))\n",
    "(is (re-matches GO-variable \"αβ\"))\n",
    "(is (not (re-matches GO-variable \".\")))"
   ]
  },
  {
   "cell_type": "markdown",
   "metadata": {
    "hidden": true
   },
   "source": [
    "STRING"
   ]
  },
  {
   "cell_type": "code",
   "execution_count": 3,
   "metadata": {
    "hidden": true
   },
   "outputs": [
    {
     "data": {
      "text/plain": [
       "true"
      ]
     },
     "execution_count": 3,
     "metadata": {},
     "output_type": "execute_result"
    }
   ],
   "source": [
    "(def GO-string #\"(?xi)\n",
    "                    `[^`]*`|\n",
    "                    \\\"([^\\\\\\\"]|\n",
    "                        \\\\ \n",
    "                        ([abfnrtv\\\\\\\"`]|\n",
    "                          U[\\dA-F]{4}|\n",
    "                          [0-7]{3}|\n",
    "                          x[\\dA-F]{2}))* \n",
    "                    \\\"\") \n",
    "(is (re-matches GO-string \"`abc`\"))\n",
    "(is (re-matches GO-string \"`\\n \\n`\"))\n",
    "(is (re-matches GO-string \"\\\"\\\\\\\"\\\"\"))\n",
    "(is (re-matches GO-string \"\\\"Hello, world!\\\\n\\\"\"))\n",
    "(is (re-matches GO-string \"\\\"日本語\\\"\"))\n",
    "(is (re-matches GO-string \"\\\"\\\\u65e5本\\\\U00008a9e\\\"\"))\n",
    "(is (re-matches GO-string \"\\\"\\\\xff\\\\u00FF\\\"\"))\n",
    "(is (not (re-matches GO-string \"\\\"\\\\0\\\"\")))\n",
    "(is (not (re-matches GO-string \"\\\"\\\\xa\\\"\")));este era con U\n",
    "(is (not (re-matches GO-string \"\\\"\\\\UabcZ\\\"\")));este era con U\n",
    "(is (not (re-matches GO-string \"\\\"\\\\\\\"\")));este era con U"
   ]
  },
  {
   "cell_type": "code",
   "execution_count": 4,
   "metadata": {
    "hidden": true
   },
   "outputs": [
    {
     "name": "stdout",
     "output_type": "stream",
     "text": [
      "\n",
      "FAIL in () (NO_SOURCE_FILE:4)\n",
      "expected: (re-matches GO-string \"var\")\n",
      "  actual: (not (re-matches #\"(?xi)\n",
      "                    (import|var|true|false)\\s\" \"var\"))\n",
      "\n",
      "FAIL in () (NO_SOURCE_FILE:5)\n",
      "expected: (re-matches GO-string \"true\")\n",
      "  actual: (not (re-matches #\"(?xi)\n",
      "                    (import|var|true|false)\\s\" \"true\"))\n",
      "\n",
      "FAIL in () (NO_SOURCE_FILE:6)\n",
      "expected: (re-matches GO-string \"false\")\n",
      "  actual: (not (re-matches #\"(?xi)\n",
      "                    (import|var|true|false)\\s\" \"false\"))\n"
     ]
    },
    {
     "data": {
      "text/plain": [
       "true"
      ]
     },
     "execution_count": 4,
     "metadata": {},
     "output_type": "execute_result"
    }
   ],
   "source": [
    "(def GO-string #\"(?xi)\n",
    "                    (import|var|true|false)\\s\") \n",
    "(is (re-matches GO-string \"import \"))\n",
    "(is (re-matches GO-string \"var\"))\n",
    "(is (re-matches GO-string \"true\"))\n",
    "(is (re-matches GO-string \"false\"))\n",
    "(is (not (re-matches GO-string \" \")))\n",
    "(is (not (re-matches GO-string \"importar\")))\n",
    "(is (not (re-matches GO-string \"_var\")))"
   ]
  },
  {
   "cell_type": "markdown",
   "metadata": {},
   "source": [
    "1. fn2: exportar archivo html\n",
    "2. fn1: (inicio intermedio final) : string \n",
    "3. intermedio: (\"<span class=\" \" resultado(float,var) \">\"  contenido \"</span>\"\n",
    "4. contenido: (< (menor que)   ➔   &lt; > (mayor que)   ➔   &gt; & (ampersand)   ➔   &amp;)"
   ]
  },
  {
   "cell_type": "markdown",
   "metadata": {
    "tags": []
   },
   "source": [
    "## Secuencial"
   ]
  },
  {
   "cell_type": "markdown",
   "metadata": {
    "tags": [],
    "toc-hr-collapsed": true
   },
   "source": [
    "### Secuencia Inicial"
   ]
  },
  {
   "cell_type": "code",
   "execution_count": 5,
   "metadata": {},
   "outputs": [
    {
     "data": {
      "text/plain": [
       "#'user/regex"
      ]
     },
     "execution_count": 5,
     "metadata": {},
     "output_type": "execute_result"
    }
   ],
   "source": [
    "(def regex #\"(?xi)\n",
    "  ((?:import|var|true|false|func|switch|if|return|case|for|new|Float|struct|type)[^A-Z\\d]{1})  # Grupo 1: Constantes\n",
    "  |( [\\p{L}_][\\p{L}\\p{N}_]* )                # Grupo 2: Variables\n",
    "  |((?:\\d+(?:_\\d+)*)*\\.\\d+(?:_\\d+)*(?:[eE][+-]??\\d+(?:_\\d+)*)* #Grupo 3 Flotantes\n",
    "    |(?:\\d+(?:_\\d+)*)+\\.\\d*(?:_\\d+)*(?:[eE][+-]??\\d+(?:\\d+)*)*\n",
    "    |0[xX][_]*(?:[0-9a-fA-F]+(?:_[0-9a-fA-F]+)*[.]*[0-9a-fA-F]*\n",
    "    |[0-9a-fA-F]*(?:_[0-9a-fA-F]+)*[.]*[0-9a-fA-F]+)\n",
    "    (?:_[0-9a-fA-F]+)*[pPeE][+-]??[0-9a-fA-F]+(?:_[0-9a-fA-F]+)*)\n",
    "  | (0[oO][_]*[0-7]+(?:_[0-7]+)*              #Grupo 4 enteros\n",
    "    |0[xX][0-9a-fA-F]+(?:_[0-9a-fA-F]+)*\n",
    "    |0[bB][01]+(?:_[01]+)*|(?:[0]+\\d*(?:_\\d+)*\n",
    "    |[1-9]+\\d*(?:_\\d+)*)[eE][+-]??(?:[0]+\\d*(?:_\\d+)*|[1-9]+\\d*(?:_\\d+)*)\n",
    "    |[0]+\\d*(?:_\\d+)*\\d+|[1-9]+\\d*(?:_\\d+)*|0)\n",
    "  | ( // .*|[/][*][^*]*[*]+(?:[^*/][^*]*[*]+)*[/]) # Grupo 5: Comentario\n",
    "  | (`[^`]*?`|\\\"(?:[^\\\\]|\\\\(?:[abfnrtv\\\\\\\"`]\n",
    "    |[^\\\"\\n\\\\]|U[\\dA-F]{4}|[0-7]{3}|x[\\dA-F]{2}))*?\\\")   # Grupo 6: String\n",
    "  | ([-+|*&/%^:]??=|(?:<<|>>|&\\^)=)                   # Grupo 7: Operador de Asignacion\n",
    "  | ([|]{2}|&{2}|!)                           # Grupo 8: Operador Lógico\n",
    "  | (>>|<<|(?:&\\^)|[-+*/%&|^])                # Grupo 9: Operador Aritmético\n",
    "  | ( [\\(\\)\\{\\}] )                            # Grupo 10: Puntuación\n",
    "  | ( \\s )                                    # Grupo 11: Otro\n",
    "  | ( . )                                     # Grupo 12: Carácter inválido\")"
   ]
  },
  {
   "cell_type": "code",
   "execution_count": 6,
   "metadata": {},
   "outputs": [
    {
     "data": {
      "text/plain": [
       "#'user/tokenize-file"
      ]
     },
     "execution_count": 6,
     "metadata": {},
     "output_type": "execute_result"
    }
   ],
   "source": [
    "(defn tokenize-file\n",
    "  [file-name]\n",
    "  (->> (re-seq regex (slurp (clojure.string/join [\"archivos/\" file-name])))\n",
    "       (map (fn [match]\n",
    "              (let [token (match 0)]\n",
    "                (cond\n",
    "                  (match 1) [token \"Constante\"]\n",
    "                  (match 2) [token \"Variable\"]\n",
    "                  (match 3) [token \"Flotante\"]\n",
    "                  (match 4) [token \"Entero\"]\n",
    "                  (match 5) [token \"Comentario\"]\n",
    "                  (match 6) [token \"String\"]\n",
    "                  (match 7) [token \"Asignacion\"]\n",
    "                  (match 8) [token \"Logico\"]\n",
    "                  (match 9) [token \"Aritmetico\"]\n",
    "                  (match 10) [token \"Puntuacion\"]\n",
    "                  (match 11) [token \"Espacio\"]\n",
    "                  (match 12) [token \"Invalido\"]))))))"
   ]
  },
  {
   "cell_type": "markdown",
   "metadata": {},
   "source": [
    "### En HTML"
   ]
  },
  {
   "cell_type": "code",
   "execution_count": 7,
   "metadata": {},
   "outputs": [
    {
     "data": {
      "text/plain": [
       "#'user/reemplaza"
      ]
     },
     "execution_count": 7,
     "metadata": {},
     "output_type": "execute_result"
    }
   ],
   "source": [
    "(defn reemplaza [string]\n",
    "  \"Remplaza carácteres &,<,> por sus equivalentes en html.\"\n",
    "  (->> (clojure.string/replace string #\"&\" \"&amp\")\n",
    "       (map (fn [string] (clojure.string/replace string #\"<\" \"&lt\")))\n",
    "       (map (fn [string] (clojure.string/replace string #\">\" \"&gt\")))\n",
    "       (reduce str)))"
   ]
  },
  {
   "cell_type": "code",
   "execution_count": 8,
   "metadata": {},
   "outputs": [
    {
     "data": {
      "text/plain": [
       "#'user/etiquetas"
      ]
     },
     "execution_count": 8,
     "metadata": {},
     "output_type": "execute_result"
    }
   ],
   "source": [
    "(defn etiquetas [file-name]\n",
    "    \"Genera las etiquetas HTML.\"\n",
    "  (->> (tokenize-file file-name)\n",
    "       (map (fn [t] (if (= (t 1) \"Espacio\")\n",
    "                      (t 0)\n",
    "                      (clojure.string/join \n",
    "                       [\"<span id = '\" \n",
    "                        (t 1) \n",
    "                        \"'>\" \n",
    "                        (reemplaza (t 0)) \n",
    "                        \"</span>\"]))))\n",
    "       (reduce str)))"
   ]
  },
  {
   "cell_type": "code",
   "execution_count": 9,
   "metadata": {},
   "outputs": [
    {
     "data": {
      "text/plain": [
       "#'user/final"
      ]
     },
     "execution_count": 9,
     "metadata": {},
     "output_type": "execute_result"
    }
   ],
   "source": [
    "(defn final [file-name]\n",
    "  (clojure.string/join [(slurp \"inicio.txt\")\n",
    "                        (etiquetas file-name)\n",
    "                        (slurp \"final.txt\")]))"
   ]
  },
  {
   "cell_type": "code",
   "execution_count": 10,
   "metadata": {},
   "outputs": [
    {
     "data": {
      "text/plain": [
       "#'user/procesa-texto"
      ]
     },
     "execution_count": 10,
     "metadata": {},
     "output_type": "execute_result"
    }
   ],
   "source": [
    ";funcion final\n",
    "(defn procesa-texto [file-name]\n",
    "  (spit (clojure.string/join [\"Resultado/\" file-name \".html\"]) \n",
    "        (final (clojure.string/join [file-name \".go\"]))))"
   ]
  },
  {
   "cell_type": "code",
   "execution_count": 11,
   "metadata": {},
   "outputs": [
    {
     "data": {
      "text/plain": [
       "#'user/get-file-info"
      ]
     },
     "execution_count": 11,
     "metadata": {},
     "output_type": "execute_result"
    }
   ],
   "source": [
    "(defn get-file-info\n",
    "  [dir]\n",
    "  (map (fn [f]\n",
    "         [(.getPath f) (.isFile f) (.getName f)]);obtiene 3 informaciones de cada archivo\n",
    "       (file-seq (clojure.java.io/file dir))));   para usarlo en la función valid-file-names qu esta abajo"
   ]
  },
  {
   "cell_type": "code",
   "execution_count": 12,
   "metadata": {},
   "outputs": [
    {
     "data": {
      "text/plain": [
       "#'user/valid-file-names"
      ]
     },
     "execution_count": 12,
     "metadata": {},
     "output_type": "execute_result"
    }
   ],
   "source": [
    ";Esta función sirve para obtener todos los nombres que se encuentren en la carpeta a analizar.\n",
    ";Como en la función de procesa-texto se pide el nombre del archivo sin extensión,\n",
    ";cree esta función\n",
    "(defn valid-file-names\n",
    "  [dir]                                        ;obtiene los nombres del directorio\n",
    "  (->> (for [f (get-file-info dir) :when (f 1)];(f 1) es true o false si es archivo o no\n",
    "            (f 2)) ;si (f 1) es verdadero se incluye el nombre del archivo\n",
    "       (remove (fn [string1] (re-seq #\"(?xi) (checkpoint|[.]css|[.]html)\" string1)));quita archivos checkpoint que hace jupyterlab, archivos html y css\n",
    "       (map (fn [string] (clojure.string/replace string #\".go\" \"\")));los archivos go le quita su extensión\n",
    "       (map (fn [name1] (clojure.string/join [dir \"/\" name1])))));le agrega su extensión que se pone como parámetro dir\n",
    "                                                    ;porque si sólo se queda el nombre, no va a encontrar el archivo en caso de que\n",
    "                                                    ;el archivo este en otro directorio"
   ]
  },
  {
   "cell_type": "markdown",
   "metadata": {},
   "source": [
    "## Solución con una lista"
   ]
  },
  {
   "cell_type": "code",
   "execution_count": 13,
   "metadata": {},
   "outputs": [
    {
     "data": {
      "text/plain": [
       "#'user/part-one2"
      ]
     },
     "execution_count": 13,
     "metadata": {},
     "output_type": "execute_result"
    }
   ],
   "source": [
    "(defn part-one2    ;esta función hace lo mismo pero recibe una lista de los nombres\n",
    "  [directory]\n",
    "  (map procesa-texto directory))"
   ]
  },
  {
   "cell_type": "code",
   "execution_count": 20,
   "metadata": {},
   "outputs": [
    {
     "name": "stdout",
     "output_type": "stream",
     "text": [
      "(binary128 binary16_test calculator client config_test decoder_test fuzzy_decoder fuzzy_decoder_test hellopb jsoniter_array_test otroServer point_test response server singlelinkedlist stream_str struct_embedded_test struct_tags_test test_stale_repositories Ultimo Untitled.ipynb)\n"
     ]
    },
    {
     "data": {
      "text/plain": [
       "nil"
      ]
     },
     "execution_count": 20,
     "metadata": {},
     "output_type": "execute_result"
    }
   ],
   "source": [
    "(def archivos-prueba (map #(clojure.string/replace % #\"archivos/\" \"\") (valid-file-names \"archivos\")))\n",
    "(println archivos-prueba)"
   ]
  },
  {
   "cell_type": "code",
   "execution_count": 15,
   "metadata": {},
   "outputs": [
    {
     "name": "stderr",
     "output_type": "stream",
     "text": [
      "Error printing return value (FileNotFoundException) at java.io.FileInputStream/open0 (FileInputStream.java:-2).\n",
      "archivos\\Untitled.ipynb.go (El sistema no puede encontrar el archivo especificado)\n"
     ]
    },
    {
     "ename": "class clojure.lang.ExceptionInfo",
     "evalue": "",
     "execution_count": 15,
     "output_type": "error",
     "status": "error",
     "traceback": [
      "FileInputStream.java:    -2 java.io.FileInputStream/open0",
      "FileInputStream.java:   195 java.io.FileInputStream/open",
      "FileInputStream.java:   138 java.io.FileInputStream/<init>",
      "              io.clj:   229 clojure.java.io$fn__11496/invokeStatic",
      "              io.clj:    69 clojure.java.io$fn__11409$G__11402__11416/invoke",
      "              io.clj:   258 clojure.java.io$fn__11508/invokeStatic",
      "              io.clj:   254 clojure.java.io$fn__11508/invoke",
      "              io.clj:    69 clojure.java.io$fn__11409$G__11402__11416/invoke",
      "              io.clj:   165 clojure.java.io$fn__11470/invokeStatic",
      "              io.clj:    69 clojure.java.io$fn__11422$G__11398__11429/invoke",
      "              io.clj:   102 clojure.java.io$reader/invokeStatic",
      "              io.clj:    86 clojure.java.io$reader/doInvoke",
      "         RestFn.java:   410 clojure.lang.RestFn/invoke",
      "            AFn.java:   154 clojure.lang.AFn/applyToHelper",
      "         RestFn.java:   132 clojure.lang.RestFn/applyTo",
      "            core.clj:   667 clojure.core$apply/invokeStatic",
      "            core.clj:  6942 clojure.core$slurp/invokeStatic",
      "         RestFn.java:   410 clojure.lang.RestFn/invoke",
      "            core.clj:  2755 clojure.core$map$fn__5866/invoke",
      "        LazySeq.java:    42 clojure.lang.LazySeq/sval",
      "        LazySeq.java:    51 clojure.lang.LazySeq/seq",
      "           Cons.java:    39 clojure.lang.Cons/next",
      "             RT.java:   713 clojure.lang.RT/next",
      "            core.clj:    64 clojure.core$next__5386/invokeStatic",
      "      core_print.clj:    64 clojure.core$print_sequential/invokeStatic",
      "      core_print.clj:   174 clojure.core$fn__7310/invokeStatic",
      "        MultiFn.java:   234 clojure.lang.MultiFn/invoke",
      "            core.clj:  3674 clojure.core$pr_on/invokeStatic",
      "            core.clj:  3677 clojure.core$pr/invokeStatic",
      "            AFn.java:   154 clojure.lang.AFn/applyToHelper",
      "         RestFn.java:   132 clojure.lang.RestFn/applyTo",
      "            core.clj:   665 clojure.core$apply/invokeStatic",
      "            core.clj:  4736 clojure.core$pr_str/invokeStatic",
      "         RestFn.java:   408 clojure.lang.RestFn/invoke",
      "mime_convertible.clj:    12 clojupyter.misc.mime_convertible$fn__25587/invokeStatic",
      "mime_convertible.clj:     9 clojupyter.misc.mime_convertible$fn__25587/invoke",
      "mime_convertible.clj:     5 clojupyter.protocol.mime_convertible$fn__21275$G__21270__21280/invoke",
      "nrepl_middleware.clj:    20 clojupyter.kernel.nrepl_middleware$mime_values$fn$reify__25598/send",
      "            main.clj:   442 clojure.main$repl$read_eval_print__9086/invoke",
      "            main.clj:   458 clojure.main$repl$fn__9095/invoke",
      "            main.clj:   368 clojure.main$repl/doInvoke",
      "         RestFn.java:  1523 clojure.lang.RestFn/invoke",
      "            AFn.java:    22 clojure.lang.AFn/run",
      "            AFn.java:    22 clojure.lang.AFn/run",
      "         Thread.java:   748 java.lang.Thread/run"
     ]
    }
   ],
   "source": [
    "(part-one2 archivos-prueba)"
   ]
  },
  {
   "cell_type": "markdown",
   "metadata": {
    "tags": []
   },
   "source": [
    "## Paralelo"
   ]
  },
  {
   "cell_type": "code",
   "execution_count": 16,
   "metadata": {},
   "outputs": [
    {
     "data": {
      "text/plain": [
       "#'user/ranges-str"
      ]
     },
     "execution_count": 16,
     "metadata": {},
     "output_type": "execute_result"
    }
   ],
   "source": [
    ";esta función hace que haga una secuencia \n",
    "(defn ranges-str\n",
    "  [p strings]\n",
    "  (partition p strings))"
   ]
  },
  {
   "cell_type": "code",
   "execution_count": 17,
   "metadata": {},
   "outputs": [
    {
     "data": {
      "text/plain": [
       "#'user/parallel"
      ]
     },
     "execution_count": 17,
     "metadata": {},
     "output_type": "execute_result"
    }
   ],
   "source": [
    "(defn parallel\n",
    "  [p archivo]\n",
    "  (->> (partition p archivo)\n",
    "       (pmap \n",
    "         #(part-one2 %))))"
   ]
  },
  {
   "cell_type": "markdown",
   "metadata": {},
   "source": [
    "## Pruebas"
   ]
  },
  {
   "cell_type": "code",
   "execution_count": 18,
   "metadata": {},
   "outputs": [
    {
     "name": "stdout",
     "output_type": "stream",
     "text": [
      "\"Elapsed time: 0.0169 msecs\"\n",
      "\"Elapsed time: 0.0021 msecs\"\n",
      "\"Elapsed time: 0.0017 msecs\"\n",
      "\"Elapsed time: 0.0013 msecs\"\n",
      "\"Elapsed time: 0.0013 msecs\"\n"
     ]
    },
    {
     "data": {
      "text/plain": [
       "nil"
      ]
     },
     "execution_count": 18,
     "metadata": {},
     "output_type": "execute_result"
    }
   ],
   "source": [
    "(doseq [i (range 5)]\n",
    "  (time (part-one2 \n",
    "         archivos-prueba)))"
   ]
  },
  {
   "cell_type": "code",
   "execution_count": 19,
   "metadata": {},
   "outputs": [
    {
     "name": "stdout",
     "output_type": "stream",
     "text": [
      "\"Elapsed time: 1.8538 msecs\"\n",
      "\"Elapsed time: 0.0707 msecs\"\n",
      "\"Elapsed time: 0.0582 msecs\"\n",
      "\"Elapsed time: 0.074 msecs\"\n",
      "\"Elapsed time: 0.0762 msecs\"\n"
     ]
    },
    {
     "data": {
      "text/plain": [
       "nil"
      ]
     },
     "execution_count": 19,
     "metadata": {},
     "output_type": "execute_result"
    }
   ],
   "source": [
    "(doseq [i (range 5)]\n",
    "  (time (parallel\n",
    "         10 archivos-prueba)))"
   ]
  },
  {
   "cell_type": "code",
   "execution_count": null,
   "metadata": {},
   "outputs": [],
   "source": []
  }
 ],
 "metadata": {
  "kernelspec": {
   "display_name": "Clojure (clojupyter=0.3.2=1)",
   "language": "clojure",
   "name": "conda-clojupyter"
  },
  "language_info": {
   "file_extension": ".clj",
   "mimetype": "text/x-clojure",
   "name": "clojure",
   "version": "1.10.1"
  },
  "toc": {
   "base_numbering": 1,
   "nav_menu": {},
   "number_sections": true,
   "sideBar": true,
   "skip_h1_title": false,
   "title_cell": "Table of Contents",
   "title_sidebar": "Contents",
   "toc_cell": false,
   "toc_position": {
    "height": "calc(100% - 180px)",
    "left": "10px",
    "top": "150px",
    "width": "286px"
   },
   "toc_section_display": true,
   "toc_window_display": true
  }
 },
 "nbformat": 4,
 "nbformat_minor": 4
}
