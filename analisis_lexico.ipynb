{
 "cells": [
  {
   "cell_type": "markdown",
   "metadata": {
    "tags": []
   },
   "source": [
    "# Proyecto integrador\n",
    "\n",
    "Miguel Ángel Pérez López A01750145\n",
    "\n",
    "Ariadna Huesca Coronado A01749161\n",
    "\n",
    "Lenguaje: GO\n",
    "\n",
    "https://golang.org/ref/spec#Floating-point_literals\n",
    "\n",
    "http://www.regular-expressions.info/unicode.html#prop"
   ]
  },
  {
   "cell_type": "code",
   "execution_count": 1,
   "metadata": {},
   "outputs": [
    {
     "data": {
      "text/plain": [
       "nil"
      ]
     },
     "execution_count": 1,
     "metadata": {},
     "output_type": "execute_result"
    }
   ],
   "source": [
    ";; External function required for this notebook.\n",
    "(require '[clojure.test :refer [is]])"
   ]
  },
  {
   "cell_type": "markdown",
   "metadata": {
    "heading_collapsed": true,
    "tags": []
   },
   "source": [
    "## Pruebas unitarias"
   ]
  },
  {
   "cell_type": "markdown",
   "metadata": {
    "heading_collapsed": true,
    "hidden": true,
    "tags": [],
    "toc-hr-collapsed": true
   },
   "source": [
    "### Variable"
   ]
  },
  {
   "cell_type": "code",
   "execution_count": 2,
   "metadata": {
    "hidden": true
   },
   "outputs": [
    {
     "data": {
      "text/plain": [
       "true"
      ]
     },
     "execution_count": 2,
     "metadata": {},
     "output_type": "execute_result"
    }
   ],
   "source": [
    ";;; Regular expression:\n",
    "(def GO-variable #\"(?xi)\n",
    "                    [\\p{L}_][\\p{L}\\p{N}_]*\") \n",
    "(is (re-matches GO-variable \"a\"))\n",
    "(is (re-matches GO-variable \"_x9\"))\n",
    "(is (re-matches GO-variable \"ThisVariableIsExported\"))\n",
    "(is (re-matches GO-variable \"αβ\"))\n",
    "(is (not (re-matches GO-variable \".\")))"
   ]
  },
  {
   "cell_type": "markdown",
   "metadata": {
    "hidden": true
   },
   "source": [
    "STRING"
   ]
  },
  {
   "cell_type": "code",
   "execution_count": 3,
   "metadata": {
    "hidden": true
   },
   "outputs": [
    {
     "data": {
      "text/plain": [
       "true"
      ]
     },
     "execution_count": 3,
     "metadata": {},
     "output_type": "execute_result"
    }
   ],
   "source": [
    "(def GO-string #\"(?xi)\n",
    "                    `[^`]*`|\n",
    "                    \\\"([^\\\\]|\n",
    "                        \\\\ \n",
    "                        ([abfnrtv\\\\\\\"`]|\n",
    "                          U[\\dA-F]{4}|\n",
    "                          [0-7]{3}|\n",
    "                          x[\\dA-F]{2}))* \n",
    "                    \\\"\") \n",
    "(is (re-matches GO-string \"`abc`\"))\n",
    "(is (re-matches GO-string \"`\\n \\n`\"))\n",
    "(is (re-matches GO-string \"\\\"\\\\\\\"\\\"\"))\n",
    "(is (re-matches GO-string \"\\\"Hello, world!\\\\n\\\"\"))\n",
    "(is (re-matches GO-string \"\\\"日本語\\\"\"))\n",
    "(is (re-matches GO-string \"\\\"\\\\u65e5本\\\\U00008a9e\\\"\"))\n",
    "(is (re-matches GO-string \"\\\"\\\\xff\\\\u00FF\\\"\"))\n",
    "(is (not (re-matches GO-string \"\\\"\\\\0\\\"\")))\n",
    "(is (not (re-matches GO-string \"\\\"\\\\xa\\\"\")));este era con U\n",
    "(is (not (re-matches GO-string \"\\\"\\\\UabcZ\\\"\")));este era con U\n",
    "(is (not (re-matches GO-string \"\\\"\\\\\\\"\")));este era con U"
   ]
  },
  {
   "cell_type": "code",
   "execution_count": 4,
   "metadata": {
    "hidden": true
   },
   "outputs": [
    {
     "data": {
      "text/plain": [
       "true"
      ]
     },
     "execution_count": 4,
     "metadata": {},
     "output_type": "execute_result"
    }
   ],
   "source": [
    "(def GO-string #\"(?xi)\n",
    "                    import|var|true|false\") \n",
    "(is (re-matches GO-string \"import\"))\n",
    "(is (re-matches GO-string \"var\"))\n",
    "(is (re-matches GO-string \"true\"))\n",
    "(is (re-matches GO-string \"false\"))\n",
    "(is (not (re-matches GO-string \" \")))\n",
    "(is (not (re-matches GO-string \"importar\")))\n",
    "(is (not (re-matches GO-string \"_var\")))"
   ]
  },
  {
   "cell_type": "markdown",
   "metadata": {
    "heading_collapsed": true,
    "hidden": true
   },
   "source": [
    "### Asignación"
   ]
  },
  {
   "cell_type": "markdown",
   "metadata": {
    "hidden": true
   },
   "source": [
    "### Version final hexadecimal\n",
    "\n",
    "0[xX][_]*([0-9a-fA-F]+(?:_[0-9a-fA-F]+)*[.]*[0-9a-fA-F]*|[0-9a-fA-F]*(?:_[0-9a-fA-F]+)*[.]*[0-9a-fA-F]+)(?:_[0-9a-fA-F]+)*[pPeE][+-]??[0-9a-fA-F]+(?:_[0-9a-fA-F]+)*"
   ]
  },
  {
   "cell_type": "code",
   "execution_count": 5,
   "metadata": {
    "hidden": true
   },
   "outputs": [
    {
     "data": {},
     "execution_count": 5,
     "metadata": {},
     "output_type": "execute_result"
    }
   ],
   "source": [
    ";0[oO][_]*[0-7]+(_[0-7]+)* #octal\n",
    ";0[xX][0-9a-fA-F]+(_[0-9a-fA-F]+)* #hexadecimal\n",
    ";0[bB][01]+(_[01]+)* #binario\n",
    "\n",
    ";[0]+(_\\d+)*\\d+ #enteros empezando con 0\n",
    ";[1-9]+\\d*(_\\d+)* #enteros que no empiezan con 0\n",
    "\n",
    ";\\d*(_\\d)*\\.\\d*([eE][+-]*\\d+(_\\d)*)* #flotantes con enteros\n",
    "\n",
    ";#flotantes hexadecimales como 0x2_3.p10_12_2222_2 sin tener numeros despues del .\n",
    ";0[xX][_]*[0-9a-fA-F]+(_[0-9a-fA-F])*\\.p[0-9a-fA-F]+(_[0-9a-fA-F]+)* \n",
    ";final casi bueno 0[xX][_]*[0-9a-fA-F]*(_[0-9a-fA-F]+)*[.]*[0-9a-fA-F]*(_[0-9a-fA-F]+)*[pP][+-]*[0-9a-fA-F]+(_[0-9a-fA-F]+)*\n",
    ";caso que acepta 1.p 0[xX][_]*[0-9a-fA-F]+(_[0-9a-fA-F]+)*[.]*[0-9a-fA-F]*(_[0-9a-fA-F]+)*[pP][+-]*[0-9a-fA-F]+(_[0-9a-fA-F]+)*\n",
    ";caso que acepta .1p 0[xX][_]*[0-9a-fA-F]*(_[0-9a-fA-F]+)*[.]*[0-9a-fA-F]+(_[0-9a-fA-F]+)*[pP][+-]*[0-9a-fA-F]+(_[0-9a-fA-F]+)*"
   ]
  },
  {
   "cell_type": "code",
   "execution_count": 6,
   "metadata": {
    "hidden": true
   },
   "outputs": [
    {
     "data": {
      "text/plain": [
       "#'user/mike2"
      ]
     },
     "execution_count": 6,
     "metadata": {},
     "output_type": "execute_result"
    }
   ],
   "source": [
    "(def mike2 #\"(?xi)\n",
    " >>={0,1}|<<={0,1} #aritmetico\n",
    "| [=><!]=| [><] #comparacion\n",
    "| [-+|^*&/%]??= #asignacion\n",
    "| |[|]{2}|&{2}|! #logico\n",
    "| [-+*/%&|^]|(&^) #aritmetico\n",
    "| (\\s)\n",
    "  \")"
   ]
  },
  {
   "cell_type": "code",
   "execution_count": 7,
   "metadata": {
    "hidden": true
   },
   "outputs": [
    {
     "data": {
      "text/plain": [
       "#'user/mike"
      ]
     },
     "execution_count": 7,
     "metadata": {},
     "output_type": "execute_result"
    }
   ],
   "source": [
    "(def mike #\"(?xi)\n",
    "  0[oO][_]*[0-7]+(?:_[0-7]+)*|0[xX][0-9a-fA-F]+(?:_[0-9a-fA-F]+)*\n",
    "  |0[bB][01]+(?:_[01]+)*|(?:[0]+\\d*(?:_\\d+)*\n",
    "  |[1-9]+\\d*(?:_\\d+)*)[eE][+-]??(?:[0]+\\d*(?:_\\d+)*|[1-9]+\\d*(?:_\\d+)*)\n",
    "  |[0]+\\d*(?:_\\d+)*\\d+| [1-9]+\\d*(?:_\\d+)*|0 #enteros\n",
    "  | \\d*(?:_\\d)*\\.\\d*(?:[eE][+-]??\\d+(?:_\\d)*)*\n",
    "  |0[xX][_]*([0-9a-fA-F]+(?:_[0-9a-fA-F]+)*[.]*[0-9a-fA-F]*\n",
    "  |[0-9a-fA-F]*(?:_[0-9a-fA-F]+)*[.]*[0-9a-fA-F]+)(?:_[0-9a-fA-F]+)*[pPeE][+-]??[0-9a-fA-F]+(?:_[0-9a-fA-F]+)* #hexadecimales flotantes\n",
    "  | >>={0,1}|<<={0,1}|[-+*/%&|^]|(&^)#aritmetico\n",
    "  | [=><!]=| [><] #comparacion\n",
    "  | [-+|^*&/%]??= #asignacion\n",
    "  | |[|]{2}|&{2}|! #logico\n",
    "  | (?:// .* )      #Comentario\n",
    "  | (?: \\s )\n",
    "  \")"
   ]
  },
  {
   "cell_type": "code",
   "execution_count": 8,
   "metadata": {
    "hidden": true
   },
   "outputs": [
    {
     "data": {
      "text/plain": [
       "[\"!\" nil nil]"
      ]
     },
     "execution_count": 8,
     "metadata": {},
     "output_type": "execute_result"
    }
   ],
   "source": [
    ";enteros\n",
    "(is (re-matches mike \"0\"))\n",
    "(is (re-matches mike \"3\"))\n",
    "(is (re-matches mike \"4_4543_35435_2\"))\n",
    "(is (re-matches mike \"342_3242_2342\"))\n",
    "(is (re-matches mike \"7_7\"))\n",
    "(is (re-matches mike \"00_232_232\"))\n",
    "(is (re-matches mike \"0_232_232\"))\n",
    "(is (re-matches mike \"8699874238403009\"))\n",
    "(is (re-matches mike \"43216400\"))\n",
    "(is (re-matches mike \"00089970\"))\n",
    "(is (re-matches mike \"08989\"))\n",
    "(is (re-matches mike \"7678575\"))\n",
    "(is (re-matches mike \"0o6565467\"))\n",
    "(is (re-matches mike \"0x435F564A\"))\n",
    "(is (re-matches mike \"0X000_3_f565\"))\n",
    "(is (re-matches mike \"0x47464456f_32f_3_3\"))\n",
    "(is (re-matches mike \"0b10100_01_1\"))\n",
    "(is (re-matches mike \"0B00_1_111\"))\n",
    "(is (re-matches mike \"0o_6_3432_2_34\"))\n",
    "(is (re-matches mike \"0O4_43_2432\"))\n",
    "(is (re-matches mike \"0_54654654\"))\n",
    "(is (re-matches mike \"//Hello\"))\n",
    "(is (re-matches mike \"0xBad_Face\"))\n",
    ";flotantes enteros\n",
    "(is (re-matches mike \"0.\"))\n",
    "(is (re-matches mike \"72.40\"))\n",
    "(is (re-matches mike \"7_2.40\"))\n",
    "(is (re-matches mike \"072.40\"))\n",
    "(is (re-matches mike \"2.71828\"))\n",
    "(is (re-matches mike \"1.e+0\"))\n",
    "(is (re-matches mike \"1.e+0_4_4_4\"))\n",
    "(is (re-matches mike \"6.67428e-11\"))\n",
    ";checar este caso\n",
    "(is (re-matches mike \".25\"))\n",
    "(is (re-matches mike \".12345E+5\"))\n",
    "(is (re-matches mike \"1_5.\"))\n",
    "(is (re-matches mike \"0.15e+0_2\"))\n",
    ";flotantes con e sin punto\n",
    "(is (re-matches mike \"1E6\"))\n",
    "(is (re-matches mike \"0E6\"))\n",
    "(is (re-matches mike \"434_43e423\"))\n",
    "(is (re-matches mike \"00565_443_4e4_4\"))\n",
    "(is (not (re-matches mike \"4534545e_e\")))\n",
    ";flotantes hexadecimales\n",
    "(is (re-matches mike \"0x2.p10\"))\n",
    "(is (re-matches mike \"0x2_3.p10_12_2222_2\"))\n",
    "(is (re-matches mike \"0X1.p1\"))\n",
    "(is (re-matches mike \"0x_4.p43\"))\n",
    "(is (re-matches mike \"0x_4p45\"))\n",
    "(is (re-matches mike \"0x1p-2\"))\n",
    "(is (re-matches mike \"0x3_3._32p3\"))\n",
    "(is (re-matches mike \"0x1.Fp+0\"))\n",
    "(is (re-matches mike \"0x.8p-0\"))\n",
    "(is (re-matches mike \"0X_1FFFP-16\"))\n",
    "(is (re-matches mike \"0x15e-2\"))\n",
    "(is (re-matches mike \"0x.1p1\"))\n",
    ";este caso es erróneo\n",
    "(is (not (re-matches mike \"0x.p1\")))\n",
    ";operadores\n",
    "(is (re-matches mike \"+=\"))\n",
    "(is (re-matches mike \"-=\"))\n",
    "(is (re-matches mike \"|=\"))\n",
    "(is (re-matches mike \"==\"))\n",
    "(is (re-matches mike \"^=\"))\n",
    "(is (re-matches mike \"<\"))\n",
    "(is (re-matches mike \">\"))\n",
    "(is (re-matches mike \">>\"))\n",
    "(is (re-matches mike \"<<\"))\n",
    "(is (re-matches mike \"<<=\"))\n",
    "(is (re-matches mike \">>=\"))\n",
    "(is (not (re-matches mike \">>>=\")))\n",
    "(is (not (re-matches mike \"<<<=\")))\n",
    "(is (re-matches mike \"||\"))\n",
    "(is (re-matches mike \"&&\"))\n",
    "(is (re-matches mike \"!\"))"
   ]
  },
  {
   "cell_type": "code",
   "execution_count": 9,
   "metadata": {
    "hidden": true
   },
   "outputs": [
    {
     "data": {
      "text/plain": [
       "#'user/mike"
      ]
     },
     "execution_count": 9,
     "metadata": {},
     "output_type": "execute_result"
    }
   ],
   "source": [
    "(def mike #\"(?xi)\n",
    "  0[oO][_]*[0-7]+(?:_[0-7]+)*                 #octal\n",
    "| 0[xX][0-9a-fA-F]+(?:_[0-9a-fA-F]+)*         #hexadecimal\n",
    "| 0[bB][01]+(?:_[01]+)*                       #binario\n",
    "| (?:[0]+\\d*(?:_\\d+)*|[1-9]+\\d*(?:_\\d+)*)[eE][+-]??(?:[0]+\\d*(?:_\\d+)*|[1-9]+\\d*(?:_\\d+)*) #flotantes con E sin punto\n",
    "| [0]+\\d*(?:_\\d+)*\\d+                         #enteros empezando con 0\n",
    "| [1-9]+\\d*(?:_\\d+)*                          #enteros que no empiezan con 0\n",
    "| \\d*(?:_\\d)*\\.\\d*(?:[eE][+-]??\\d+(?:_\\d)*)*        #flotantes con enteros\n",
    "| 0[xX][_]*([0-9a-fA-F]+(?:_[0-9a-fA-F]+)*[.]*[0-9a-fA-F]*|[0-9a-fA-F]*(?:_[0-9a-fA-F]+)*[.]*[0-9a-fA-F]+)(?:_[0-9a-fA-F]+)*[pPeE][+-]??[0-9a-fA-F]+(?:_[0-9a-fA-F]+)* #hexadecimales flotantes\n",
    "| >>={0,1}|<<={0,1} #aritmetico\n",
    "| [=><!]=| [><] #comparacion\n",
    "| [-+|^*&/%]??= #asignacion\n",
    "| |[|]{2}|&{2}|! #logico\n",
    "| [-+*/%&|^]|(&^) #aritmetico\n",
    "| (?:// .* )                                  #Comentario\n",
    "| ( \\s ) \")"
   ]
  },
  {
   "cell_type": "markdown",
   "metadata": {},
   "source": [
    "## Tareas\n",
    "\n",
    "1. Entero 1\n",
    "2. FLotante 1\n",
    "3. Comentario 1\n",
    "4. Variable 1\n",
    "5. String\n",
    "6. Operadores (Asignación) = += *= Mmike\n",
    "7. Lógico (> < ==) Mike\n",
    "8. Aritmético(+ - *) mike\n",
    "9. Constantes (True, False, var) Ari\n",
    "10. Paréntesis y llaves Ari"
   ]
  },
  {
   "cell_type": "markdown",
   "metadata": {},
   "source": [
    "1. fn2: exportar archivo html\n",
    "2. fn1: (inicio intermedio final) : string \n",
    "3. intermedio: (\"<span class=\" \" resultado(float,var) \">\"  contenido \"</span>\"\n",
    "4. contenido: (< (menor que)   ➔   &lt; > (mayor que)   ➔   &gt; & (ampersand)   ➔   &amp;)"
   ]
  },
  {
   "cell_type": "markdown",
   "metadata": {},
   "source": [
    "### Hilos\n",
    "1. 20 archivos diferentes\n",
    "2. Script para copiar los archivos - Ari\n",
    "3. Solucion Secuencial\n",
    "4. Hilos\n",
    "5. Estadisticas"
   ]
  },
  {
   "cell_type": "markdown",
   "metadata": {},
   "source": [
    "### Otros\n",
    "1. Estilos de clojure - Mike\n",
    "2. Poster\n",
    "3. Revision"
   ]
  },
  {
   "cell_type": "markdown",
   "metadata": {
    "tags": []
   },
   "source": [
    "## Secuencial"
   ]
  },
  {
   "cell_type": "markdown",
   "metadata": {},
   "source": [
    "### Normal"
   ]
  },
  {
   "cell_type": "code",
   "execution_count": 10,
   "metadata": {},
   "outputs": [
    {
     "data": {
      "text/plain": [
       "#'user/regex"
      ]
     },
     "execution_count": 10,
     "metadata": {},
     "output_type": "execute_result"
    }
   ],
   "source": [
    "(def regex #\"(?xi)\n",
    "  (\\d*(?:_\\d)*\\.\\d*(?:[eE][+-]??\\d+(?:_\\d)*)* #Grupo 1 Flotantes\n",
    "    |0[xX][_]*(?:[0-9a-fA-F]+(?:_[0-9a-fA-F]+)*[.]*[0-9a-fA-F]*\n",
    "    |[0-9a-fA-F]*(?:_[0-9a-fA-F]+)*[.]*[0-9a-fA-F]+)\n",
    "    (?:_[0-9a-fA-F]+)*[pPeE][+-]??[0-9a-fA-F]+(?:_[0-9a-fA-F]+)*)\n",
    "  | (0[oO][_]*[0-7]+(?:_[0-7]+)*              #Grupo 2 enteros\n",
    "    |0[xX][0-9a-fA-F]+(?:_[0-9a-fA-F]+)*\n",
    "    |0[bB][01]+(?:_[01]+)*|(?:[0]+\\d*(?:_\\d+)*\n",
    "    |[1-9]+\\d*(?:_\\d+)*)[eE][+-]??(?:[0]+\\d*(?:_\\d+)*|[1-9]+\\d*(?:_\\d+)*)\n",
    "    |[0]+\\d*(?:_\\d+)*\\d+|[1-9]+\\d*(?:_\\d+)*|0)\n",
    "  | ( // .*|[/][*][^*]*[*]+(?:[^*/][^*]*[*]+)*[/]) # Grupo 3: Comentario\n",
    "  | (import|var|true|false)                   # Grupo 4: Constantes\n",
    "  | (`[^`]*`|\\\"(?:[^\\\\]|\\\\(?:[abfnrtv\\\\\\\"`]\n",
    "    |U[\\dA-F]{4}|[0-7]{3}|x[\\dA-F]{2}))*\\\")   # Grupo 5: String\n",
    "  | ([-+|*&/%^]??=|<<=|>>=)                   # Grupo 6: Operador de Asignacion\n",
    "  | ([|]{2}|&{2}|!)                           # Grupo 7: Operador Lógico\n",
    "  | (>>|<<|(?:&\\^)|[-+*/%&|^])                # Grupo 8: Operador Aritmético\n",
    "  | ( [\\p{L}_][\\p{L}\\p{N}_]* )                # Grupo 9: Variable\n",
    "  | ( [\\(\\)\\{\\}] )                            # Grupo 10: Puntuación\n",
    "  | ( \\s )                                    # Grupo 11: Otro\n",
    "  | ( . )                                     # Grupo 12: Carácter inválido\")"
   ]
  },
  {
   "cell_type": "code",
   "execution_count": 59,
   "metadata": {},
   "outputs": [
    {
     "data": {
      "text/plain": [
       "#'user/tokenize-file"
      ]
     },
     "execution_count": 59,
     "metadata": {},
     "output_type": "execute_result"
    }
   ],
   "source": [
    "(defn tokenize-file\n",
    "  [file-name]\n",
    "  (->> (re-seq regex (slurp (clojure.string/join [\"prueba1/\" file-name])))\n",
    "       (map (fn [match]\n",
    "              (let [token (match 0)]\n",
    "                (cond\n",
    "                  (match 1) [token \"Flotante\"]\n",
    "                  (match 2) [token \"Entero\"]\n",
    "                  (match 3) [token \"Comentario\"]\n",
    "                  (match 4) [token \"Constante\"]\n",
    "                  (match 5) [token \"String\"]\n",
    "                  (match 6) [token \"Asignacion\"]\n",
    "                  (match 7) [token \"Logico\"]\n",
    "                  (match 8) [token \"Aritmetico\"]\n",
    "                  (match 9) [token \"Variable\"]\n",
    "                  (match 10) [token \"Puntuacion\"]\n",
    "                  (match 11) [token \"Espacio\"]\n",
    "                  (match 12) [token \"Invalido\"]))))))"
   ]
  },
  {
   "cell_type": "code",
   "execution_count": 12,
   "metadata": {},
   "outputs": [
    {
     "name": "stderr",
     "output_type": "stream",
     "text": [
      "Syntax error compiling at (REPL:5:29).\n",
      "Unable to resolve symbol: file-name in this context\n"
     ]
    },
    {
     "ename": "class clojure.lang.Compiler$CompilerException",
     "evalue": "",
     "execution_count": 12,
     "output_type": "error",
     "status": "error",
     "traceback": [
      "  Util.java:   221 clojure.lang.Util/runtimeException",
      "   core.clj:  3214 clojure.core$eval/invokeStatic",
      "   core.clj:  3210 clojure.core$eval/invoke",
      "   main.clj:   437 clojure.main$repl$read_eval_print__9086$fn__9089/invoke",
      "   main.clj:   458 clojure.main$repl$fn__9095/invoke",
      "   main.clj:   368 clojure.main$repl/doInvoke",
      "RestFn.java:  1523 clojure.lang.RestFn/invoke",
      "   AFn.java:    22 clojure.lang.AFn/run",
      "   AFn.java:    22 clojure.lang.AFn/run",
      "Thread.java:   748 java.lang.Thread/run"
     ]
    }
   ],
   "source": [
    ";ignorar, pruebas\n",
    "(re-find regex (slurp \"binary128.go\"))\n",
    "(use 'clojure.java.io)\n",
    "(defn tokenize-file3 []\n",
    " (loop [token (re-seq regex (slurp file-name))\n",
    "        vector1 [ ]]\n",
    "  (if (seq token))\n",
    "   (recur (rest token) (conj vector1 (first token)))))\n",
    "\n",
    "(def vector1 [])\n",
    "(with-open [rdr (reader \"binary128.go\")]\n",
    "  (doseq [line (line-seq rdr)]\n",
    "    (conj vector1 (re-seq regex line))))\n",
    "\n",
    "(defn my-re-seq [re string]\n",
    "         \"Something like re-seq\"\n",
    "         (let [matcher (re-matcher re string)]\n",
    "\n",
    "           (loop [match (re-find matcher) ;loop starts with 2 set arguments\n",
    "                  result []]\n",
    "             (if-not match\n",
    "               result\n",
    "               (recur (re-find matcher)    ;loop with 2 new arguments\n",
    "                      (conj result match))))))"
   ]
  },
  {
   "cell_type": "code",
   "execution_count": 13,
   "metadata": {},
   "outputs": [
    {
     "name": "stdout",
     "output_type": "stream",
     "text": [
      "([//go:generate go run gen.go -o extra_test.go nil nil //go:generate go run gen.go -o extra_test.go nil nil nil nil nil nil nil nil nil])\n",
      "nil\n",
      "([// Package binary128 implements encoding and decoding of IEEE 754 quadruple nil nil // Package binary128 implements encoding and decoding of IEEE 754 quadruple nil nil nil nil nil nil nil nil nil])\n",
      "([// precision floating-point numbers. nil nil // precision floating-point numbers. nil nil nil nil nil nil nil nil nil])\n",
      "([// nil nil // nil nil nil nil nil nil nil nil nil])\n",
      "([// https://en.wikipedia.org/wiki/Quadruple-precision_floating-point_format nil nil // https://en.wikipedia.org/wiki/Quadruple-precision_floating-point_format nil nil nil nil nil nil nil nil nil])\n",
      "([package nil nil nil nil nil nil nil nil package nil nil nil] [  nil nil nil nil nil nil nil nil nil nil   nil] [binary128 nil nil nil nil nil nil nil nil binary128 nil nil nil])\n",
      "nil\n",
      "([import nil nil nil import nil nil nil nil nil nil nil nil] [  nil nil nil nil nil nil nil nil nil nil   nil] [( nil nil nil nil nil nil nil nil nil ( nil nil])\n",
      "([\t nil nil nil nil nil nil nil nil nil nil \t nil] [\"fmt\" nil nil nil nil \"fmt\" nil nil nil nil nil nil nil])\n",
      "([\t nil nil nil nil nil nil nil nil nil nil \t nil] [\"math\" nil nil nil nil \"math\" nil nil nil nil nil nil nil])\n",
      "([\t nil nil nil nil nil nil nil nil nil nil \t nil] [\"math/big\" nil nil nil nil \"math/big\" nil nil nil nil nil nil nil])\n",
      "([) nil nil nil nil nil nil nil nil nil ) nil nil])\n",
      "nil\n",
      "([const nil nil nil nil nil nil nil nil const nil nil nil] [  nil nil nil nil nil nil nil nil nil nil   nil] [( nil nil nil nil nil nil nil nil nil ( nil nil])\n",
      "([\t nil nil nil nil nil nil nil nil nil nil \t nil] [// precision specifies the number of bits in the mantissa (including the nil nil // precision specifies the number of bits in the mantissa (including the nil nil nil nil nil nil nil nil nil])\n",
      "([\t nil nil nil nil nil nil nil nil nil nil \t nil] [// implicit lead bit). nil nil // implicit lead bit). nil nil nil nil nil nil nil nil nil])\n",
      "([\t nil nil nil nil nil nil nil nil nil nil \t nil] [precision nil nil nil nil nil nil nil nil precision nil nil nil] [  nil nil nil nil nil nil nil nil nil nil   nil] [= nil nil nil nil nil = nil nil nil nil nil nil] [  nil nil nil nil nil nil nil nil nil nil   nil] [113 nil 113 nil nil nil nil nil nil nil nil nil nil])\n",
      "([\t nil nil nil nil nil nil nil nil nil nil \t nil] [// exponent bias. nil nil // exponent bias. nil nil nil nil nil nil nil nil nil])\n",
      "([\t nil nil nil nil nil nil nil nil nil nil \t nil] [bias nil nil nil nil nil nil nil nil bias nil nil nil] [  nil nil nil nil nil nil nil nil nil nil   nil] [= nil nil nil nil nil = nil nil nil nil nil nil] [  nil nil nil nil nil nil nil nil nil nil   nil] [16383 nil 16383 nil nil nil nil nil nil nil nil nil nil])\n",
      "([) nil nil nil nil nil nil nil nil nil ) nil nil])\n",
      "nil\n",
      "([// Positive and negative Not-a-Number, infinity and zero. nil nil // Positive and negative Not-a-Number, infinity and zero. nil nil nil nil nil nil nil nil nil])\n",
      "([var nil nil nil var nil nil nil nil nil nil nil nil] [  nil nil nil nil nil nil nil nil nil nil   nil] [( nil nil nil nil nil nil nil nil nil ( nil nil])\n",
      "([\t nil nil nil nil nil nil nil nil nil nil \t nil] [// +NaN nil nil // +NaN nil nil nil nil nil nil nil nil nil])\n",
      "([\t nil nil nil nil nil nil nil nil nil nil \t nil] [NaN nil nil nil nil nil nil nil nil NaN nil nil nil] [  nil nil nil nil nil nil nil nil nil nil   nil] [= nil nil nil nil nil = nil nil nil nil nil nil] [  nil nil nil nil nil nil nil nil nil nil   nil] [Float nil nil nil nil nil nil nil nil Float nil nil nil] [{ nil nil nil nil nil nil nil nil nil { nil nil] [a nil nil nil nil nil nil nil nil a nil nil nil] [: nil nil nil nil nil nil nil nil nil nil nil :] [  nil nil nil nil nil nil nil nil nil nil   nil] [0x7FFF800000000000 nil 0x7FFF800000000000 nil nil nil nil nil nil nil nil nil nil] [, nil nil nil nil nil nil nil nil nil nil nil ,] [  nil nil nil nil nil nil nil nil nil nil   nil] [b nil nil nil nil nil nil nil nil b nil nil nil] [: nil nil nil nil nil nil nil nil nil nil nil :] [  nil nil nil nil nil nil nil nil nil nil   nil] [0 nil 0 nil nil nil nil nil nil nil nil nil nil] [} nil nil nil nil nil nil nil nil nil } nil nil])\n",
      "([\t nil nil nil nil nil nil nil nil nil nil \t nil] [// -NaN nil nil // -NaN nil nil nil nil nil nil nil nil nil])\n",
      "([\t nil nil nil nil nil nil nil nil nil nil \t nil] [NegNaN nil nil nil nil nil nil nil nil NegNaN nil nil nil] [  nil nil nil nil nil nil nil nil nil nil   nil] [= nil nil nil nil nil = nil nil nil nil nil nil] [  nil nil nil nil nil nil nil nil nil nil   nil] [Float nil nil nil nil nil nil nil nil Float nil nil nil] [{ nil nil nil nil nil nil nil nil nil { nil nil] [a nil nil nil nil nil nil nil nil a nil nil nil] [: nil nil nil nil nil nil nil nil nil nil nil :] [  nil nil nil nil nil nil nil nil nil nil   nil] [0xFFFF800000000000 nil 0xFFFF800000000000 nil nil nil nil nil nil nil nil nil nil] [, nil nil nil nil nil nil nil nil nil nil nil ,] [  nil nil nil nil nil nil nil nil nil nil   nil] [b nil nil nil nil nil nil nil nil b nil nil nil] [: nil nil nil nil nil nil nil nil nil nil nil :] [  nil nil nil nil nil nil nil nil nil nil   nil] [0 nil 0 nil nil nil nil nil nil nil nil nil nil] [} nil nil nil nil nil nil nil nil nil } nil nil])\n",
      "([\t nil nil nil nil nil nil nil nil nil nil \t nil] [// +Inf nil nil // +Inf nil nil nil nil nil nil nil nil nil])\n",
      "([\t nil nil nil nil nil nil nil nil nil nil \t nil] [Inf nil nil nil nil nil nil nil nil Inf nil nil nil] [  nil nil nil nil nil nil nil nil nil nil   nil] [= nil nil nil nil nil = nil nil nil nil nil nil] [  nil nil nil nil nil nil nil nil nil nil   nil] [Float nil nil nil nil nil nil nil nil Float nil nil nil] [{ nil nil nil nil nil nil nil nil nil { nil nil] [a nil nil nil nil nil nil nil nil a nil nil nil] [: nil nil nil nil nil nil nil nil nil nil nil :] [  nil nil nil nil nil nil nil nil nil nil   nil] [0x7FFF000000000000 nil 0x7FFF000000000000 nil nil nil nil nil nil nil nil nil nil] [, nil nil nil nil nil nil nil nil nil nil nil ,] [  nil nil nil nil nil nil nil nil nil nil   nil] [b nil nil nil nil nil nil nil nil b nil nil nil] [: nil nil nil nil nil nil nil nil nil nil nil :] [  nil nil nil nil nil nil nil nil nil nil   nil] [0 nil 0 nil nil nil nil nil nil nil nil nil nil] [} nil nil nil nil nil nil nil nil nil } nil nil])\n",
      "([\t nil nil nil nil nil nil nil nil nil nil \t nil] [// -Inf nil nil // -Inf nil nil nil nil nil nil nil nil nil])\n",
      "([\t nil nil nil nil nil nil nil nil nil nil \t nil] [NegInf nil nil nil nil nil nil nil nil NegInf nil nil nil] [  nil nil nil nil nil nil nil nil nil nil   nil] [= nil nil nil nil nil = nil nil nil nil nil nil] [  nil nil nil nil nil nil nil nil nil nil   nil] [Float nil nil nil nil nil nil nil nil Float nil nil nil] [{ nil nil nil nil nil nil nil nil nil { nil nil] [a nil nil nil nil nil nil nil nil a nil nil nil] [: nil nil nil nil nil nil nil nil nil nil nil :] [  nil nil nil nil nil nil nil nil nil nil   nil] [0xFFFF000000000000 nil 0xFFFF000000000000 nil nil nil nil nil nil nil nil nil nil] [, nil nil nil nil nil nil nil nil nil nil nil ,] [  nil nil nil nil nil nil nil nil nil nil   nil] [b nil nil nil nil nil nil nil nil b nil nil nil] [: nil nil nil nil nil nil nil nil nil nil nil :] [  nil nil nil nil nil nil nil nil nil nil   nil] [0 nil 0 nil nil nil nil nil nil nil nil nil nil] [} nil nil nil nil nil nil nil nil nil } nil nil])\n",
      "([\t nil nil nil nil nil nil nil nil nil nil \t nil] [// +zero nil nil // +zero nil nil nil nil nil nil nil nil nil])\n",
      "([\t nil nil nil nil nil nil nil nil nil nil \t nil] [Zero nil nil nil nil nil nil nil nil Zero nil nil nil] [  nil nil nil nil nil nil nil nil nil nil   nil] [= nil nil nil nil nil = nil nil nil nil nil nil] [  nil nil nil nil nil nil nil nil nil nil   nil] [Float nil nil nil nil nil nil nil nil Float nil nil nil] [{ nil nil nil nil nil nil nil nil nil { nil nil] [a nil nil nil nil nil nil nil nil a nil nil nil] [: nil nil nil nil nil nil nil nil nil nil nil :] [  nil nil nil nil nil nil nil nil nil nil   nil] [0x0000000000000000 nil 0x0000000000000000 nil nil nil nil nil nil nil nil nil nil] [, nil nil nil nil nil nil nil nil nil nil nil ,] [  nil nil nil nil nil nil nil nil nil nil   nil] [b nil nil nil nil nil nil nil nil b nil nil nil] [: nil nil nil nil nil nil nil nil nil nil nil :] [  nil nil nil nil nil nil nil nil nil nil   nil] [0 nil 0 nil nil nil nil nil nil nil nil nil nil] [} nil nil nil nil nil nil nil nil nil } nil nil])\n",
      "([\t nil nil nil nil nil nil nil nil nil nil \t nil] [// -zero nil nil // -zero nil nil nil nil nil nil nil nil nil])\n",
      "([\t nil nil nil nil nil nil nil nil nil nil \t nil] [NegZero nil nil nil nil nil nil nil nil NegZero nil nil nil] [  nil nil nil nil nil nil nil nil nil nil   nil] [= nil nil nil nil nil = nil nil nil nil nil nil] [  nil nil nil nil nil nil nil nil nil nil   nil] [Float nil nil nil nil nil nil nil nil Float nil nil nil] [{ nil nil nil nil nil nil nil nil nil { nil nil] [a nil nil nil nil nil nil nil nil a nil nil nil] [: nil nil nil nil nil nil nil nil nil nil nil :] [  nil nil nil nil nil nil nil nil nil nil   nil] [0x8000000000000000 nil 0x8000000000000000 nil nil nil nil nil nil nil nil nil nil] [, nil nil nil nil nil nil nil nil nil nil nil ,] [  nil nil nil nil nil nil nil nil nil nil   nil] [b nil nil nil nil nil nil nil nil b nil nil nil] [: nil nil nil nil nil nil nil nil nil nil nil :] [  nil nil nil nil nil nil nil nil nil nil   nil] [0 nil 0 nil nil nil nil nil nil nil nil nil nil] [} nil nil nil nil nil nil nil nil nil } nil nil])\n",
      "([) nil nil nil nil nil nil nil nil nil ) nil nil])\n",
      "nil\n",
      "([// Float is a floating-point number in IEEE 754 quadruple precision format. nil nil // Float is a floating-point number in IEEE 754 quadruple precision format. nil nil nil nil nil nil nil nil nil])\n",
      "([type nil nil nil nil nil nil nil nil type nil nil nil] [  nil nil nil nil nil nil nil nil nil nil   nil] [Float nil nil nil nil nil nil nil nil Float nil nil nil] [  nil nil nil nil nil nil nil nil nil nil   nil] [struct nil nil nil nil nil nil nil nil struct nil nil nil] [  nil nil nil nil nil nil nil nil nil nil   nil] [{ nil nil nil nil nil nil nil nil nil { nil nil])\n",
      "([\t nil nil nil nil nil nil nil nil nil nil \t nil] [// Sign, exponent and fraction. nil nil // Sign, exponent and fraction. nil nil nil nil nil nil nil nil nil])\n",
      "([\t nil nil nil nil nil nil nil nil nil nil \t nil] [// nil nil // nil nil nil nil nil nil nil nil nil])\n",
      "([\t nil nil nil nil nil nil nil nil nil nil \t nil] [//    1 bit:    sign nil nil //    1 bit:    sign nil nil nil nil nil nil nil nil nil])\n",
      "([\t nil nil nil nil nil nil nil nil nil nil \t nil] [//    15 bits:  exponent nil nil //    15 bits:  exponent nil nil nil nil nil nil nil nil nil])\n",
      "([\t nil nil nil nil nil nil nil nil nil nil \t nil] [//    112 bits: fraction nil nil //    112 bits: fraction nil nil nil nil nil nil nil nil nil])\n",
      "([\t nil nil nil nil nil nil nil nil nil nil \t nil] [a nil nil nil nil nil nil nil nil a nil nil nil] [  nil nil nil nil nil nil nil nil nil nil   nil] [uint64 nil nil nil nil nil nil nil nil uint64 nil nil nil])\n",
      "([\t nil nil nil nil nil nil nil nil nil nil \t nil] [b nil nil nil nil nil nil nil nil b nil nil nil] [  nil nil nil nil nil nil nil nil nil nil   nil] [uint64 nil nil nil nil nil nil nil nil uint64 nil nil nil])\n",
      "([} nil nil nil nil nil nil nil nil nil } nil nil])\n",
      "nil\n",
      "([// NewFromBits returns the floating-point number corresponding to the IEEE 754 nil nil // NewFromBits returns the floating-point number corresponding to the IEEE 754 nil nil nil nil nil nil nil nil nil])\n",
      "([// quadruple precision binary representation. nil nil // quadruple precision binary representation. nil nil nil nil nil nil nil nil nil])\n",
      "([func nil nil nil nil nil nil nil nil func nil nil nil] [  nil nil nil nil nil nil nil nil nil nil   nil] [NewFromBits nil nil nil nil nil nil nil nil NewFromBits nil nil nil] [( nil nil nil nil nil nil nil nil nil ( nil nil] [a nil nil nil nil nil nil nil nil a nil nil nil] [, nil nil nil nil nil nil nil nil nil nil nil ,] [  nil nil nil nil nil nil nil nil nil nil   nil] [b nil nil nil nil nil nil nil nil b nil nil nil] [  nil nil nil nil nil nil nil nil nil nil   nil] [uint64 nil nil nil nil nil nil nil nil uint64 nil nil nil] [) nil nil nil nil nil nil nil nil nil ) nil nil] [  nil nil nil nil nil nil nil nil nil nil   nil] [Float nil nil nil nil nil nil nil nil Float nil nil nil] [  nil nil nil nil nil nil nil nil nil nil   nil] [{ nil nil nil nil nil nil nil nil nil { nil nil])\n",
      "([\t nil nil nil nil nil nil nil nil nil nil \t nil] [return nil nil nil nil nil nil nil nil return nil nil nil] [  nil nil nil nil nil nil nil nil nil nil   nil] [Float nil nil nil nil nil nil nil nil Float nil nil nil] [{ nil nil nil nil nil nil nil nil nil { nil nil] [a nil nil nil nil nil nil nil nil a nil nil nil] [: nil nil nil nil nil nil nil nil nil nil nil :] [  nil nil nil nil nil nil nil nil nil nil   nil] [a nil nil nil nil nil nil nil nil a nil nil nil] [, nil nil nil nil nil nil nil nil nil nil nil ,] [  nil nil nil nil nil nil nil nil nil nil   nil] [b nil nil nil nil nil nil nil nil b nil nil nil] [: nil nil nil nil nil nil nil nil nil nil nil :] [  nil nil nil nil nil nil nil nil nil nil   nil] [b nil nil nil nil nil nil nil nil b nil nil nil] [} nil nil nil nil nil nil nil nil nil } nil nil])\n",
      "([} nil nil nil nil nil nil nil nil nil } nil nil])\n",
      "nil\n",
      "([// NewFromFloat32 returns the nearest quadruple precision floating-point number nil nil // NewFromFloat32 returns the nearest quadruple precision floating-point number nil nil nil nil nil nil nil nil nil])\n",
      "([// for x and the accuracy of the conversion. nil nil // for x and the accuracy of the conversion. nil nil nil nil nil nil nil nil nil])\n",
      "([func nil nil nil nil nil nil nil nil func nil nil nil] [  nil nil nil nil nil nil nil nil nil nil   nil] [NewFromFloat32 nil nil nil nil nil nil nil nil NewFromFloat32 nil nil nil] [( nil nil nil nil nil nil nil nil nil ( nil nil] [x nil nil nil nil nil nil nil nil x nil nil nil] [  nil nil nil nil nil nil nil nil nil nil   nil] [float32 nil nil nil nil nil nil nil nil float32 nil nil nil] [) nil nil nil nil nil nil nil nil nil ) nil nil] [  nil nil nil nil nil nil nil nil nil nil   nil] [( nil nil nil nil nil nil nil nil nil ( nil nil] [Float nil nil nil nil nil nil nil nil Float nil nil nil] [, nil nil nil nil nil nil nil nil nil nil nil ,] [  nil nil nil nil nil nil nil nil nil nil   nil] [big nil nil nil nil nil nil nil nil big nil nil nil] [. . nil nil nil nil nil nil nil nil nil nil nil] [Accuracy nil nil nil nil nil nil nil nil Accuracy nil nil nil] [) nil nil nil nil nil nil nil nil nil ) nil nil] [  nil nil nil nil nil nil nil nil nil nil   nil] [{ nil nil nil nil nil nil nil nil nil { nil nil])\n",
      "([\t nil nil nil nil nil nil nil nil nil nil \t nil] [f nil nil nil nil nil nil nil nil f nil nil nil] [, nil nil nil nil nil nil nil nil nil nil nil ,] [  nil nil nil nil nil nil nil nil nil nil   nil] [acc nil nil nil nil nil nil nil nil acc nil nil nil] [  nil nil nil nil nil nil nil nil nil nil   nil] [: nil nil nil nil nil nil nil nil nil nil nil :] [= nil nil nil nil nil = nil nil nil nil nil nil] [  nil nil nil nil nil nil nil nil nil nil   nil] [NewFromFloat64 nil nil nil nil nil nil nil nil NewFromFloat64 nil nil nil] [( nil nil nil nil nil nil nil nil nil ( nil nil] [float64 nil nil nil nil nil nil nil nil float64 nil nil nil] [( nil nil nil nil nil nil nil nil nil ( nil nil] [x nil nil nil nil nil nil nil nil x nil nil nil] [) nil nil nil nil nil nil nil nil nil ) nil nil] [) nil nil nil nil nil nil nil nil nil ) nil nil])\n",
      "([\t nil nil nil nil nil nil nil nil nil nil \t nil] [if nil nil nil nil nil nil nil nil if nil nil nil] [  nil nil nil nil nil nil nil nil nil nil   nil] [acc nil nil nil nil nil nil nil nil acc nil nil nil] [  nil nil nil nil nil nil nil nil nil nil   nil] [= nil nil nil nil nil = nil nil nil nil nil nil] [= nil nil nil nil nil = nil nil nil nil nil nil] [  nil nil nil nil nil nil nil nil nil nil   nil] [big nil nil nil nil nil nil nil nil big nil nil nil] [. . nil nil nil nil nil nil nil nil nil nil nil] [Exact nil nil nil nil nil nil nil nil Exact nil nil nil] [  nil nil nil nil nil nil nil nil nil nil   nil] [{ nil nil nil nil nil nil nil nil nil { nil nil])\n"
     ]
    },
    {
     "data": {
      "text/plain": [
       "nil"
      ]
     },
     "execution_count": 13,
     "metadata": {},
     "output_type": "execute_result"
    }
   ],
   "source": [
    ";ignorar lo boa borrar\n",
    "(defn valor [file-name]\n",
    "  (with-open [rdr (reader file-name)]\n",
    "    (doseq [line (line-seq rdr)]\n",
    "      (println (re-seq regex line)))))\n",
    "(valor \"binary128.go\")"
   ]
  },
  {
   "cell_type": "code",
   "execution_count": 14,
   "metadata": {},
   "outputs": [
    {
     "name": "stdout",
     "output_type": "stream",
     "text": [
      "([//go:generate go run gen.go -o extra_test.go nil nil //go:generate go run gen.go -o extra_test.go nil nil nil nil nil nil nil nil nil])\n",
      "nil\n",
      "([// Package binary128 implements encoding and decoding of IEEE 754 quadruple nil nil // Package binary128 implements encoding and decoding of IEEE 754 quadruple nil nil nil nil nil nil nil nil nil])\n",
      "([// precision floating-point numbers. nil nil // precision floating-point numbers. nil nil nil nil nil nil nil nil nil])\n",
      "([// nil nil // nil nil nil nil nil nil nil nil nil])\n",
      "([// https://en.wikipedia.org/wiki/Quadruple-precision_floating-point_format nil nil // https://en.wikipedia.org/wiki/Quadruple-precision_floating-point_format nil nil nil nil nil nil nil nil nil])\n",
      "([package nil nil nil nil nil nil nil nil package nil nil nil] [  nil nil nil nil nil nil nil nil nil nil   nil] [binary128 nil nil nil nil nil nil nil nil binary128 nil nil nil])\n",
      "nil\n",
      "([import nil nil nil import nil nil nil nil nil nil nil nil] [  nil nil nil nil nil nil nil nil nil nil   nil] [( nil nil nil nil nil nil nil nil nil ( nil nil])\n",
      "([\t nil nil nil nil nil nil nil nil nil nil \t nil] [\"fmt\" nil nil nil nil \"fmt\" nil nil nil nil nil nil nil])\n",
      "([\t nil nil nil nil nil nil nil nil nil nil \t nil] [\"math\" nil nil nil nil \"math\" nil nil nil nil nil nil nil])\n",
      "([\t nil nil nil nil nil nil nil nil nil nil \t nil] [\"math/big\" nil nil nil nil \"math/big\" nil nil nil nil nil nil nil])\n",
      "([) nil nil nil nil nil nil nil nil nil ) nil nil])\n",
      "nil\n",
      "([const nil nil nil nil nil nil nil nil const nil nil nil] [  nil nil nil nil nil nil nil nil nil nil   nil] [( nil nil nil nil nil nil nil nil nil ( nil nil])\n",
      "([\t nil nil nil nil nil nil nil nil nil nil \t nil] [// precision specifies the number of bits in the mantissa (including the nil nil // precision specifies the number of bits in the mantissa (including the nil nil nil nil nil nil nil nil nil])\n",
      "([\t nil nil nil nil nil nil nil nil nil nil \t nil] [// implicit lead bit). nil nil // implicit lead bit). nil nil nil nil nil nil nil nil nil])\n",
      "([\t nil nil nil nil nil nil nil nil nil nil \t nil] [precision nil nil nil nil nil nil nil nil precision nil nil nil] [  nil nil nil nil nil nil nil nil nil nil   nil] [= nil nil nil nil nil = nil nil nil nil nil nil] [  nil nil nil nil nil nil nil nil nil nil   nil] [113 nil 113 nil nil nil nil nil nil nil nil nil nil])\n",
      "([\t nil nil nil nil nil nil nil nil nil nil \t nil] [// exponent bias. nil nil // exponent bias. nil nil nil nil nil nil nil nil nil])\n",
      "([\t nil nil nil nil nil nil nil nil nil nil \t nil] [bias nil nil nil nil nil nil nil nil bias nil nil nil] [  nil nil nil nil nil nil nil nil nil nil   nil] [= nil nil nil nil nil = nil nil nil nil nil nil] [  nil nil nil nil nil nil nil nil nil nil   nil] [16383 nil 16383 nil nil nil nil nil nil nil nil nil nil])\n",
      "([) nil nil nil nil nil nil nil nil nil ) nil nil])\n",
      "nil\n",
      "([// Positive and negative Not-a-Number, infinity and zero. nil nil // Positive and negative Not-a-Number, infinity and zero. nil nil nil nil nil nil nil nil nil])\n",
      "([var nil nil nil var nil nil nil nil nil nil nil nil] [  nil nil nil nil nil nil nil nil nil nil   nil] [( nil nil nil nil nil nil nil nil nil ( nil nil])\n",
      "([\t nil nil nil nil nil nil nil nil nil nil \t nil] [// +NaN nil nil // +NaN nil nil nil nil nil nil nil nil nil])\n",
      "([\t nil nil nil nil nil nil nil nil nil nil \t nil] [NaN nil nil nil nil nil nil nil nil NaN nil nil nil] [  nil nil nil nil nil nil nil nil nil nil   nil] [= nil nil nil nil nil = nil nil nil nil nil nil] [  nil nil nil nil nil nil nil nil nil nil   nil] [Float nil nil nil nil nil nil nil nil Float nil nil nil] [{ nil nil nil nil nil nil nil nil nil { nil nil] [a nil nil nil nil nil nil nil nil a nil nil nil] [: nil nil nil nil nil nil nil nil nil nil nil :] [  nil nil nil nil nil nil nil nil nil nil   nil] [0x7FFF800000000000 nil 0x7FFF800000000000 nil nil nil nil nil nil nil nil nil nil] [, nil nil nil nil nil nil nil nil nil nil nil ,] [  nil nil nil nil nil nil nil nil nil nil   nil] [b nil nil nil nil nil nil nil nil b nil nil nil] [: nil nil nil nil nil nil nil nil nil nil nil :] [  nil nil nil nil nil nil nil nil nil nil   nil] [0 nil 0 nil nil nil nil nil nil nil nil nil nil] [} nil nil nil nil nil nil nil nil nil } nil nil])\n",
      "([\t nil nil nil nil nil nil nil nil nil nil \t nil] [// -NaN nil nil // -NaN nil nil nil nil nil nil nil nil nil])\n",
      "([\t nil nil nil nil nil nil nil nil nil nil \t nil] [NegNaN nil nil nil nil nil nil nil nil NegNaN nil nil nil] [  nil nil nil nil nil nil nil nil nil nil   nil] [= nil nil nil nil nil = nil nil nil nil nil nil] [  nil nil nil nil nil nil nil nil nil nil   nil] [Float nil nil nil nil nil nil nil nil Float nil nil nil] [{ nil nil nil nil nil nil nil nil nil { nil nil] [a nil nil nil nil nil nil nil nil a nil nil nil] [: nil nil nil nil nil nil nil nil nil nil nil :] [  nil nil nil nil nil nil nil nil nil nil   nil] [0xFFFF800000000000 nil 0xFFFF800000000000 nil nil nil nil nil nil nil nil nil nil] [, nil nil nil nil nil nil nil nil nil nil nil ,] [  nil nil nil nil nil nil nil nil nil nil   nil] [b nil nil nil nil nil nil nil nil b nil nil nil] [: nil nil nil nil nil nil nil nil nil nil nil :] [  nil nil nil nil nil nil nil nil nil nil   nil] [0 nil 0 nil nil nil nil nil nil nil nil nil nil] [} nil nil nil nil nil nil nil nil nil } nil nil])\n",
      "([\t nil nil nil nil nil nil nil nil nil nil \t nil] [// +Inf nil nil // +Inf nil nil nil nil nil nil nil nil nil])\n",
      "([\t nil nil nil nil nil nil nil nil nil nil \t nil] [Inf nil nil nil nil nil nil nil nil Inf nil nil nil] [  nil nil nil nil nil nil nil nil nil nil   nil] [= nil nil nil nil nil = nil nil nil nil nil nil] [  nil nil nil nil nil nil nil nil nil nil   nil] [Float nil nil nil nil nil nil nil nil Float nil nil nil] [{ nil nil nil nil nil nil nil nil nil { nil nil] [a nil nil nil nil nil nil nil nil a nil nil nil] [: nil nil nil nil nil nil nil nil nil nil nil :] [  nil nil nil nil nil nil nil nil nil nil   nil] [0x7FFF000000000000 nil 0x7FFF000000000000 nil nil nil nil nil nil nil nil nil nil] [, nil nil nil nil nil nil nil nil nil nil nil ,] [  nil nil nil nil nil nil nil nil nil nil   nil] [b nil nil nil nil nil nil nil nil b nil nil nil] [: nil nil nil nil nil nil nil nil nil nil nil :] [  nil nil nil nil nil nil nil nil nil nil   nil] [0 nil 0 nil nil nil nil nil nil nil nil nil nil] [} nil nil nil nil nil nil nil nil nil } nil nil])\n",
      "([\t nil nil nil nil nil nil nil nil nil nil \t nil] [// -Inf nil nil // -Inf nil nil nil nil nil nil nil nil nil])\n",
      "([\t nil nil nil nil nil nil nil nil nil nil \t nil] [NegInf nil nil nil nil nil nil nil nil NegInf nil nil nil] [  nil nil nil nil nil nil nil nil nil nil   nil] [= nil nil nil nil nil = nil nil nil nil nil nil] [  nil nil nil nil nil nil nil nil nil nil   nil] [Float nil nil nil nil nil nil nil nil Float nil nil nil] [{ nil nil nil nil nil nil nil nil nil { nil nil] [a nil nil nil nil nil nil nil nil a nil nil nil] [: nil nil nil nil nil nil nil nil nil nil nil :] [  nil nil nil nil nil nil nil nil nil nil   nil] [0xFFFF000000000000 nil 0xFFFF000000000000 nil nil nil nil nil nil nil nil nil nil] [, nil nil nil nil nil nil nil nil nil nil nil ,] [  nil nil nil nil nil nil nil nil nil nil   nil] [b nil nil nil nil nil nil nil nil b nil nil nil] [: nil nil nil nil nil nil nil nil nil nil nil :] [  nil nil nil nil nil nil nil nil nil nil   nil] [0 nil 0 nil nil nil nil nil nil nil nil nil nil] [} nil nil nil nil nil nil nil nil nil } nil nil])\n",
      "([\t nil nil nil nil nil nil nil nil nil nil \t nil] [// +zero nil nil // +zero nil nil nil nil nil nil nil nil nil])\n",
      "([\t nil nil nil nil nil nil nil nil nil nil \t nil] [Zero nil nil nil nil nil nil nil nil Zero nil nil nil] [  nil nil nil nil nil nil nil nil nil nil   nil] [= nil nil nil nil nil = nil nil nil nil nil nil] [  nil nil nil nil nil nil nil nil nil nil   nil] [Float nil nil nil nil nil nil nil nil Float nil nil nil] [{ nil nil nil nil nil nil nil nil nil { nil nil] [a nil nil nil nil nil nil nil nil a nil nil nil] [: nil nil nil nil nil nil nil nil nil nil nil :] [  nil nil nil nil nil nil nil nil nil nil   nil] [0x0000000000000000 nil 0x0000000000000000 nil nil nil nil nil nil nil nil nil nil] [, nil nil nil nil nil nil nil nil nil nil nil ,] [  nil nil nil nil nil nil nil nil nil nil   nil] [b nil nil nil nil nil nil nil nil b nil nil nil] [: nil nil nil nil nil nil nil nil nil nil nil :] [  nil nil nil nil nil nil nil nil nil nil   nil] [0 nil 0 nil nil nil nil nil nil nil nil nil nil] [} nil nil nil nil nil nil nil nil nil } nil nil])\n",
      "([\t nil nil nil nil nil nil nil nil nil nil \t nil] [// -zero nil nil // -zero nil nil nil nil nil nil nil nil nil])\n",
      "([\t nil nil nil nil nil nil nil nil nil nil \t nil] [NegZero nil nil nil nil nil nil nil nil NegZero nil nil nil] [  nil nil nil nil nil nil nil nil nil nil   nil] [= nil nil nil nil nil = nil nil nil nil nil nil] [  nil nil nil nil nil nil nil nil nil nil   nil] [Float nil nil nil nil nil nil nil nil Float nil nil nil] [{ nil nil nil nil nil nil nil nil nil { nil nil] [a nil nil nil nil nil nil nil nil a nil nil nil] [: nil nil nil nil nil nil nil nil nil nil nil :] [  nil nil nil nil nil nil nil nil nil nil   nil] [0x8000000000000000 nil 0x8000000000000000 nil nil nil nil nil nil nil nil nil nil] [, nil nil nil nil nil nil nil nil nil nil nil ,] [  nil nil nil nil nil nil nil nil nil nil   nil] [b nil nil nil nil nil nil nil nil b nil nil nil] [: nil nil nil nil nil nil nil nil nil nil nil :] [  nil nil nil nil nil nil nil nil nil nil   nil] [0 nil 0 nil nil nil nil nil nil nil nil nil nil] [} nil nil nil nil nil nil nil nil nil } nil nil])\n",
      "([) nil nil nil nil nil nil nil nil nil ) nil nil])\n",
      "nil\n",
      "([// Float is a floating-point number in IEEE 754 quadruple precision format. nil nil // Float is a floating-point number in IEEE 754 quadruple precision format. nil nil nil nil nil nil nil nil nil])\n",
      "([type nil nil nil nil nil nil nil nil type nil nil nil] [  nil nil nil nil nil nil nil nil nil nil   nil] [Float nil nil nil nil nil nil nil nil Float nil nil nil] [  nil nil nil nil nil nil nil nil nil nil   nil] [struct nil nil nil nil nil nil nil nil struct nil nil nil] [  nil nil nil nil nil nil nil nil nil nil   nil] [{ nil nil nil nil nil nil nil nil nil { nil nil])\n",
      "([\t nil nil nil nil nil nil nil nil nil nil \t nil] [// Sign, exponent and fraction. nil nil // Sign, exponent and fraction. nil nil nil nil nil nil nil nil nil])\n",
      "([\t nil nil nil nil nil nil nil nil nil nil \t nil] [// nil nil // nil nil nil nil nil nil nil nil nil])\n",
      "([\t nil nil nil nil nil nil nil nil nil nil \t nil] [//    1 bit:    sign nil nil //    1 bit:    sign nil nil nil nil nil nil nil nil nil])\n",
      "([\t nil nil nil nil nil nil nil nil nil nil \t nil] [//    15 bits:  exponent nil nil //    15 bits:  exponent nil nil nil nil nil nil nil nil nil])\n",
      "([\t nil nil nil nil nil nil nil nil nil nil \t nil] [//    112 bits: fraction nil nil //    112 bits: fraction nil nil nil nil nil nil nil nil nil])\n",
      "([\t nil nil nil nil nil nil nil nil nil nil \t nil] [a nil nil nil nil nil nil nil nil a nil nil nil] [  nil nil nil nil nil nil nil nil nil nil   nil] [uint64 nil nil nil nil nil nil nil nil uint64 nil nil nil])\n",
      "([\t nil nil nil nil nil nil nil nil nil nil \t nil] [b nil nil nil nil nil nil nil nil b nil nil nil] [  nil nil nil nil nil nil nil nil nil nil   nil] [uint64 nil nil nil nil nil nil nil nil uint64 nil nil nil])\n",
      "([} nil nil nil nil nil nil nil nil nil } nil nil])\n",
      "nil\n",
      "([// NewFromBits returns the floating-point number corresponding to the IEEE 754 nil nil // NewFromBits returns the floating-point number corresponding to the IEEE 754 nil nil nil nil nil nil nil nil nil])\n",
      "([// quadruple precision binary representation. nil nil // quadruple precision binary representation. nil nil nil nil nil nil nil nil nil])\n",
      "([func nil nil nil nil nil nil nil nil func nil nil nil] [  nil nil nil nil nil nil nil nil nil nil   nil] [NewFromBits nil nil nil nil nil nil nil nil NewFromBits nil nil nil] [( nil nil nil nil nil nil nil nil nil ( nil nil] [a nil nil nil nil nil nil nil nil a nil nil nil] [, nil nil nil nil nil nil nil nil nil nil nil ,] [  nil nil nil nil nil nil nil nil nil nil   nil] [b nil nil nil nil nil nil nil nil b nil nil nil] [  nil nil nil nil nil nil nil nil nil nil   nil] [uint64 nil nil nil nil nil nil nil nil uint64 nil nil nil] [) nil nil nil nil nil nil nil nil nil ) nil nil] [  nil nil nil nil nil nil nil nil nil nil   nil] [Float nil nil nil nil nil nil nil nil Float nil nil nil] [  nil nil nil nil nil nil nil nil nil nil   nil] [{ nil nil nil nil nil nil nil nil nil { nil nil])\n",
      "([\t nil nil nil nil nil nil nil nil nil nil \t nil] [return nil nil nil nil nil nil nil nil return nil nil nil] [  nil nil nil nil nil nil nil nil nil nil   nil] [Float nil nil nil nil nil nil nil nil Float nil nil nil] [{ nil nil nil nil nil nil nil nil nil { nil nil] [a nil nil nil nil nil nil nil nil a nil nil nil] [: nil nil nil nil nil nil nil nil nil nil nil :] [  nil nil nil nil nil nil nil nil nil nil   nil] [a nil nil nil nil nil nil nil nil a nil nil nil] [, nil nil nil nil nil nil nil nil nil nil nil ,] [  nil nil nil nil nil nil nil nil nil nil   nil] [b nil nil nil nil nil nil nil nil b nil nil nil] [: nil nil nil nil nil nil nil nil nil nil nil :] [  nil nil nil nil nil nil nil nil nil nil   nil] [b nil nil nil nil nil nil nil nil b nil nil nil] [} nil nil nil nil nil nil nil nil nil } nil nil])\n",
      "([} nil nil nil nil nil nil nil nil nil } nil nil])\n",
      "nil\n",
      "([// NewFromFloat32 returns the nearest quadruple precision floating-point number nil nil // NewFromFloat32 returns the nearest quadruple precision floating-point number nil nil nil nil nil nil nil nil nil])\n",
      "([// for x and the accuracy of the conversion. nil nil // for x and the accuracy of the conversion. nil nil nil nil nil nil nil nil nil])\n",
      "([func nil nil nil nil nil nil nil nil func nil nil nil] [  nil nil nil nil nil nil nil nil nil nil   nil] [NewFromFloat32 nil nil nil nil nil nil nil nil NewFromFloat32 nil nil nil] [( nil nil nil nil nil nil nil nil nil ( nil nil] [x nil nil nil nil nil nil nil nil x nil nil nil] [  nil nil nil nil nil nil nil nil nil nil   nil] [float32 nil nil nil nil nil nil nil nil float32 nil nil nil] [) nil nil nil nil nil nil nil nil nil ) nil nil] [  nil nil nil nil nil nil nil nil nil nil   nil] [( nil nil nil nil nil nil nil nil nil ( nil nil] [Float nil nil nil nil nil nil nil nil Float nil nil nil] [, nil nil nil nil nil nil nil nil nil nil nil ,] [  nil nil nil nil nil nil nil nil nil nil   nil] [big nil nil nil nil nil nil nil nil big nil nil nil] [. . nil nil nil nil nil nil nil nil nil nil nil] [Accuracy nil nil nil nil nil nil nil nil Accuracy nil nil nil] [) nil nil nil nil nil nil nil nil nil ) nil nil] [  nil nil nil nil nil nil nil nil nil nil   nil] [{ nil nil nil nil nil nil nil nil nil { nil nil])\n",
      "([\t nil nil nil nil nil nil nil nil nil nil \t nil] [f nil nil nil nil nil nil nil nil f nil nil nil] [, nil nil nil nil nil nil nil nil nil nil nil ,] [  nil nil nil nil nil nil nil nil nil nil   nil] [acc nil nil nil nil nil nil nil nil acc nil nil nil] [  nil nil nil nil nil nil nil nil nil nil   nil] [: nil nil nil nil nil nil nil nil nil nil nil :] [= nil nil nil nil nil = nil nil nil nil nil nil] [  nil nil nil nil nil nil nil nil nil nil   nil] [NewFromFloat64 nil nil nil nil nil nil nil nil NewFromFloat64 nil nil nil] [( nil nil nil nil nil nil nil nil nil ( nil nil] [float64 nil nil nil nil nil nil nil nil float64 nil nil nil] [( nil nil nil nil nil nil nil nil nil ( nil nil] [x nil nil nil nil nil nil nil nil x nil nil nil] [) nil nil nil nil nil nil nil nil nil ) nil nil] [) nil nil nil nil nil nil nil nil nil ) nil nil])\n",
      "([\t nil nil nil nil nil nil nil nil nil nil \t nil] [if nil nil nil nil nil nil nil nil if nil nil nil] [  nil nil nil nil nil nil nil nil nil nil   nil] [acc nil nil nil nil nil nil nil nil acc nil nil nil] [  nil nil nil nil nil nil nil nil nil nil   nil] [= nil nil nil nil nil = nil nil nil nil nil nil] [= nil nil nil nil nil = nil nil nil nil nil nil] [  nil nil nil nil nil nil nil nil nil nil   nil] [big nil nil nil nil nil nil nil nil big nil nil nil] [. . nil nil nil nil nil nil nil nil nil nil nil] [Exact nil nil nil nil nil nil nil nil Exact nil nil nil] [  nil nil nil nil nil nil nil nil nil nil   nil] [{ nil nil nil nil nil nil nil nil nil { nil nil])\n"
     ]
    },
    {
     "data": {
      "text/plain": [
       "()"
      ]
     },
     "execution_count": 14,
     "metadata": {},
     "output_type": "execute_result"
    }
   ],
   "source": [
    ";ignorar lo boa borrar\n",
    "(defn valor2 []\n",
    "  (->> \n",
    "    (valor \"binary128.go\")\n",
    "    (map (fn [match]\n",
    "              (let [token (match 0)]\n",
    "                (cond\n",
    "                  (match 1) [token \"Flotante\"]\n",
    "                  (match 2) [token \"Entero\"]\n",
    "                  (match 3) [token \"Comentario\"]\n",
    "                  (match 4) [token \"Constante\"]\n",
    "                  (match 5) [token \"String\"]\n",
    "                  (match 6) [token \"Asignacion\"]\n",
    "                  (match 7) [token \"Logico\"]\n",
    "                  (match 8) [token \"Aritmetico\"]\n",
    "                  (match 9) [token \"Variable\"]\n",
    "                  (match 10) [token \"Puntuacion\"]\n",
    "                  (match 11) [token \"Espacio\"]\n",
    "                  (match 12) [token \"Invalido\"]))))))\n",
    "(valor2)"
   ]
  },
  {
   "cell_type": "code",
   "execution_count": 15,
   "metadata": {},
   "outputs": [
    {
     "name": "stdout",
     "output_type": "stream",
     "text": [
      "//go:generate go run gen.go -o extra_test.go\n",
      "\n",
      "// Package binary128 implements encoding and decoding of IEEE 754 quadruple\n",
      "// precision floating-point numbers.\n",
      "//\n",
      "// https://en.wikipedia.org/wiki/Quadruple-precision_floating-point_format\n",
      "package binary128\n",
      "\n",
      "import (\n",
      "\t\"fmt\"\n",
      "\t\"math\"\n",
      "\t\"math/big\"\n",
      ")\n",
      "\n",
      "const (\n",
      "\t// precision specifies the number of bits in the mantissa (including the\n",
      "\t// implicit lead bit).\n",
      "\tprecision = 113\n",
      "\t// exponent bias.\n",
      "\tbias = 16383\n",
      ")\n",
      "\n",
      "// Positive and negative Not-a-Number, infinity and zero.\n",
      "var (\n",
      "\t// +NaN\n",
      "\tNaN = Float{a: 0x7FFF800000000000, b: 0}\n",
      "\t// -NaN\n",
      "\tNegNaN = Float{a: 0xFFFF800000000000, b: 0}\n",
      "\t// +Inf\n",
      "\tInf = Float{a: 0x7FFF000000000000, b: 0}\n",
      "\t// -Inf\n",
      "\tNegInf = Float{a: 0xFFFF000000000000, b: 0}\n",
      "\t// +zero\n",
      "\tZero = Float{a: 0x0000000000000000, b: 0}\n",
      "\t// -zero\n",
      "\tNegZero = Float{a: 0x8000000000000000, b: 0}\n",
      ")\n",
      "\n",
      "// Float is a floating-point number in IEEE 754 quadruple precision format.\n",
      "type Float struct {\n",
      "\t// Sign, exponent and fraction.\n",
      "\t//\n",
      "\t//    1 bit:    sign\n",
      "\t//    15 bits:  exponent\n",
      "\t//    112 bits: fraction\n",
      "\ta uint64\n",
      "\tb uint64\n",
      "}\n",
      "\n",
      "// NewFromBits returns the floating-point number corresponding to the IEEE 754\n",
      "// quadruple precision binary representation.\n",
      "func NewFromBits(a, b uint64) Float {\n",
      "\treturn Float{a: a, b: b}\n",
      "}\n",
      "\n",
      "// NewFromFloat32 returns the nearest quadruple precision floating-point number\n",
      "// for x and the accuracy of the conversion.\n",
      "func NewFromFloat32(x float32) (Float, big.Accuracy) {\n",
      "\tf, acc := NewFromFloat64(float64(x))\n",
      "\tif acc == big.Exact {\n"
     ]
    },
    {
     "data": {
      "text/plain": [
       "nil"
      ]
     },
     "execution_count": 15,
     "metadata": {},
     "output_type": "execute_result"
    }
   ],
   "source": [
    ";ignorar lo boa borrar / codigo para leer línea por línea\n",
    "(use 'clojure.java.io)\n",
    "(with-open [rdr (reader \"binary128.go\")]\n",
    "  (doseq [line (line-seq rdr)]\n",
    "    (println line))) ;;; do line-processing here"
   ]
  },
  {
   "cell_type": "code",
   "execution_count": 16,
   "metadata": {},
   "outputs": [
    {
     "data": {
      "text/plain": [
       "([\"//go:generate go run gen.go -o extra_test.go\" \"Comentario\"] [\"\\r\" \"Espacio\"] [\"\\n\" \"Espacio\"] [\"\\r\" \"Espacio\"] [\"\\n\" \"Espacio\"] [\"// Package binary128 implements encoding and decoding of IEEE 754 quadruple\" \"Comentario\"] [\"\\r\" \"Espacio\"] [\"\\n\" \"Espacio\"] [\"// precision floating-point numbers.\" \"Comentario\"] [\"\\r\" \"Espacio\"] [\"\\n\" \"Espacio\"] [\"//\" \"Comentario\"] [\"\\r\" \"Espacio\"] [\"\\n\" \"Espacio\"] [\"// https://en.wikipedia.org/wiki/Quadruple-precision_floating-point_format\" \"Comentario\"] [\"\\r\" \"Espacio\"] [\"\\n\" \"Espacio\"] [\"package\" \"Variable\"] [\" \" \"Espacio\"] [\"binary128\" \"Variable\"] [\"\\r\" \"Espacio\"] [\"\\n\" \"Espacio\"] [\"\\r\" \"Espacio\"] [\"\\n\" \"Espacio\"] [\"import\" \"Constante\"] [\" \" \"Espacio\"] [\"(\" \"Puntuacion\"] [\"\\r\" \"Espacio\"] [\"\\n\" \"Espacio\"] [\"\\t\" \"Espacio\"] [\"\\\"fmt\\\"\\r\\n\\t\\\"math\\\"\\r\\n\\t\\\"math/big\\\"\" \"String\"] [\"\\r\" \"Espacio\"] [\"\\n\" \"Espacio\"] [\")\" \"Puntuacion\"] [\"\\r\" \"Espacio\"] [\"\\n\" \"Espacio\"] [\"\\r\" \"Espacio\"] [\"\\n\" \"Espacio\"] [\"const\" \"Variable\"] [\" \" \"Espacio\"] [\"(\" \"Puntuacion\"] [\"\\r\" \"Espacio\"] [\"\\n\" \"Espacio\"] [\"\\t\" \"Espacio\"] [\"// precision specifies the number of bits in the mantissa (including the\" \"Comentario\"] [\"\\r\" \"Espacio\"] [\"\\n\" \"Espacio\"] [\"\\t\" \"Espacio\"] [\"// implicit lead bit).\" \"Comentario\"] [\"\\r\" \"Espacio\"] [\"\\n\" \"Espacio\"] [\"\\t\" \"Espacio\"] [\"precision\" \"Variable\"] [\" \" \"Espacio\"] [\"=\" \"Asignacion\"] [\" \" \"Espacio\"] [\"113\" \"Entero\"] [\"\\r\" \"Espacio\"] [\"\\n\" \"Espacio\"] [\"\\t\" \"Espacio\"] [\"// exponent bias.\" \"Comentario\"] [\"\\r\" \"Espacio\"] [\"\\n\" \"Espacio\"] [\"\\t\" \"Espacio\"] [\"bias\" \"Variable\"] [\" \" \"Espacio\"] [\"=\" \"Asignacion\"] [\" \" \"Espacio\"] [\"16383\" \"Entero\"] [\"\\r\" \"Espacio\"] [\"\\n\" \"Espacio\"] [\")\" \"Puntuacion\"] [\"\\r\" \"Espacio\"] [\"\\n\" \"Espacio\"] [\"\\r\" \"Espacio\"] [\"\\n\" \"Espacio\"] [\"// Positive and negative Not-a-Number, infinity and zero.\" \"Comentario\"] [\"\\r\" \"Espacio\"] [\"\\n\" \"Espacio\"] [\"var\" \"Constante\"] [\" \" \"Espacio\"] [\"(\" \"Puntuacion\"] [\"\\r\" \"Espacio\"] [\"\\n\" \"Espacio\"] [\"\\t\" \"Espacio\"] [\"// +NaN\" \"Comentario\"] [\"\\r\" \"Espacio\"] [\"\\n\" \"Espacio\"] [\"\\t\" \"Espacio\"] [\"NaN\" \"Variable\"] [\" \" \"Espacio\"] [\"=\" \"Asignacion\"] [\" \" \"Espacio\"] [\"Float\" \"Variable\"] [\"{\" \"Puntuacion\"] [\"a\" \"Variable\"] [\":\" \"Invalido\"] [\" \" \"Espacio\"] [\"0x7FFF800000000000\" \"Entero\"] [\",\" \"Invalido\"] [\" \" \"Espacio\"] [\"b\" \"Variable\"] [\":\" \"Invalido\"] [\" \" \"Espacio\"] [\"0\" \"Entero\"] [\"}\" \"Puntuacion\"] [\"\\r\" \"Espacio\"] [\"\\n\" \"Espacio\"] [\"\\t\" \"Espacio\"] [\"// -NaN\" \"Comentario\"] [\"\\r\" \"Espacio\"] [\"\\n\" \"Espacio\"] [\"\\t\" \"Espacio\"] [\"NegNaN\" \"Variable\"] [\" \" \"Espacio\"] [\"=\" \"Asignacion\"] [\" \" \"Espacio\"] [\"Float\" \"Variable\"] [\"{\" \"Puntuacion\"] [\"a\" \"Variable\"] [\":\" \"Invalido\"] [\" \" \"Espacio\"] [\"0xFFFF800000000000\" \"Entero\"] [\",\" \"Invalido\"] [\" \" \"Espacio\"] [\"b\" \"Variable\"] [\":\" \"Invalido\"] [\" \" \"Espacio\"] [\"0\" \"Entero\"] [\"}\" \"Puntuacion\"] [\"\\r\" \"Espacio\"] [\"\\n\" \"Espacio\"] [\"\\t\" \"Espacio\"] [\"// +Inf\" \"Comentario\"] [\"\\r\" \"Espacio\"] [\"\\n\" \"Espacio\"] [\"\\t\" \"Espacio\"] [\"Inf\" \"Variable\"] [\" \" \"Espacio\"] [\"=\" \"Asignacion\"] [\" \" \"Espacio\"] [\"Float\" \"Variable\"] [\"{\" \"Puntuacion\"] [\"a\" \"Variable\"] [\":\" \"Invalido\"] [\" \" \"Espacio\"] [\"0x7FFF000000000000\" \"Entero\"] [\",\" \"Invalido\"] [\" \" \"Espacio\"] [\"b\" \"Variable\"] [\":\" \"Invalido\"] [\" \" \"Espacio\"] [\"0\" \"Entero\"] [\"}\" \"Puntuacion\"] [\"\\r\" \"Espacio\"] [\"\\n\" \"Espacio\"] [\"\\t\" \"Espacio\"] [\"// -Inf\" \"Comentario\"] [\"\\r\" \"Espacio\"] [\"\\n\" \"Espacio\"] [\"\\t\" \"Espacio\"] [\"NegInf\" \"Variable\"] [\" \" \"Espacio\"] [\"=\" \"Asignacion\"] [\" \" \"Espacio\"] [\"Float\" \"Variable\"] [\"{\" \"Puntuacion\"] [\"a\" \"Variable\"] [\":\" \"Invalido\"] [\" \" \"Espacio\"] [\"0xFFFF000000000000\" \"Entero\"] [\",\" \"Invalido\"] [\" \" \"Espacio\"] [\"b\" \"Variable\"] [\":\" \"Invalido\"] [\" \" \"Espacio\"] [\"0\" \"Entero\"] [\"}\" \"Puntuacion\"] [\"\\r\" \"Espacio\"] [\"\\n\" \"Espacio\"] [\"\\t\" \"Espacio\"] [\"// +zero\" \"Comentario\"] [\"\\r\" \"Espacio\"] [\"\\n\" \"Espacio\"] [\"\\t\" \"Espacio\"] [\"Zero\" \"Variable\"] [\" \" \"Espacio\"] [\"=\" \"Asignacion\"] [\" \" \"Espacio\"] [\"Float\" \"Variable\"] [\"{\" \"Puntuacion\"] [\"a\" \"Variable\"] [\":\" \"Invalido\"] [\" \" \"Espacio\"] [\"0x0000000000000000\" \"Entero\"] [\",\" \"Invalido\"] [\" \" \"Espacio\"] [\"b\" \"Variable\"] [\":\" \"Invalido\"] [\" \" \"Espacio\"] [\"0\" \"Entero\"] [\"}\" \"Puntuacion\"] [\"\\r\" \"Espacio\"] [\"\\n\" \"Espacio\"] [\"\\t\" \"Espacio\"] [\"// -zero\" \"Comentario\"] [\"\\r\" \"Espacio\"] [\"\\n\" \"Espacio\"] [\"\\t\" \"Espacio\"] [\"NegZero\" \"Variable\"] [\" \" \"Espacio\"] [\"=\" \"Asignacion\"] [\" \" \"Espacio\"] [\"Float\" \"Variable\"] [\"{\" \"Puntuacion\"] [\"a\" \"Variable\"] [\":\" \"Invalido\"] [\" \" \"Espacio\"] [\"0x8000000000000000\" \"Entero\"] [\",\" \"Invalido\"] [\" \" \"Espacio\"] [\"b\" \"Variable\"] [\":\" \"Invalido\"] [\" \" \"Espacio\"] [\"0\" \"Entero\"] [\"}\" \"Puntuacion\"] [\"\\r\" \"Espacio\"] [\"\\n\" \"Espacio\"] [\")\" \"Puntuacion\"] [\"\\r\" \"Espacio\"] [\"\\n\" \"Espacio\"] [\"\\r\" \"Espacio\"] [\"\\n\" \"Espacio\"] [\"// Float is a floating-point number in IEEE 754 quadruple precision format.\" \"Comentario\"] [\"\\r\" \"Espacio\"] [\"\\n\" \"Espacio\"] [\"type\" \"Variable\"] [\" \" \"Espacio\"] [\"Float\" \"Variable\"] [\" \" \"Espacio\"] [\"struct\" \"Variable\"] [\" \" \"Espacio\"] [\"{\" \"Puntuacion\"] [\"\\r\" \"Espacio\"] [\"\\n\" \"Espacio\"] [\"\\t\" \"Espacio\"] [\"// Sign, exponent and fraction.\" \"Comentario\"] [\"\\r\" \"Espacio\"] [\"\\n\" \"Espacio\"] [\"\\t\" \"Espacio\"] [\"//\" \"Comentario\"] [\"\\r\" \"Espacio\"] [\"\\n\" \"Espacio\"] [\"\\t\" \"Espacio\"] [\"//    1 bit:    sign\" \"Comentario\"] [\"\\r\" \"Espacio\"] [\"\\n\" \"Espacio\"] [\"\\t\" \"Espacio\"] [\"//    15 bits:  exponent\" \"Comentario\"] [\"\\r\" \"Espacio\"] [\"\\n\" \"Espacio\"] [\"\\t\" \"Espacio\"] [\"//    112 bits: fraction\" \"Comentario\"] [\"\\r\" \"Espacio\"] [\"\\n\" \"Espacio\"] [\"\\t\" \"Espacio\"] [\"a\" \"Variable\"] [\" \" \"Espacio\"] [\"uint64\" \"Variable\"] [\"\\r\" \"Espacio\"] [\"\\n\" \"Espacio\"] [\"\\t\" \"Espacio\"] [\"b\" \"Variable\"] [\" \" \"Espacio\"] [\"uint64\" \"Variable\"] [\"\\r\" \"Espacio\"] [\"\\n\" \"Espacio\"] [\"}\" \"Puntuacion\"] [\"\\r\" \"Espacio\"] [\"\\n\" \"Espacio\"] [\"\\r\" \"Espacio\"] [\"\\n\" \"Espacio\"] [\"// NewFromBits returns the floating-point number corresponding to the IEEE 754\" \"Comentario\"] [\"\\r\" \"Espacio\"] [\"\\n\" \"Espacio\"] [\"// quadruple precision binary representation.\" \"Comentario\"] [\"\\r\" \"Espacio\"] [\"\\n\" \"Espacio\"] [\"func\" \"Variable\"] [\" \" \"Espacio\"] [\"NewFromBits\" \"Variable\"] [\"(\" \"Puntuacion\"] [\"a\" \"Variable\"] [\",\" \"Invalido\"] [\" \" \"Espacio\"] [\"b\" \"Variable\"] [\" \" \"Espacio\"] [\"uint64\" \"Variable\"] [\")\" \"Puntuacion\"] [\" \" \"Espacio\"] [\"Float\" \"Variable\"] [\" \" \"Espacio\"] [\"{\" \"Puntuacion\"] [\"\\r\" \"Espacio\"] [\"\\n\" \"Espacio\"] [\"\\t\" \"Espacio\"] [\"return\" \"Variable\"] [\" \" \"Espacio\"] [\"Float\" \"Variable\"] [\"{\" \"Puntuacion\"] [\"a\" \"Variable\"] [\":\" \"Invalido\"] [\" \" \"Espacio\"] [\"a\" \"Variable\"] [\",\" \"Invalido\"] [\" \" \"Espacio\"] [\"b\" \"Variable\"] [\":\" \"Invalido\"] [\" \" \"Espacio\"] [\"b\" \"Variable\"] [\"}\" \"Puntuacion\"] [\"\\r\" \"Espacio\"] [\"\\n\" \"Espacio\"] [\"}\" \"Puntuacion\"] [\"\\r\" \"Espacio\"] [\"\\n\" \"Espacio\"] [\"\\r\" \"Espacio\"] [\"\\n\" \"Espacio\"] [\"// NewFromFloat32 returns the nearest quadruple precision floating-point number\" \"Comentario\"] [\"\\r\" \"Espacio\"] [\"\\n\" \"Espacio\"] [\"// for x and the accuracy of the conversion.\" \"Comentario\"] [\"\\r\" \"Espacio\"] [\"\\n\" \"Espacio\"] [\"func\" \"Variable\"] [\" \" \"Espacio\"] [\"NewFromFloat32\" \"Variable\"] [\"(\" \"Puntuacion\"] [\"x\" \"Variable\"] [\" \" \"Espacio\"] [\"float32\" \"Variable\"] [\")\" \"Puntuacion\"] [\" \" \"Espacio\"] [\"(\" \"Puntuacion\"] [\"Float\" \"Variable\"] [\",\" \"Invalido\"] [\" \" \"Espacio\"] [\"big\" \"Variable\"] [\".\" \"Flotante\"] [\"Accuracy\" \"Variable\"] [\")\" \"Puntuacion\"] [\" \" \"Espacio\"] [\"{\" \"Puntuacion\"] [\"\\r\" \"Espacio\"] [\"\\n\" \"Espacio\"] [\"\\t\" \"Espacio\"] [\"f\" \"Variable\"] [\",\" \"Invalido\"] [\" \" \"Espacio\"] [\"acc\" \"Variable\"] [\" \" \"Espacio\"] [\":\" \"Invalido\"] [\"=\" \"Asignacion\"] [\" \" \"Espacio\"] [\"NewFromFloat64\" \"Variable\"] [\"(\" \"Puntuacion\"] [\"float64\" \"Variable\"] [\"(\" \"Puntuacion\"] [\"x\" \"Variable\"] [\")\" \"Puntuacion\"] [\")\" \"Puntuacion\"] [\"\\r\" \"Espacio\"] [\"\\n\" \"Espacio\"] [\"\\t\" \"Espacio\"] [\"if\" \"Variable\"] [\" \" \"Espacio\"] [\"acc\" \"Variable\"] [\" \" \"Espacio\"] [\"=\" \"Asignacion\"] [\"=\" \"Asignacion\"] [\" \" \"Espacio\"] [\"big\" \"Variable\"] [\".\" \"Flotante\"] [\"Exact\" \"Variable\"] [\" \" \"Espacio\"] [\"{\" \"Puntuacion\"])"
      ]
     },
     "execution_count": 16,
     "metadata": {},
     "output_type": "execute_result"
    }
   ],
   "source": [
    "(tokenize-file \"binary128.go\")"
   ]
  },
  {
   "cell_type": "markdown",
   "metadata": {
    "heading_collapsed": true,
    "tags": [],
    "toc-hr-collapsed": true
   },
   "source": [
    "### Prueba local"
   ]
  },
  {
   "cell_type": "code",
   "execution_count": 17,
   "metadata": {
    "hidden": true
   },
   "outputs": [
    {
     "data": {
      "text/plain": [
       "#'user/table-lines"
      ]
     },
     "execution_count": 17,
     "metadata": {},
     "output_type": "execute_result"
    }
   ],
   "source": [
    "(defn table-lines\n",
    "  [file-name]\n",
    "  (->> (tokenize-file file-name)\n",
    "       (map (fn [t] (format \"%-30s%s\" (t 0) (t 1))))))"
   ]
  },
  {
   "cell_type": "code",
   "execution_count": 18,
   "metadata": {
    "hidden": true,
    "scrolled": true
   },
   "outputs": [
    {
     "data": {
      "text/plain": [
       "#'user/line"
      ]
     },
     "execution_count": 18,
     "metadata": {},
     "output_type": "execute_result"
    }
   ],
   "source": [
    "(defn line\n",
    "  [character size]\n",
    "  (clojure.string/join (repeat size character)))"
   ]
  },
  {
   "cell_type": "code",
   "execution_count": 19,
   "metadata": {
    "hidden": true
   },
   "outputs": [
    {
     "data": {
      "text/plain": [
       "#'user/table-string"
      ]
     },
     "execution_count": 19,
     "metadata": {},
     "output_type": "execute_result"
    }
   ],
   "source": [
    "(defn table-string \n",
    "  [file-name]\n",
    "  (clojure.string/join \\newline\n",
    "    (concat [(line \\= 50)]\n",
    "            [(format \"%-30s%s\" \"Token\" \"Tipo\")]\n",
    "            [(line \\= 50)]\n",
    "            (table-lines file-name)\n",
    "            [(line \\= 50)])))"
   ]
  },
  {
   "cell_type": "code",
   "execution_count": 20,
   "metadata": {
    "hidden": true
   },
   "outputs": [
    {
     "data": {
      "text/plain": [
       "#'user/print-token-table"
      ]
     },
     "execution_count": 20,
     "metadata": {},
     "output_type": "execute_result"
    }
   ],
   "source": [
    "(defn print-token-table\n",
    "  [file-name]\n",
    "  (println (table-string file-name)))"
   ]
  },
  {
   "cell_type": "markdown",
   "metadata": {},
   "source": [
    "No se porque marca stack over flow unu"
   ]
  },
  {
   "cell_type": "code",
   "execution_count": 21,
   "metadata": {
    "hidden": true
   },
   "outputs": [
    {
     "data": {
      "text/plain": [
       "([\"//go:generate go run gen.go -o extra_test.go\" \"Comentario\"] [\"\\r\" \"Espacio\"] [\"\\n\" \"Espacio\"] [\"\\r\" \"Espacio\"] [\"\\n\" \"Espacio\"] [\"// Package binary128 implements encoding and decoding of IEEE 754 quadruple\" \"Comentario\"] [\"\\r\" \"Espacio\"] [\"\\n\" \"Espacio\"] [\"// precision floating-point numbers.\" \"Comentario\"] [\"\\r\" \"Espacio\"] [\"\\n\" \"Espacio\"] [\"//\" \"Comentario\"] [\"\\r\" \"Espacio\"] [\"\\n\" \"Espacio\"] [\"// https://en.wikipedia.org/wiki/Quadruple-precision_floating-point_format\" \"Comentario\"] [\"\\r\" \"Espacio\"] [\"\\n\" \"Espacio\"] [\"package\" \"Variable\"] [\" \" \"Espacio\"] [\"binary128\" \"Variable\"] [\"\\r\" \"Espacio\"] [\"\\n\" \"Espacio\"] [\"\\r\" \"Espacio\"] [\"\\n\" \"Espacio\"] [\"import\" \"Constante\"] [\" \" \"Espacio\"] [\"(\" \"Puntuacion\"] [\"\\r\" \"Espacio\"] [\"\\n\" \"Espacio\"] [\"\\t\" \"Espacio\"] [\"\\\"fmt\\\"\\r\\n\\t\\\"math\\\"\\r\\n\\t\\\"math/big\\\"\" \"String\"] [\"\\r\" \"Espacio\"] [\"\\n\" \"Espacio\"] [\")\" \"Puntuacion\"] [\"\\r\" \"Espacio\"] [\"\\n\" \"Espacio\"] [\"\\r\" \"Espacio\"] [\"\\n\" \"Espacio\"] [\"const\" \"Variable\"] [\" \" \"Espacio\"] [\"(\" \"Puntuacion\"] [\"\\r\" \"Espacio\"] [\"\\n\" \"Espacio\"] [\"\\t\" \"Espacio\"] [\"// precision specifies the number of bits in the mantissa (including the\" \"Comentario\"] [\"\\r\" \"Espacio\"] [\"\\n\" \"Espacio\"] [\"\\t\" \"Espacio\"] [\"// implicit lead bit).\" \"Comentario\"] [\"\\r\" \"Espacio\"] [\"\\n\" \"Espacio\"] [\"\\t\" \"Espacio\"] [\"precision\" \"Variable\"] [\" \" \"Espacio\"] [\"=\" \"Asignacion\"] [\" \" \"Espacio\"] [\"113\" \"Entero\"] [\"\\r\" \"Espacio\"] [\"\\n\" \"Espacio\"] [\"\\t\" \"Espacio\"] [\"// exponent bias.\" \"Comentario\"] [\"\\r\" \"Espacio\"] [\"\\n\" \"Espacio\"] [\"\\t\" \"Espacio\"] [\"bias\" \"Variable\"] [\" \" \"Espacio\"] [\"=\" \"Asignacion\"] [\" \" \"Espacio\"] [\"16383\" \"Entero\"] [\"\\r\" \"Espacio\"] [\"\\n\" \"Espacio\"] [\")\" \"Puntuacion\"] [\"\\r\" \"Espacio\"] [\"\\n\" \"Espacio\"] [\"\\r\" \"Espacio\"] [\"\\n\" \"Espacio\"] [\"// Positive and negative Not-a-Number, infinity and zero.\" \"Comentario\"] [\"\\r\" \"Espacio\"] [\"\\n\" \"Espacio\"] [\"var\" \"Constante\"] [\" \" \"Espacio\"] [\"(\" \"Puntuacion\"] [\"\\r\" \"Espacio\"] [\"\\n\" \"Espacio\"] [\"\\t\" \"Espacio\"] [\"// +NaN\" \"Comentario\"] [\"\\r\" \"Espacio\"] [\"\\n\" \"Espacio\"] [\"\\t\" \"Espacio\"] [\"NaN\" \"Variable\"] [\" \" \"Espacio\"] [\"=\" \"Asignacion\"] [\" \" \"Espacio\"] [\"Float\" \"Variable\"] [\"{\" \"Puntuacion\"] [\"a\" \"Variable\"] [\":\" \"Invalido\"] [\" \" \"Espacio\"] [\"0x7FFF800000000000\" \"Entero\"] [\",\" \"Invalido\"] [\" \" \"Espacio\"] [\"b\" \"Variable\"] [\":\" \"Invalido\"] [\" \" \"Espacio\"] [\"0\" \"Entero\"] [\"}\" \"Puntuacion\"] [\"\\r\" \"Espacio\"] [\"\\n\" \"Espacio\"] [\"\\t\" \"Espacio\"] [\"// -NaN\" \"Comentario\"] [\"\\r\" \"Espacio\"] [\"\\n\" \"Espacio\"] [\"\\t\" \"Espacio\"] [\"NegNaN\" \"Variable\"] [\" \" \"Espacio\"] [\"=\" \"Asignacion\"] [\" \" \"Espacio\"] [\"Float\" \"Variable\"] [\"{\" \"Puntuacion\"] [\"a\" \"Variable\"] [\":\" \"Invalido\"] [\" \" \"Espacio\"] [\"0xFFFF800000000000\" \"Entero\"] [\",\" \"Invalido\"] [\" \" \"Espacio\"] [\"b\" \"Variable\"] [\":\" \"Invalido\"] [\" \" \"Espacio\"] [\"0\" \"Entero\"] [\"}\" \"Puntuacion\"] [\"\\r\" \"Espacio\"] [\"\\n\" \"Espacio\"] [\"\\t\" \"Espacio\"] [\"// +Inf\" \"Comentario\"] [\"\\r\" \"Espacio\"] [\"\\n\" \"Espacio\"] [\"\\t\" \"Espacio\"] [\"Inf\" \"Variable\"] [\" \" \"Espacio\"] [\"=\" \"Asignacion\"] [\" \" \"Espacio\"] [\"Float\" \"Variable\"] [\"{\" \"Puntuacion\"] [\"a\" \"Variable\"] [\":\" \"Invalido\"] [\" \" \"Espacio\"] [\"0x7FFF000000000000\" \"Entero\"] [\",\" \"Invalido\"] [\" \" \"Espacio\"] [\"b\" \"Variable\"] [\":\" \"Invalido\"] [\" \" \"Espacio\"] [\"0\" \"Entero\"] [\"}\" \"Puntuacion\"] [\"\\r\" \"Espacio\"] [\"\\n\" \"Espacio\"] [\"\\t\" \"Espacio\"] [\"// -Inf\" \"Comentario\"] [\"\\r\" \"Espacio\"] [\"\\n\" \"Espacio\"] [\"\\t\" \"Espacio\"] [\"NegInf\" \"Variable\"] [\" \" \"Espacio\"] [\"=\" \"Asignacion\"] [\" \" \"Espacio\"] [\"Float\" \"Variable\"] [\"{\" \"Puntuacion\"] [\"a\" \"Variable\"] [\":\" \"Invalido\"] [\" \" \"Espacio\"] [\"0xFFFF000000000000\" \"Entero\"] [\",\" \"Invalido\"] [\" \" \"Espacio\"] [\"b\" \"Variable\"] [\":\" \"Invalido\"] [\" \" \"Espacio\"] [\"0\" \"Entero\"] [\"}\" \"Puntuacion\"] [\"\\r\" \"Espacio\"] [\"\\n\" \"Espacio\"] [\"\\t\" \"Espacio\"] [\"// +zero\" \"Comentario\"] [\"\\r\" \"Espacio\"] [\"\\n\" \"Espacio\"] [\"\\t\" \"Espacio\"] [\"Zero\" \"Variable\"] [\" \" \"Espacio\"] [\"=\" \"Asignacion\"] [\" \" \"Espacio\"] [\"Float\" \"Variable\"] [\"{\" \"Puntuacion\"] [\"a\" \"Variable\"] [\":\" \"Invalido\"] [\" \" \"Espacio\"] [\"0x0000000000000000\" \"Entero\"] [\",\" \"Invalido\"] [\" \" \"Espacio\"] [\"b\" \"Variable\"] [\":\" \"Invalido\"] [\" \" \"Espacio\"] [\"0\" \"Entero\"] [\"}\" \"Puntuacion\"] [\"\\r\" \"Espacio\"] [\"\\n\" \"Espacio\"] [\"\\t\" \"Espacio\"] [\"// -zero\" \"Comentario\"] [\"\\r\" \"Espacio\"] [\"\\n\" \"Espacio\"] [\"\\t\" \"Espacio\"] [\"NegZero\" \"Variable\"] [\" \" \"Espacio\"] [\"=\" \"Asignacion\"] [\" \" \"Espacio\"] [\"Float\" \"Variable\"] [\"{\" \"Puntuacion\"] [\"a\" \"Variable\"] [\":\" \"Invalido\"] [\" \" \"Espacio\"] [\"0x8000000000000000\" \"Entero\"] [\",\" \"Invalido\"] [\" \" \"Espacio\"] [\"b\" \"Variable\"] [\":\" \"Invalido\"] [\" \" \"Espacio\"] [\"0\" \"Entero\"] [\"}\" \"Puntuacion\"] [\"\\r\" \"Espacio\"] [\"\\n\" \"Espacio\"] [\")\" \"Puntuacion\"] [\"\\r\" \"Espacio\"] [\"\\n\" \"Espacio\"] [\"\\r\" \"Espacio\"] [\"\\n\" \"Espacio\"] [\"// Float is a floating-point number in IEEE 754 quadruple precision format.\" \"Comentario\"] [\"\\r\" \"Espacio\"] [\"\\n\" \"Espacio\"] [\"type\" \"Variable\"] [\" \" \"Espacio\"] [\"Float\" \"Variable\"] [\" \" \"Espacio\"] [\"struct\" \"Variable\"] [\" \" \"Espacio\"] [\"{\" \"Puntuacion\"] [\"\\r\" \"Espacio\"] [\"\\n\" \"Espacio\"] [\"\\t\" \"Espacio\"] [\"// Sign, exponent and fraction.\" \"Comentario\"] [\"\\r\" \"Espacio\"] [\"\\n\" \"Espacio\"] [\"\\t\" \"Espacio\"] [\"//\" \"Comentario\"] [\"\\r\" \"Espacio\"] [\"\\n\" \"Espacio\"] [\"\\t\" \"Espacio\"] [\"//    1 bit:    sign\" \"Comentario\"] [\"\\r\" \"Espacio\"] [\"\\n\" \"Espacio\"] [\"\\t\" \"Espacio\"] [\"//    15 bits:  exponent\" \"Comentario\"] [\"\\r\" \"Espacio\"] [\"\\n\" \"Espacio\"] [\"\\t\" \"Espacio\"] [\"//    112 bits: fraction\" \"Comentario\"] [\"\\r\" \"Espacio\"] [\"\\n\" \"Espacio\"] [\"\\t\" \"Espacio\"] [\"a\" \"Variable\"] [\" \" \"Espacio\"] [\"uint64\" \"Variable\"] [\"\\r\" \"Espacio\"] [\"\\n\" \"Espacio\"] [\"\\t\" \"Espacio\"] [\"b\" \"Variable\"] [\" \" \"Espacio\"] [\"uint64\" \"Variable\"] [\"\\r\" \"Espacio\"] [\"\\n\" \"Espacio\"] [\"}\" \"Puntuacion\"] [\"\\r\" \"Espacio\"] [\"\\n\" \"Espacio\"] [\"\\r\" \"Espacio\"] [\"\\n\" \"Espacio\"] [\"// NewFromBits returns the floating-point number corresponding to the IEEE 754\" \"Comentario\"] [\"\\r\" \"Espacio\"] [\"\\n\" \"Espacio\"] [\"// quadruple precision binary representation.\" \"Comentario\"] [\"\\r\" \"Espacio\"] [\"\\n\" \"Espacio\"] [\"func\" \"Variable\"] [\" \" \"Espacio\"] [\"NewFromBits\" \"Variable\"] [\"(\" \"Puntuacion\"] [\"a\" \"Variable\"] [\",\" \"Invalido\"] [\" \" \"Espacio\"] [\"b\" \"Variable\"] [\" \" \"Espacio\"] [\"uint64\" \"Variable\"] [\")\" \"Puntuacion\"] [\" \" \"Espacio\"] [\"Float\" \"Variable\"] [\" \" \"Espacio\"] [\"{\" \"Puntuacion\"] [\"\\r\" \"Espacio\"] [\"\\n\" \"Espacio\"] [\"\\t\" \"Espacio\"] [\"return\" \"Variable\"] [\" \" \"Espacio\"] [\"Float\" \"Variable\"] [\"{\" \"Puntuacion\"] [\"a\" \"Variable\"] [\":\" \"Invalido\"] [\" \" \"Espacio\"] [\"a\" \"Variable\"] [\",\" \"Invalido\"] [\" \" \"Espacio\"] [\"b\" \"Variable\"] [\":\" \"Invalido\"] [\" \" \"Espacio\"] [\"b\" \"Variable\"] [\"}\" \"Puntuacion\"] [\"\\r\" \"Espacio\"] [\"\\n\" \"Espacio\"] [\"}\" \"Puntuacion\"] [\"\\r\" \"Espacio\"] [\"\\n\" \"Espacio\"] [\"\\r\" \"Espacio\"] [\"\\n\" \"Espacio\"] [\"// NewFromFloat32 returns the nearest quadruple precision floating-point number\" \"Comentario\"] [\"\\r\" \"Espacio\"] [\"\\n\" \"Espacio\"] [\"// for x and the accuracy of the conversion.\" \"Comentario\"] [\"\\r\" \"Espacio\"] [\"\\n\" \"Espacio\"] [\"func\" \"Variable\"] [\" \" \"Espacio\"] [\"NewFromFloat32\" \"Variable\"] [\"(\" \"Puntuacion\"] [\"x\" \"Variable\"] [\" \" \"Espacio\"] [\"float32\" \"Variable\"] [\")\" \"Puntuacion\"] [\" \" \"Espacio\"] [\"(\" \"Puntuacion\"] [\"Float\" \"Variable\"] [\",\" \"Invalido\"] [\" \" \"Espacio\"] [\"big\" \"Variable\"] [\".\" \"Flotante\"] [\"Accuracy\" \"Variable\"] [\")\" \"Puntuacion\"] [\" \" \"Espacio\"] [\"{\" \"Puntuacion\"] [\"\\r\" \"Espacio\"] [\"\\n\" \"Espacio\"] [\"\\t\" \"Espacio\"] [\"f\" \"Variable\"] [\",\" \"Invalido\"] [\" \" \"Espacio\"] [\"acc\" \"Variable\"] [\" \" \"Espacio\"] [\":\" \"Invalido\"] [\"=\" \"Asignacion\"] [\" \" \"Espacio\"] [\"NewFromFloat64\" \"Variable\"] [\"(\" \"Puntuacion\"] [\"float64\" \"Variable\"] [\"(\" \"Puntuacion\"] [\"x\" \"Variable\"] [\")\" \"Puntuacion\"] [\")\" \"Puntuacion\"] [\"\\r\" \"Espacio\"] [\"\\n\" \"Espacio\"] [\"\\t\" \"Espacio\"] [\"if\" \"Variable\"] [\" \" \"Espacio\"] [\"acc\" \"Variable\"] [\" \" \"Espacio\"] [\"=\" \"Asignacion\"] [\"=\" \"Asignacion\"] [\" \" \"Espacio\"] [\"big\" \"Variable\"] [\".\" \"Flotante\"] [\"Exact\" \"Variable\"] [\" \" \"Espacio\"] [\"{\" \"Puntuacion\"])"
      ]
     },
     "execution_count": 21,
     "metadata": {},
     "output_type": "execute_result"
    }
   ],
   "source": [
    ";cree una carpeta llamada \"pruebaParaleloBorrar\" donde puse dos archivos go, pero sólo con 60 líneas cada uno\n",
    "(tokenize-file \"Archivos_prueba/pruebaParaleloBorrar/binary128.go\")"
   ]
  },
  {
   "cell_type": "markdown",
   "metadata": {},
   "source": [
    "### En HTML"
   ]
  },
  {
   "cell_type": "code",
   "execution_count": 22,
   "metadata": {},
   "outputs": [
    {
     "data": {
      "text/plain": [
       "#'user/reemplaza"
      ]
     },
     "execution_count": 22,
     "metadata": {},
     "output_type": "execute_result"
    }
   ],
   "source": [
    "(defn reemplaza [string]\n",
    "  \"Remplaza carácteres &,<,> por sus equivalentes en html.\"\n",
    "  (->> (clojure.string/replace string #\"&\" \"&amp\")\n",
    "       (map (fn [string] (clojure.string/replace string #\"<\" \"&lt\")))\n",
    "       (map (fn [string] (clojure.string/replace string #\">\" \"&gt\")))\n",
    "       (reduce str)))"
   ]
  },
  {
   "cell_type": "code",
   "execution_count": 23,
   "metadata": {},
   "outputs": [
    {
     "data": {
      "text/plain": [
       "#'user/etiquetas"
      ]
     },
     "execution_count": 23,
     "metadata": {},
     "output_type": "execute_result"
    }
   ],
   "source": [
    "(defn etiquetas [file-name]\n",
    "    \"Genera las etiquetas HTML.\"\n",
    "  (->> (tokenize-file file-name)\n",
    "    ; Si (t 1) == Espacio dejarlo normal, si no el span\n",
    "       (map (fn [t] (if (= (t 1) \"Espacio\")\n",
    "                      (t 0)\n",
    "                      (clojure.string/join \n",
    "                       [\"<span id = '\" \n",
    "                        (t 1) \n",
    "                        \"'>\" \n",
    "                        (reemplaza (t 0)) \n",
    "                        \"</span>\"]))))\n",
    "       (reduce str)))"
   ]
  },
  {
   "cell_type": "code",
   "execution_count": 24,
   "metadata": {},
   "outputs": [
    {
     "data": {
      "text/plain": [
       "#'user/final"
      ]
     },
     "execution_count": 24,
     "metadata": {},
     "output_type": "execute_result"
    }
   ],
   "source": [
    "(defn final [file-name]\n",
    "  (clojure.string/join [(slurp \"inicio.txt\")\n",
    "                        (etiquetas file-name)\n",
    "                        (slurp \"final.txt\")]))"
   ]
  },
  {
   "cell_type": "code",
   "execution_count": 25,
   "metadata": {},
   "outputs": [
    {
     "data": {
      "text/plain": [
       "#'user/procesa-texto"
      ]
     },
     "execution_count": 25,
     "metadata": {},
     "output_type": "execute_result"
    }
   ],
   "source": [
    ";funcion final\n",
    "(defn procesa-texto [file-name]\n",
    "  (spit (clojure.string/join [\"Resultado/\" file-name \".html\"]) \n",
    "        (final (clojure.string/join [file-name \".go\"]))))"
   ]
  },
  {
   "cell_type": "code",
   "execution_count": 26,
   "metadata": {},
   "outputs": [
    {
     "data": {
      "text/plain": [
       "nil"
      ]
     },
     "execution_count": 26,
     "metadata": {},
     "output_type": "execute_result"
    }
   ],
   "source": [
    "(procesa-texto \"ejemplo\")"
   ]
  },
  {
   "cell_type": "code",
   "execution_count": 27,
   "metadata": {},
   "outputs": [
    {
     "name": "stderr",
     "output_type": "stream",
     "text": [
      "Execution error (FileNotFoundException) at java.io.FileOutputStream/open0 (FileOutputStream.java:-2).\n",
      "Resultado\\Archivos_prueba\\pruebaParaleloBorrar\\binary128.html (El sistema no puede encontrar la ruta especificada)\n"
     ]
    },
    {
     "ename": "class java.io.FileNotFoundException",
     "evalue": "",
     "execution_count": 27,
     "output_type": "error",
     "status": "error",
     "traceback": [
      "FileOutputStream.java:    -2 java.io.FileOutputStream/open0",
      "FileOutputStream.java:   270 java.io.FileOutputStream/open",
      "FileOutputStream.java:   213 java.io.FileOutputStream/<init>",
      "               io.clj:   230 clojure.java.io$fn__11498/invokeStatic",
      "               io.clj:    69 clojure.java.io$fn__11435$G__11404__11442/invoke",
      "               io.clj:   263 clojure.java.io$fn__11510/invokeStatic",
      "               io.clj:   259 clojure.java.io$fn__11510/invoke",
      "               io.clj:    69 clojure.java.io$fn__11435$G__11404__11442/invoke",
      "               io.clj:   166 clojure.java.io$fn__11472/invokeStatic",
      "               io.clj:    69 clojure.java.io$fn__11448$G__11400__11455/invoke",
      "               io.clj:   119 clojure.java.io$writer/invokeStatic",
      "               io.clj:   104 clojure.java.io$writer/doInvoke",
      "          RestFn.java:   410 clojure.lang.RestFn/invoke",
      "             AFn.java:   154 clojure.lang.AFn/applyToHelper",
      "          RestFn.java:   132 clojure.lang.RestFn/applyTo",
      "             core.clj:   667 clojure.core$apply/invokeStatic",
      "             core.clj:  6954 clojure.core$spit/invokeStatic",
      "          RestFn.java:   425 clojure.lang.RestFn/invoke",
      "             core.clj:  3214 clojure.core$eval/invokeStatic",
      "             core.clj:  3210 clojure.core$eval/invoke",
      "             main.clj:   437 clojure.main$repl$read_eval_print__9086$fn__9089/invoke",
      "             main.clj:   458 clojure.main$repl$fn__9095/invoke",
      "             main.clj:   368 clojure.main$repl/doInvoke",
      "          RestFn.java:  1523 clojure.lang.RestFn/invoke",
      "             AFn.java:    22 clojure.lang.AFn/run ",
      "             AFn.java:    22 clojure.lang.AFn/run ",
      "          Thread.java:   748 java.lang.Thread/run "
     ]
    }
   ],
   "source": [
    ";si corres esto se generan los archivos html en el directorio que cree\n",
    "(procesa-texto \"Archivos_prueba/pruebaParaleloBorrar/binary128\")"
   ]
  },
  {
   "cell_type": "code",
   "execution_count": 28,
   "metadata": {},
   "outputs": [
    {
     "data": {
      "text/plain": [
       "#'user/get-file-info"
      ]
     },
     "execution_count": 28,
     "metadata": {},
     "output_type": "execute_result"
    }
   ],
   "source": [
    "(defn get-file-info\n",
    "  [dir]\n",
    "  (map (fn [f]\n",
    "         [(.getPath f) (.isFile f) (.getName f)]);obtiene 3 informaciones de cada archivo\n",
    "       (file-seq (clojure.java.io/file dir))));   para usarlo en la función valid-file-names qu esta abajo"
   ]
  },
  {
   "cell_type": "code",
   "execution_count": 42,
   "metadata": {},
   "outputs": [
    {
     "name": "stdout",
     "output_type": "stream",
     "text": [
      "([\"Archivos_prueba\\\\10archivos\" false \"10archivos\"]\n",
      " [\"Archivos_prueba\\\\10archivos\\\\.ipynb_checkpoints\"\n",
      "  false\n",
      "  \".ipynb_checkpoints\"]\n",
      " [\"Archivos_prueba\\\\10archivos\\\\.ipynb_checkpoints\\\\Untitled-checkpoint.ipynb\"\n",
      "  true\n",
      "  \"Untitled-checkpoint.ipynb\"]\n",
      " [\"Archivos_prueba\\\\10archivos\\\\Untitled.ipynb\" true \"Untitled.ipynb\"])\n"
     ]
    },
    {
     "data": {
      "text/plain": [
       "nil"
      ]
     },
     "execution_count": 42,
     "metadata": {},
     "output_type": "execute_result"
    }
   ],
   "source": [
    ";prueba para ver qué datos recopila, ya cuando lo acabemos modificare la función \n",
    ";para quitar .getPath ya que es irrelevante en el código\n",
    "(clojure.pprint/pprint (get-file-info \"Archivos_prueba/10archivos\"))"
   ]
  },
  {
   "cell_type": "code",
   "execution_count": 41,
   "metadata": {},
   "outputs": [
    {
     "data": {
      "text/plain": [
       "#'user/valid-file-names"
      ]
     },
     "execution_count": 41,
     "metadata": {},
     "output_type": "execute_result"
    }
   ],
   "source": [
    ";Esta función sirve para obtener todos los nombres que se encuentren en la carpeta a analizar.\n",
    ";Como en la función de procesa-texto se pide el nombre del archivo sin extensión,\n",
    ";cree esta función\n",
    "(defn valid-file-names\n",
    "  [dir]                                        ;obtiene los nombres del directorio\n",
    "  (->> (for [f (get-file-info dir) :when (f 1)];(f 1) es true o false si es archivo o no\n",
    "            (f 2)) ;si (f 1) es verdadero se incluye el nombre del archivo\n",
    "       (remove (fn [string1] (re-seq #\"(?xi) (checkpoint|[.]css|[.]html)\" string1)));quita archivos checkpoint que hace jupyterlab, archivos html y css\n",
    "       (map (fn [string] (clojure.string/replace string #\".go\" \"\")));los archivos go le quita su extensión\n",
    "       (map (fn [name1] (clojure.string/join [dir \"/\" name1])))));le agrega su extensión que se pone como parámetro dir\n",
    "                                                    ;porque si sólo se queda el nombre, no va a encontrar el archivo en caso de que\n",
    "                                                    ;el archivo este en otro directorio"
   ]
  },
  {
   "cell_type": "code",
   "execution_count": 49,
   "metadata": {},
   "outputs": [
    {
     "data": {
      "text/plain": [
       "(\"Archivos_prueba/10archivos/Untitled.ipynb\")"
      ]
     },
     "execution_count": 49,
     "metadata": {},
     "output_type": "execute_result"
    }
   ],
   "source": [
    "(valid-file-names \"Archivos_prueba/10archivos\")"
   ]
  },
  {
   "cell_type": "markdown",
   "metadata": {},
   "source": [
    "## La función de abajo es la que hace todo la parte 1\n",
    "\n",
    "Esta es la parte que creo que tiene que ir con loop recur y que se utilizará en el pmap de la función paralela"
   ]
  },
  {
   "cell_type": "code",
   "execution_count": 71,
   "metadata": {},
   "outputs": [
    {
     "data": {
      "text/plain": [
       "#'user/part-one2"
      ]
     },
     "execution_count": 71,
     "metadata": {},
     "output_type": "execute_result"
    }
   ],
   "source": [
    ";(defn part-one     ;esta función recibe el directorio y aplica la función procesa-texto\n",
    ";  [directory]\n",
    ";  (map (fn [string] (procesa-texto string)) (valid-file-names directory)))\n",
    "\n",
    "(defn part-one2    ;esta función hace lo mismo pero recibe una lista de los nombres\n",
    "  [directory]\n",
    "  (map procesa-texto directory))"
   ]
  },
  {
   "cell_type": "code",
   "execution_count": 80,
   "metadata": {},
   "outputs": [
    {
     "data": {
      "text/plain": [
       "#'user/archivos-prueba"
      ]
     },
     "execution_count": 80,
     "metadata": {},
     "output_type": "execute_result"
    }
   ],
   "source": [
    "(def archivos-prueba (map #(clojure.string/replace % #\"prueba1/\" \"\") (valid-file-names \"prueba1\")))"
   ]
  },
  {
   "cell_type": "code",
   "execution_count": 72,
   "metadata": {},
   "outputs": [
    {
     "data": {
      "text/plain": [
       "(nil nil)"
      ]
     },
     "execution_count": 72,
     "metadata": {},
     "output_type": "execute_result"
    }
   ],
   "source": [
    "(part-one2 archivos-prueba)"
   ]
  },
  {
   "cell_type": "code",
   "execution_count": 64,
   "metadata": {},
   "outputs": [
    {
     "data": {
      "text/plain": [
       "(nil nil)"
      ]
     },
     "execution_count": 64,
     "metadata": {},
     "output_type": "execute_result"
    }
   ],
   "source": [
    ";(part-one \"Archivos_prueba/10archivos\")\n",
    "(part-one2 archivos-prueba)"
   ]
  },
  {
   "cell_type": "markdown",
   "metadata": {},
   "source": [
    "## Paralelo"
   ]
  },
  {
   "cell_type": "code",
   "execution_count": 34,
   "metadata": {},
   "outputs": [
    {
     "data": {
      "text/plain": [
       "#'user/ranges-str"
      ]
     },
     "execution_count": 34,
     "metadata": {},
     "output_type": "execute_result"
    }
   ],
   "source": [
    ";esta función hace que haga una secuencia \n",
    "(defn ranges-str\n",
    "  [p strings]\n",
    "  (partition p strings))"
   ]
  },
  {
   "cell_type": "code",
   "execution_count": 81,
   "metadata": {},
   "outputs": [
    {
     "name": "stdout",
     "output_type": "stream",
     "text": [
      "(binary128-Copy1 binary128 ejemplo-Copy1 ejemplo)\n"
     ]
    },
    {
     "data": {
      "text/plain": [
       "nil"
      ]
     },
     "execution_count": 81,
     "metadata": {},
     "output_type": "execute_result"
    }
   ],
   "source": [
    "(println archivos-prueba)"
   ]
  },
  {
   "cell_type": "code",
   "execution_count": 88,
   "metadata": {},
   "outputs": [
    {
     "data": {
      "text/plain": [
       "((\"binary128-Copy1\" \"binary128\") (\"ejemplo-Copy1\" \"ejemplo\"))"
      ]
     },
     "execution_count": 88,
     "metadata": {},
     "output_type": "execute_result"
    }
   ],
   "source": [
    "(partition 2 archivos-prueba)"
   ]
  },
  {
   "cell_type": "code",
   "execution_count": 92,
   "metadata": {},
   "outputs": [
    {
     "data": {
      "text/plain": [
       "#'user/parallel-Ariadna"
      ]
     },
     "execution_count": 92,
     "metadata": {},
     "output_type": "execute_result"
    }
   ],
   "source": [
    ";esta es la función paralela de la parte 2\n",
    "(defn parallel\n",
    "  [p directory]\n",
    "  (->> (ranges-str p (valid-file-names directory));busca los nombres en el directorio y regresa una secuencia particionada\n",
    "       (pmap (fn [lst-str] (procesa-texto lst-str)))));procesa la secuencia particionada con un pmap\n",
    "\n",
    ";esta función es lo mismo que la de arriba, nada más que la puse para que reciba una lista con los nombres de los archivos\n",
    ";porque hice otra función? porque la función de arriba no jala unu,falla al querer procesar lo que regresa la línea 4\n",
    ";regresa algo asi: ((\"binary128\" \"binary16_test\") (\"esto\" \"es\") (\"una\" \"prueba\")) y el pmap no sabe que hacer con\n",
    ";una secuencia de secuencias uwu\n",
    "(defn parallel-prueba\n",
    "  [string]\n",
    "  (pmap (fn [n] (procesa-texto n)) string))\n",
    "\n",
    "(defn parallel-Ariadna  \n",
    "  [p archivo]\n",
    "  (->> (partition p archivo)\n",
    "       (pmap \n",
    "         #(part-one2 %))))"
   ]
  },
  {
   "cell_type": "code",
   "execution_count": 93,
   "metadata": {},
   "outputs": [
    {
     "data": {
      "text/plain": [
       "((nil nil) (nil nil))"
      ]
     },
     "execution_count": 93,
     "metadata": {},
     "output_type": "execute_result"
    }
   ],
   "source": [
    "(parallel-Ariadna 2 archivos-prueba)"
   ]
  },
  {
   "cell_type": "markdown",
   "metadata": {},
   "source": [
    "## Pruebas"
   ]
  },
  {
   "cell_type": "code",
   "execution_count": 96,
   "metadata": {},
   "outputs": [
    {
     "name": "stdout",
     "output_type": "stream",
     "text": [
      "\"Elapsed time: 0.0044 msecs\"\n",
      "\"Elapsed time: 9.0E-4 msecs\"\n",
      "\"Elapsed time: 7.01E-4 msecs\"\n",
      "\"Elapsed time: 7.0E-4 msecs\"\n",
      "\"Elapsed time: 9.0E-4 msecs\"\n"
     ]
    },
    {
     "data": {
      "text/plain": [
       "nil"
      ]
     },
     "execution_count": 96,
     "metadata": {},
     "output_type": "execute_result"
    }
   ],
   "source": [
    "(doseq [i (range 5)]\n",
    "  (time (part-one2 \n",
    "         archivos-prueba)))"
   ]
  },
  {
   "cell_type": "code",
   "execution_count": 97,
   "metadata": {},
   "outputs": [
    {
     "name": "stdout",
     "output_type": "stream",
     "text": [
      "\"Elapsed time: 0.0437 msecs\"\n",
      "\"Elapsed time: 0.0418 msecs\"\n",
      "\"Elapsed time: 0.0277 msecs\"\n",
      "\"Elapsed time: 0.0211 msecs\"\n",
      "\"Elapsed time: 0.0204 msecs\"\n"
     ]
    },
    {
     "data": {
      "text/plain": [
       "nil"
      ]
     },
     "execution_count": 97,
     "metadata": {},
     "output_type": "execute_result"
    }
   ],
   "source": [
    "(doseq [i (range 5)]\n",
    "  (time (parallel-Ariadna\n",
    "         2 archivos-prueba)))"
   ]
  },
  {
   "cell_type": "code",
   "execution_count": null,
   "metadata": {},
   "outputs": [],
   "source": []
  }
 ],
 "metadata": {
  "kernelspec": {
   "display_name": "Clojure (clojupyter=0.3.2=1)",
   "language": "clojure",
   "name": "conda-clojupyter"
  },
  "language_info": {
   "file_extension": ".clj",
   "mimetype": "text/x-clojure",
   "name": "clojure",
   "version": "1.10.1"
  },
  "toc": {
   "base_numbering": 1,
   "nav_menu": {},
   "number_sections": true,
   "sideBar": true,
   "skip_h1_title": false,
   "title_cell": "Table of Contents",
   "title_sidebar": "Contents",
   "toc_cell": false,
   "toc_position": {
    "height": "calc(100% - 180px)",
    "left": "10px",
    "top": "150px",
    "width": "286px"
   },
   "toc_section_display": true,
   "toc_window_display": true
  }
 },
 "nbformat": 4,
 "nbformat_minor": 4
}
