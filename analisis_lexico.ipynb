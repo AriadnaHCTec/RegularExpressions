{
 "cells": [
  {
   "cell_type": "markdown",
   "metadata": {},
   "source": [
    "# Proyecto integrador\n",
    "\n",
    "Miguel Ángel Pérez López A01750145\n",
    "\n",
    "Ariadna Huesca Coronado A01749161\n",
    "\n",
    "Lenguaje: GO\n",
    "\n",
    "https://golang.org/ref/spec#Floating-point_literals\n",
    "\n",
    "http://www.regular-expressions.info/unicode.html#prop"
   ]
  },
  {
   "cell_type": "code",
   "execution_count": 1,
   "metadata": {},
   "outputs": [
    {
     "data": {
      "text/plain": [
       "nil"
      ]
     },
     "execution_count": 1,
     "metadata": {},
     "output_type": "execute_result"
    }
   ],
   "source": [
    ";; External function required for this notebook.\n",
    "(require '[clojure.test :refer [is]])"
   ]
  },
  {
   "cell_type": "markdown",
   "metadata": {},
   "source": [
    "Variable"
   ]
  },
  {
   "cell_type": "code",
   "execution_count": 10,
   "metadata": {},
   "outputs": [
    {
     "data": {
      "text/plain": [
       "\"αβ\""
      ]
     },
     "execution_count": 10,
     "metadata": {},
     "output_type": "execute_result"
    }
   ],
   "source": [
    ";;; Regular expression:\n",
    "(def java-float #\"(?xi)\n",
    "                    [\\p{L}_][\\p{L}\\d]*\") \n",
    "(is (re-matches java-float \"a\"))\n",
    "(is (re-matches java-float \"_x9\"))\n",
    "(is (re-matches java-float \"ThisVariableIsExported\"))\n",
    "(is (re-matches java-float \"αβ\"))\n",
    ";(is (not (re-matches java-float \".\")))"
   ]
  },
  {
   "cell_type": "markdown",
   "metadata": {},
   "source": [
    "STRING"
   ]
  },
  {
   "cell_type": "code",
   "execution_count": 3,
   "metadata": {},
   "outputs": [
    {
     "name": "stderr",
     "output_type": "stream",
     "text": [
      "Syntax error reading source at (REPL:2:24).\n",
      "Illegal/unsupported escape sequence near index 27\n",
      "(?xi)\n",
      "                    \\X\n",
      "                           ^\n"
     ]
    },
    {
     "ename": "class clojure.lang.ExceptionInfo",
     "evalue": "",
     "execution_count": 3,
     "output_type": "error",
     "status": "error",
     "traceback": [
      "   Pattern.java:  1969 java.util.regex.Pattern/error",
      "   Pattern.java:  2485 java.util.regex.Pattern/escape",
      "   Pattern.java:  2212 java.util.regex.Pattern/atom",
      "   Pattern.java:  2093 java.util.regex.Pattern/sequence",
      "   Pattern.java:  2010 java.util.regex.Pattern/expr",
      "   Pattern.java:  1702 java.util.regex.Pattern/compile",
      "   Pattern.java:  1352 java.util.regex.Pattern/<init>",
      "   Pattern.java:  1028 java.util.regex.Pattern/compile",
      "LispReader.java:   551 clojure.lang.LispReader$RegexReader/invoke",
      "LispReader.java:   853 clojure.lang.LispReader$DispatchReader/invoke",
      "LispReader.java:   285 clojure.lang.LispReader/read",
      "LispReader.java:  1398 clojure.lang.LispReader/readDelimitedList",
      "LispReader.java:  1243 clojure.lang.LispReader$ListReader/invoke",
      "LispReader.java:   285 clojure.lang.LispReader/read",
      "       core.clj:  3768 clojure.core$read/invokeStatic",
      "       core.clj:  3741 clojure.core$read/invoke",
      "       main.clj:   433 clojure.main$repl$read_eval_print__9086$fn__9087/invoke",
      "       main.clj:   432 clojure.main$repl$read_eval_print__9086/invoke",
      "       main.clj:   458 clojure.main$repl$fn__9095/invoke",
      "       main.clj:   368 clojure.main$repl/doInvoke",
      "    RestFn.java:  1523 clojure.lang.RestFn/invoke",
      "       AFn.java:    22 clojure.lang.AFn/run",
      "       AFn.java:    22 clojure.lang.AFn/run",
      "    Thread.java:   748 java.lang.Thread/run"
     ]
    }
   ],
   "source": [
    "(def java-float #\"(?xi)\n",
    "                    \\X\") "
   ]
  },
  {
   "cell_type": "code",
   "execution_count": 38,
   "metadata": {},
   "outputs": [
    {
     "data": {
      "text/plain": [
       "[\"\\\"日本語\\\"\" nil nil \"\\\"日本語\\\"\"]"
      ]
     },
     "execution_count": 38,
     "metadata": {},
     "output_type": "execute_result"
    }
   ],
   "source": [
    ";;; Regular expression:\n",
    "(def java-float #\"(?xi)\n",
    "                    (`(\\P{M}\\p{M}*+)*`)\n",
    "                    |(\\\"\n",
    "                        [(\\P{M}\\p{M}*+)]*\n",
    "                      \\\")\") \n",
    "(is (re-matches java-float \"`abc`\"))\n",
    "(is (re-matches java-float \"`\\n\n",
    "\n",
    "               \\n`\"))\n",
    "(is (re-matches java-float \"\\\"\\\"\\\"\"))\n",
    "(is (re-matches java-float \"\\\"Hello, world!\\n\\\"\"))\n",
    "(is (re-matches java-float \"\\\"日本語\\\"\"))\n",
    ";(is (re-matches java-float \"\\\"\\u65e5本\\U00008a9e\\\"\"))\n",
    ";(is (re-matches java-float \"\\\"\\xff\\u00FF\\\"\"))\n",
    ";(is (not (re-matches java-float \"\\uD800\")))\n",
    ";(is (not (re-matches java-float \"\\U00110000\")))"
   ]
  },
  {
   "cell_type": "code",
   "execution_count": 3,
   "metadata": {},
   "outputs": [
    {
     "data": {
      "text/plain": [
       "#'user/regex"
      ]
     },
     "execution_count": 3,
     "metadata": {},
     "output_type": "execute_result"
    }
   ],
   "source": [
    "(def regex #\"(?xi)\n",
    "    ( [+-]? \\d+ [.] \\d* (?: e [+-]? \\d+)? )  # Grupo 1: Flotante\n",
    "  | ( \\d+ )                                  # Grupo 2: Entero\n",
    "  | ( // .* )                                # Grupo 3: Comentario\n",
    "  | ( [a-z] \\w* )                            # Grupo 4: Variable\n",
    "  | ( [=] )                                  # Grupo 5: Asignación\n",
    "  | ( [+] )                                  # Grupo 6: Suma\n",
    "  | ( [-] )                                  # Grupo 7: Resta\n",
    "  | ( [*] )                                  # Grupo 8: Multiplicación\n",
    "  | ( [/] )                                  # Grupo 9: División\n",
    "  | ( \\^ )                                   # Grupo 10: Potencia\n",
    "  | ( [(] )                                  # Grupo 11: Paréntesis que abre\n",
    "  | ( [)] )                                  # Grupo 12: Paréntesis que cierra\n",
    "  | ( \\s )                                   # Grupo 13: Espacios\n",
    "  | ( . )                                    # Grupo 14: Carácter inválido\n",
    "  \")"
   ]
  },
  {
   "cell_type": "code",
   "execution_count": 4,
   "metadata": {},
   "outputs": [
    {
     "data": {
      "text/plain": [
       "#'user/tokenize-file"
      ]
     },
     "execution_count": 4,
     "metadata": {},
     "output_type": "execute_result"
    }
   ],
   "source": [
    "(defn tokenize-file\n",
    "  [file-name]\n",
    "  (->> (re-seq regex (slurp file-name))\n",
    "       (remove (fn [match] (match 13)))\n",
    "       (map (fn [match]\n",
    "              (let [token (match 0)]\n",
    "                (cond\n",
    "                  (match 1) [token \"Flotante\"]\n",
    "                  (match 2) [token \"Entero\"]\n",
    "                  (match 3) [token \"Comentario\"]\n",
    "                  (match 4) [token \"Variable\"]\n",
    "                  (match 5) [token \"Asignación\"]\n",
    "                  (match 6) [token \"Sum\"]\n",
    "                  (match 7) [token \"Resta\"]\n",
    "                  (match 8) [token \"Multiplicación\"]\n",
    "                  (match 9) [token \"División\"]\n",
    "                  (match 10) [token \"Potencia\"]\n",
    "                  (match 11) [token \"Paréntesis que abre\"]\n",
    "                  (match 12) [token \"Paréntesis que cierra\"]\n",
    "                  (match 14) [token \"Carácter inválido\"]))))))"
   ]
  },
  {
   "cell_type": "code",
   "execution_count": 12,
   "metadata": {},
   "outputs": [
    {
     "data": {
      "text/plain": [
       "([\"b\" \"Variable\"] [\"=\" \"Asignación\"] [\"7\" \"Entero\"] [\"a\" \"Variable\"] [\"=\" \"Asignación\"] [\"32.4\" \"Flotante\"] [\"*\" \"Multiplicación\"] [\"(\" \"Paréntesis que abre\"] [\"-8.6\" \"Flotante\"] [\"-\" \"Resta\"] [\"b\" \"Variable\"] [\")\" \"Paréntesis que cierra\"] [\"/\" \"División\"] [\"6.1E-8\" \"Flotante\"] [\"d\" \"Variable\"] [\"=\" \"Asignación\"] [\"a\" \"Variable\"] [\"^\" \"Potencia\"] [\"b\" \"Variable\"] [\"// Esto es un comentario\" \"Comentario\"])"
      ]
     },
     "execution_count": 12,
     "metadata": {},
     "output_type": "execute_result"
    }
   ],
   "source": [
    "(tokenize-file \"ejemplo.txt\")"
   ]
  },
  {
   "cell_type": "code",
   "execution_count": 13,
   "metadata": {},
   "outputs": [
    {
     "data": {
      "text/plain": [
       "#'user/table-lines"
      ]
     },
     "execution_count": 13,
     "metadata": {},
     "output_type": "execute_result"
    }
   ],
   "source": [
    "(defn table-lines\n",
    "  [file-name]\n",
    "  (->> (tokenize-file \"ejemplo.txt\")\n",
    "      (map (fn [t] (format \"%-30s%s\" (t 0) (t 1))))))"
   ]
  },
  {
   "cell_type": "code",
   "execution_count": 14,
   "metadata": {},
   "outputs": [
    {
     "data": {
      "text/plain": [
       "#'user/line"
      ]
     },
     "execution_count": 14,
     "metadata": {},
     "output_type": "execute_result"
    }
   ],
   "source": [
    "(defn line\n",
    "  [character size]\n",
    "  (clojure.string/join (repeat size character)))"
   ]
  },
  {
   "cell_type": "code",
   "execution_count": 15,
   "metadata": {},
   "outputs": [
    {
     "data": {
      "text/plain": [
       "#'user/table-string"
      ]
     },
     "execution_count": 15,
     "metadata": {},
     "output_type": "execute_result"
    }
   ],
   "source": [
    "(defn table-string \n",
    "  [file-name]\n",
    "  (clojure.string/join \\newline\n",
    "    (concat [(line \\= 50)]\n",
    "            [(format \"%-30s%s\" \"Token\" \"Tipo\")]\n",
    "            [(line \\= 50)]\n",
    "            (table-lines file-name)\n",
    "            [(line \\= 50)])))"
   ]
  },
  {
   "cell_type": "code",
   "execution_count": 16,
   "metadata": {},
   "outputs": [
    {
     "data": {
      "text/plain": [
       "#'user/print-token-table"
      ]
     },
     "execution_count": 16,
     "metadata": {},
     "output_type": "execute_result"
    }
   ],
   "source": [
    "(defn print-token-table\n",
    "  [file-name]\n",
    "  (println (table-string file-name)))\n"
   ]
  },
  {
   "cell_type": "code",
   "execution_count": 17,
   "metadata": {},
   "outputs": [
    {
     "name": "stdout",
     "output_type": "stream",
     "text": [
      "==================================================\n",
      "Token                         Tipo\n",
      "==================================================\n",
      "b                             Variable\n",
      "=                             Asignación\n",
      "7                             Entero\n",
      "a                             Variable\n",
      "=                             Asignación\n",
      "32.4                          Flotante\n",
      "*                             Multiplicación\n",
      "(                             Paréntesis que abre\n",
      "-8.6                          Flotante\n",
      "-                             Resta\n",
      "b                             Variable\n",
      ")                             Paréntesis que cierra\n",
      "/                             División\n",
      "6.1E-8                        Flotante\n",
      "d                             Variable\n",
      "=                             Asignación\n",
      "a                             Variable\n",
      "^                             Potencia\n",
      "b                             Variable\n",
      "// Esto es un comentario      Comentario\n",
      "==================================================\n"
     ]
    },
    {
     "data": {
      "text/plain": [
       "nil"
      ]
     },
     "execution_count": 17,
     "metadata": {},
     "output_type": "execute_result"
    }
   ],
   "source": [
    "(print-token-table \"ejemplo.txt\")"
   ]
  },
  {
   "cell_type": "code",
   "execution_count": 18,
   "metadata": {},
   "outputs": [
    {
     "data": {
      "text/plain": [
       "nil"
      ]
     },
     "execution_count": 18,
     "metadata": {},
     "output_type": "execute_result"
    }
   ],
   "source": [
    "(spit \"salida.txt\" (table-string \"ejemplo.txt\"))"
   ]
  },
  {
   "cell_type": "code",
   "execution_count": 50,
   "metadata": {},
   "outputs": [
    {
     "data": {
      "text/plain": [
       "#'user/mike"
      ]
     },
     "execution_count": 50,
     "metadata": {},
     "output_type": "execute_result"
    }
   ],
   "source": [
    "(def mike #\"(?xi)\n",
    " ( [+-]? \\d+ [.] \\d* (?: e [+-]? \\d+)? ) #Flotante\n",
    "| ( // .* ) #Comentario\")"
   ]
  },
  {
   "cell_type": "code",
   "execution_count": 53,
   "metadata": {},
   "outputs": [
    {
     "data": {
      "text/plain": [
       "[\"//Hello\" nil \"//Hello\"]"
      ]
     },
     "execution_count": 53,
     "metadata": {},
     "output_type": "execute_result"
    }
   ],
   "source": [
    "(is (re-matches mike \"4.\"))\n",
    "(is (re-matches mike \"//Hello\"))"
   ]
  },
  {
   "cell_type": "code",
   "execution_count": null,
   "metadata": {},
   "outputs": [],
   "source": []
  }
 ],
 "metadata": {
  "kernelspec": {
   "display_name": "Clojure (clojupyter=0.3.2=1)",
   "language": "clojure",
   "name": "conda-clojupyter"
  },
  "language_info": {
   "file_extension": ".clj",
   "mimetype": "text/x-clojure",
   "name": "clojure",
   "version": "1.10.1"
  }
 },
 "nbformat": 4,
 "nbformat_minor": 4
}
