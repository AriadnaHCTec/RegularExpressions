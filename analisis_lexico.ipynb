{
 "cells": [
  {
   "cell_type": "markdown",
   "metadata": {},
   "source": [
    "# Proyecto integrador\n",
    "\n",
    "Miguel Ángel Pérez López A01750145\n",
    "\n",
    "Ariadna Huesca Coronado A01749161\n",
    "\n",
    "Lenguaje: GO\n",
    "\n",
    "https://golang.org/ref/spec#Floating-point_literals\n",
    "\n",
    "http://www.regular-expressions.info/unicode.html#prop"
   ]
  },
  {
   "cell_type": "code",
   "execution_count": 2,
   "metadata": {},
   "outputs": [
    {
     "data": {
      "text/plain": [
       "nil"
      ]
     },
     "execution_count": 2,
     "metadata": {},
     "output_type": "execute_result"
    }
   ],
   "source": [
    ";; External function required for this notebook.\n",
    "(require '[clojure.test :refer [is]])"
   ]
  },
  {
   "cell_type": "markdown",
   "metadata": {},
   "source": [
    "Variable"
   ]
  },
  {
   "cell_type": "code",
   "execution_count": 4,
   "metadata": {},
   "outputs": [
    {
     "data": {
      "text/plain": [
       "true"
      ]
     },
     "execution_count": 4,
     "metadata": {},
     "output_type": "execute_result"
    }
   ],
   "source": [
    ";;; Regular expression:\n",
    "(def GO-variable #\"(?xi)\n",
    "                    [\\p{L}_][\\p{L}\\p{N}_]*\") \n",
    "(is (re-matches GO-variable \"a\"))\n",
    "(is (re-matches GO-variable \"_x9\"))\n",
    "(is (re-matches GO-variable \"ThisVariableIsExported\"))\n",
    "(is (re-matches GO-variable \"αβ\"))\n",
    "(is (not (re-matches GO-variable \".\")))"
   ]
  },
  {
   "cell_type": "markdown",
   "metadata": {},
   "source": [
    "STRING"
   ]
  },
  {
   "cell_type": "code",
   "execution_count": 5,
   "metadata": {},
   "outputs": [
    {
     "data": {
      "text/plain": [
       "true"
      ]
     },
     "execution_count": 5,
     "metadata": {},
     "output_type": "execute_result"
    }
   ],
   "source": [
    "(def GO-string #\"(?xi)\n",
    "                    `[^`]*`|\n",
    "                    \\\"([^\\\\]|\n",
    "                        \\\\ \n",
    "                        ([abfnrtv\\\\\\\"`]|\n",
    "                          U[\\dA-F]{4}|\n",
    "                          [0-7]{3}|\n",
    "                          x[\\dA-F]{2}))* \n",
    "                    \\\"\") \n",
    "(is (re-matches GO-string \"`abc`\"))\n",
    "(is (re-matches GO-string \"`\\n \\n`\"))\n",
    "(is (re-matches GO-string \"\\\"\\\\\\\"\\\"\"))\n",
    "(is (re-matches GO-string \"\\\"Hello, world!\\\\n\\\"\"))\n",
    "(is (re-matches GO-string \"\\\"日本語\\\"\"))\n",
    "(is (re-matches GO-string \"\\\"\\\\u65e5本\\\\U00008a9e\\\"\"))\n",
    "(is (re-matches GO-string \"\\\"\\\\xff\\\\u00FF\\\"\"))\n",
    "(is (not (re-matches GO-string \"\\\"\\\\0\\\"\")))\n",
    "(is (not (re-matches GO-string \"\\\"\\\\xa\\\"\")));este era con U\n",
    "(is (not (re-matches GO-string \"\\\"\\\\UabcZ\\\"\")));este era con U\n",
    "(is (not (re-matches GO-string \"\\\"\\\\\\\"\")));este era con U"
   ]
  },
  {
   "cell_type": "code",
   "execution_count": 6,
   "metadata": {},
   "outputs": [
    {
     "data": {
      "text/plain": [
       "true"
      ]
     },
     "execution_count": 6,
     "metadata": {},
     "output_type": "execute_result"
    }
   ],
   "source": [
    "(def GO-string #\"(?xi)\n",
    "                    import|var|true|false\") \n",
    "(is (re-matches GO-string \"import\"))\n",
    "(is (re-matches GO-string \"var\"))\n",
    "(is (re-matches GO-string \"true\"))\n",
    "(is (re-matches GO-string \"false\"))\n",
    "(is (not (re-matches GO-string \" \")))\n",
    "(is (not (re-matches GO-string \"importar\")))\n",
    "(is (not (re-matches GO-string \"_var\")))"
   ]
  },
  {
   "cell_type": "markdown",
   "metadata": {},
   "source": [
    "## Tareas\n",
    "\n",
    "1. Entero 1\n",
    "2. FLotante 1\n",
    "3. Comentario 1\n",
    "4. Variable 1\n",
    "5. String\n",
    "6. Operadores (Asignación) = += *= Mmike\n",
    "7. Lógico (> < ==) Mike\n",
    "8. Aritmético(+ - *) mike\n",
    "9. Constantes (True, False, var) Ari\n",
    "10. Paréntesis y llaves Ari"
   ]
  },
  {
   "cell_type": "markdown",
   "metadata": {},
   "source": [
    "1. fn2: exportar archivo html\n",
    "2. fn1: (inicio intermedio final) : string \n",
    "3. intermedio: (\"<span class=\" \" resultado(float,var) \">\"  contenido \"</span>\"\n",
    "4. contenido: (< (menor que)   ➔   &lt; > (mayor que)   ➔   &gt; & (ampersand)   ➔   &amp;)"
   ]
  },
  {
   "cell_type": "code",
   "execution_count": null,
   "metadata": {},
   "outputs": [],
   "source": [
    "#| 0[bB][01]+(?:_[01]+)* | [0]+(?:_\\d+)*\\d+ | [1-9]+\\d*(?:_\\d+)*    \n",
    "#| 0[xX][_]*([0-9a-fA-F]+(?:_[0-9a-fA-F]+)*[.]*[0-9a-fA-F]*|[0-9a-fA-F]*(?:_[0-9a-fA-F]+)*[.]*[0-9a-fA-F]+)(?:_[0-9a-fA-F]+)*[pPeE][+-]??[0-9a-fA-F]+(?:_[0-9a-fA-F]+)*"
   ]
  },
  {
   "cell_type": "code",
   "execution_count": 79,
   "metadata": {},
   "outputs": [
    {
     "data": {
      "text/plain": [
       "#'user/regex"
      ]
     },
     "execution_count": 79,
     "metadata": {},
     "output_type": "execute_result"
    }
   ],
   "source": [
    "(def regex #\"(?xi)\n",
    "  (0[oO][_]*[0-7]+(?:_[0-7]+)*|0[xX][0-9a-fA-F]+(?:_[0-9a-fA-F]+)*|0[bB][01]+(?:_[01]+)*|(?:[0]+\\d*(?:_\\d+)*|[1-9]+\\d*(?:_\\d+)*)[eE][+-]??(?:[0]+\\d*(?:_\\d+)*|[1-9]+\\d*(?:_\\d+)*)|[0]+\\d*(?:_\\d+)*\\d+| [1-9]+\\d*(?:_\\d+)*) #Grupo 1 enteros\n",
    "  | (\\d*(?:_\\d)*\\.\\d*(?:[eE][+-]??\\d+(?:_\\d)*)*|0[xX][_]*(?:[0-9a-fA-F]+(?:_[0-9a-fA-F]+)*[.]*[0-9a-fA-F]*|[0-9a-fA-F]*(?:_[0-9a-fA-F]+)*[.]*[0-9a-fA-F]+)(?:_[0-9a-fA-F]+)*[pPeE][+-]??[0-9a-fA-F]+(?:_[0-9a-fA-F]+)*) #Grupo 2 hexadecimales flotantes\n",
    "  | ( // .*  | [/][*][^*]*[*]+(?:[^*/][^*]*[*]+)*[/])                # Grupo 3: Comentario\n",
    "  | (import|var|true|false)                                          # Grupo 4: Constantes\n",
    "  | (`[^`]*`|\\\"(?:[^\\\\]|\\\\(?:[abfnrtv\\\\\\\"`]|U[\\dA-F]{4}|[0-7]{3}|x[\\dA-F]{2}))*\\\")# Grupo 5: String\n",
    "  | ([-+|^*&/%]??=)                                                  # Grupo 6: Operador de Asignacion\n",
    "  | ([|]{2}|&{2}|!)                                                  # Grupo 7: Operador Lógico\n",
    "  | (>>={0,1}|<<={0,1}|[-+*/%&|^]|(?:&^))                            # Grupo 8: Operador Aritmético\n",
    "  | ( [\\p{L}_][\\p{L}\\p{N}_]* )                                       # Grupo 9: Variable\n",
    "  | ( [\\(\\)\\{\\}] )                                                   # Grupo 10: Puntuación\n",
    "  | ( \\s )                                                           # Grupo 11: Espacios\n",
    "  | ( . )                                                            # Grupo 12: Carácter inválido  \n",
    "  \")  "
   ]
  },
  {
   "cell_type": "code",
   "execution_count": 80,
   "metadata": {},
   "outputs": [
    {
     "data": {
      "text/plain": [
       "#'user/tokenize-file"
      ]
     },
     "execution_count": 80,
     "metadata": {},
     "output_type": "execute_result"
    }
   ],
   "source": [
    "(defn tokenize-file\n",
    "  [file-name]\n",
    "  (->> (re-seq regex (slurp file-name))\n",
    "       (remove (fn [match] (match 11)))\n",
    "       (map (fn [match]\n",
    "              (let [token (match 0)]\n",
    "                (cond\n",
    "                  (match 1) [token \"Entero\"]\n",
    "                  (match 2) [token \"Flotante\"]\n",
    "                  (match 3) [token \"Comentario\"]\n",
    "                  (match 4) [token \"Constante\"]\n",
    "                  (match 5) [token \"String\"]\n",
    "                  (match 6) [token \"Asignacion\"]\n",
    "                  (match 7) [token \"Logico\"]\n",
    "                  (match 8) [token \"Aritmetico\"]\n",
    "                  (match 9) [token \"Variable\"]\n",
    "                  (match 10) [token \"Puntuacion\"]\n",
    "                  (match 11) [token \"Invalido\"]\n",
    "                  (match 12) [token \"Invalido\"]\n",
    "                  ))))))\n"
   ]
  },
  {
   "cell_type": "code",
   "execution_count": 81,
   "metadata": {},
   "outputs": [
    {
     "data": {
      "text/plain": [
       "([\"//hello there\" \"Comentario\"] [\"true\" \"Constante\"] [\"/*mike ari*/\" \"Comentario\"] [\"/*mike \\r\\naaaaaa\\r\\nari*/\" \"Comentario\"] [\">>=\" \"Aritmetico\"] [\"&\" \"Aritmetico\"] [\"&\" \"Aritmetico\"] [\"^\" \"Aritmetico\"] [\"var\" \"Constante\"] [\"myvariable1\" \"Variable\"] [\"=\" \"Asignacion\"] [\"20\" \"Entero\"] [\"var\" \"Constante\"] [\"myvariable2\" \"Variable\"] [\"=\" \"Asignacion\"] [\"\\\"GeeksforGeeks\\\"\" \"String\"] [\"var\" \"Constante\"] [\"myvariable3\" \"Variable\"] [\"=\" \"Asignacion\"] [\"34\" \"Entero\"] [\".80\" \"Flotante\"])"
      ]
     },
     "execution_count": 81,
     "metadata": {},
     "output_type": "execute_result"
    }
   ],
   "source": [
    "(tokenize-file \"ejemplo.txt\")"
   ]
  },
  {
   "cell_type": "code",
   "execution_count": 82,
   "metadata": {},
   "outputs": [
    {
     "data": {
      "text/plain": [
       "#'user/table-lines"
      ]
     },
     "execution_count": 82,
     "metadata": {},
     "output_type": "execute_result"
    }
   ],
   "source": [
    "(defn table-lines\n",
    "  [file-name]\n",
    "  (->> (tokenize-file \"ejemplo.txt\")\n",
    "      (map (fn [t] (format \"%-30s%s\" (t 0) (t 1))))))"
   ]
  },
  {
   "cell_type": "code",
   "execution_count": 83,
   "metadata": {},
   "outputs": [
    {
     "data": {
      "text/plain": [
       "#'user/etiquetas"
      ]
     },
     "execution_count": 83,
     "metadata": {},
     "output_type": "execute_result"
    }
   ],
   "source": [
    "(defn etiquetas [file-name] \n",
    "  (->> (tokenize-file file-name)\n",
    "        (map (fn [t] (clojure.string/join [\"<span id = '\" (t 1) \"'>\" (t 0) \"</span>\\n\"])))\n",
    "        (reduce str)))"
   ]
  },
  {
   "cell_type": "code",
   "execution_count": 84,
   "metadata": {},
   "outputs": [
    {
     "data": {
      "text/plain": [
       "#'user/line"
      ]
     },
     "execution_count": 84,
     "metadata": {},
     "output_type": "execute_result"
    }
   ],
   "source": [
    "(defn line\n",
    "  [character size]\n",
    "  (clojure.string/join (repeat size character)))"
   ]
  },
  {
   "cell_type": "code",
   "execution_count": 85,
   "metadata": {},
   "outputs": [
    {
     "data": {
      "text/plain": [
       "#'user/table-string"
      ]
     },
     "execution_count": 85,
     "metadata": {},
     "output_type": "execute_result"
    }
   ],
   "source": [
    "(defn table-string \n",
    "  [file-name]\n",
    "  (clojure.string/join \\newline\n",
    "    (concat [(line \\= 50)]\n",
    "            [(format \"%-30s%s\" \"Token\" \"Tipo\")]\n",
    "            [(line \\= 50)]\n",
    "            (table-lines file-name)\n",
    "            [(line \\= 50)])))"
   ]
  },
  {
   "cell_type": "code",
   "execution_count": 86,
   "metadata": {},
   "outputs": [
    {
     "data": {
      "text/plain": [
       "#'user/print-token-table"
      ]
     },
     "execution_count": 86,
     "metadata": {},
     "output_type": "execute_result"
    }
   ],
   "source": [
    "(defn print-token-table\n",
    "  [file-name]\n",
    "  (println (table-string file-name)))"
   ]
  },
  {
   "cell_type": "code",
   "execution_count": 87,
   "metadata": {},
   "outputs": [
    {
     "name": "stdout",
     "output_type": "stream",
     "text": [
      "==================================================\n",
      "Token                         Tipo\n",
      "==================================================\n",
      "//hello there                 Comentario\n",
      "true                          Constante\n",
      "/*mike ari*/                  Comentario\n",
      "/*mike \n",
      "aaaaaa\n",
      "ari*/        Comentario\n",
      ">>=                           Aritmetico\n",
      "&                             Aritmetico\n",
      "&                             Aritmetico\n",
      "^                             Aritmetico\n",
      "var                           Constante\n",
      "myvariable1                   Variable\n",
      "=                             Asignacion\n",
      "20                            Entero\n",
      "var                           Constante\n",
      "myvariable2                   Variable\n",
      "=                             Asignacion\n",
      "\"GeeksforGeeks\"               String\n",
      "var                           Constante\n",
      "myvariable3                   Variable\n",
      "=                             Asignacion\n",
      "34                            Entero\n",
      ".80                           Flotante\n",
      "==================================================\n"
     ]
    },
    {
     "data": {
      "text/plain": [
       "nil"
      ]
     },
     "execution_count": 87,
     "metadata": {},
     "output_type": "execute_result"
    }
   ],
   "source": [
    "(print-token-table \"ejemplo.txt\")"
   ]
  },
  {
   "cell_type": "code",
   "execution_count": 88,
   "metadata": {},
   "outputs": [
    {
     "data": {
      "text/plain": [
       "\"//hello there\\r\\ntrue\\r\\n/*mike ari*/\\r\\n/*mike \\r\\naaaaaa\\r\\nari*/\\r\\n>>=\\r\\n&\\r\\n&^\\r\\nvar myvariable1 = 20\\r\\nvar myvariable2 = \\\"GeeksforGeeks\\\"\\r\\nvar myvariable3 = 34.80\""
      ]
     },
     "execution_count": 88,
     "metadata": {},
     "output_type": "execute_result"
    }
   ],
   "source": [
    "(slurp \"ejemplo.txt\")"
   ]
  },
  {
   "cell_type": "code",
   "execution_count": 89,
   "metadata": {},
   "outputs": [
    {
     "data": {
      "text/plain": [
       "#'user/final"
      ]
     },
     "execution_count": 89,
     "metadata": {},
     "output_type": "execute_result"
    }
   ],
   "source": [
    "(defn final [file-name]\n",
    "  (->> (clojure.string/join [(slurp \"inicio.txt\") (etiquetas file-name) (slurp \"final.txt\")]))  \n",
    "  )"
   ]
  },
  {
   "cell_type": "code",
   "execution_count": 90,
   "metadata": {},
   "outputs": [
    {
     "data": {
      "text/plain": [
       "\"<!DOCTYPE html>\\r\\n<html>\\r\\n    <head>\\r\\n        <meta http-equiv=\\\"Content-Type\\\" content=\\\"text/html\\\" charset=\\\"UTF-8\\\"/>\\r\\n        <title>Analisis_Lexico</title>\\r\\n        <link rel=\\\"stylesheet\\\" href=\\\"estilo.css\\\" type=\\\"text/css\\\">        \\r\\n    </head>    \\r\\n    <body>\\r\\n        <pre>\\r\\n\\r\\n     \\r\\n\\r\\n<span id = 'Comentario'>//hello there</span>\\n<span id = 'Constante'>true</span>\\n<span id = 'Comentario'>/*mike ari*/</span>\\n<span id = 'Comentario'>/*mike \\r\\naaaaaa\\r\\nari*/</span>\\n<span id = 'Aritmetico'>>>=</span>\\n<span id = 'Aritmetico'>&</span>\\n<span id = 'Aritmetico'>&</span>\\n<span id = 'Aritmetico'>^</span>\\n<span id = 'Constante'>var</span>\\n<span id = 'Variable'>myvariable1</span>\\n<span id = 'Asignacion'>=</span>\\n<span id = 'Entero'>20</span>\\n<span id = 'Constante'>var</span>\\n<span id = 'Variable'>myvariable2</span>\\n<span id = 'Asignacion'>=</span>\\n<span id = 'String'>\\\"GeeksforGeeks\\\"</span>\\n<span id = 'Constante'>var</span>\\n<span id = 'Variable'>myvariable3</span>\\n<span id = 'Asignacion'>=</span>\\n<span id = 'Entero'>34</span>\\n<span id = 'Flotante'>.80</span>\\n        </pre>\\r\\n    </body>\\r\\n</html>    \""
      ]
     },
     "execution_count": 90,
     "metadata": {},
     "output_type": "execute_result"
    }
   ],
   "source": [
    "(final \"ejemplo.txt\")"
   ]
  },
  {
   "cell_type": "code",
   "execution_count": 91,
   "metadata": {},
   "outputs": [
    {
     "data": {
      "text/plain": [
       "nil"
      ]
     },
     "execution_count": 91,
     "metadata": {},
     "output_type": "execute_result"
    }
   ],
   "source": [
    "(spit \"salida.html\" (final \"ejemplo.txt\"))"
   ]
  },
  {
   "cell_type": "code",
   "execution_count": 63,
   "metadata": {},
   "outputs": [
    {
     "data": {
      "text/plain": [
       "#'user/mike"
      ]
     },
     "execution_count": 63,
     "metadata": {},
     "output_type": "execute_result"
    }
   ],
   "source": [
    "(def mike #\"(?xi)\n",
    "  0[oO][_]*[0-7]+(?:_[0-7]+)*                 #octal\n",
    "| 0[xX][0-9a-fA-F]+(?:_[0-9a-fA-F]+)*         #hexadecimal\n",
    "| 0[bB][01]+(?:_[01]+)*                       #binario\n",
    "| (?:[0]+\\d*(?:_\\d+)*|[1-9]+\\d*(?:_\\d+)*)[eE][+-]??(?:[0]+\\d*(?:_\\d+)*|[1-9]+\\d*(?:_\\d+)*) #flotantes con E sin punto\n",
    "| [0]+\\d*(?:_\\d+)*\\d+                         #enteros empezando con 0\n",
    "| [1-9]+\\d*(?:_\\d+)*                          #enteros que no empiezan con 0\n",
    "| \\d*(?:_\\d)*\\.\\d*(?:[eE][+-]??\\d+(?:_\\d)*)*        #flotantes con enteros\n",
    "| 0[xX][_]*([0-9a-fA-F]+(?:_[0-9a-fA-F]+)*[.]*[0-9a-fA-F]*|[0-9a-fA-F]*(?:_[0-9a-fA-F]+)*[.]*[0-9a-fA-F]+)(?:_[0-9a-fA-F]+)*[pPeE][+-]??[0-9a-fA-F]+(?:_[0-9a-fA-F]+)* #hexadecimales flotantes\n",
    "| >>={0,1}|<<={0,1} #aritmetico\n",
    "| [=><!]=| [><] #comparacion\n",
    "| [-+|^*&/%]??= #asignacion\n",
    "| |[|]{2}|&{2}|! #logico\n",
    "| [-+*/%&|^]|(&^) #aritmetico\n",
    "| (?:// .* )                                  #Comentario\n",
    "| ( \\s ) \")"
   ]
  },
  {
   "cell_type": "code",
   "execution_count": 18,
   "metadata": {},
   "outputs": [
    {
     "data": {
      "text/plain": [
       "#'user/mike"
      ]
     },
     "execution_count": 18,
     "metadata": {},
     "output_type": "execute_result"
    }
   ],
   "source": [
    "(def mike #\"(?xi)\n",
    "  0[oO][_]*[0-7]+(?:_[0-7]+)*|0[xX][0-9a-fA-F]+(?:_[0-9a-fA-F]+)*\n",
    "  |0[bB][01]+(?:_[01]+)*|(?:[0]+\\d*(?:_\\d+)*\n",
    "  |[1-9]+\\d*(?:_\\d+)*)[eE][+-]??(?:[0]+\\d*(?:_\\d+)*|[1-9]+\\d*(?:_\\d+)*)\n",
    "  |[0]+\\d*(?:_\\d+)*\\d+| [1-9]+\\d*(?:_\\d+)* #enteros\n",
    "  | \\d*(?:_\\d)*\\.\\d*(?:[eE][+-]??\\d+(?:_\\d)*)*\n",
    "  |0[xX][_]*([0-9a-fA-F]+(?:_[0-9a-fA-F]+)*[.]*[0-9a-fA-F]*\n",
    "  |[0-9a-fA-F]*(?:_[0-9a-fA-F]+)*[.]*[0-9a-fA-F]+)(?:_[0-9a-fA-F]+)*[pPeE][+-]??[0-9a-fA-F]+(?:_[0-9a-fA-F]+)* #hexadecimales flotantes\n",
    "  | >>={0,1}|<<={0,1}|[-+*/%&|^]|(&^)#aritmetico\n",
    "  | [=><!]=| [><] #comparacion\n",
    "  | [-+|^*&/%]??= #asignacion\n",
    "  | |[|]{2}|&{2}|! #logico\n",
    "  | (?:// .* )      #Comentario\n",
    "  | (?: \\s )\n",
    "  \")"
   ]
  },
  {
   "cell_type": "code",
   "execution_count": 19,
   "metadata": {},
   "outputs": [
    {
     "data": {
      "text/plain": [
       "[\"!\" nil nil]"
      ]
     },
     "execution_count": 19,
     "metadata": {},
     "output_type": "execute_result"
    }
   ],
   "source": [
    ";enteros\n",
    "(is (re-matches mike \"4_4543_35435_2\"))\n",
    "(is (re-matches mike \"342_3242_2342\"))\n",
    "(is (re-matches mike \"7_7\"))\n",
    "(is (re-matches mike \"00_232_232\"))\n",
    "(is (re-matches mike \"0_232_232\"))\n",
    "(is (re-matches mike \"8699874238403009\"))\n",
    "(is (re-matches mike \"43216400\"))\n",
    "(is (re-matches mike \"00089970\"))\n",
    "(is (re-matches mike \"08989\"))\n",
    "(is (re-matches mike \"7678575\"))\n",
    "(is (re-matches mike \"0o6565467\"))\n",
    "(is (re-matches mike \"0x435F564A\"))\n",
    "(is (re-matches mike \"0X000_3_f565\"))\n",
    "(is (re-matches mike \"0x47464456f_32f_3_3\"))\n",
    "(is (re-matches mike \"0b10100_01_1\"))\n",
    "(is (re-matches mike \"0B00_1_111\"))\n",
    "(is (re-matches mike \"0o_6_3432_2_34\"))\n",
    "(is (re-matches mike \"0O4_43_2432\"))\n",
    "(is (re-matches mike \"0_54654654\"))\n",
    "(is (re-matches mike \"//Hello\"))\n",
    "(is (re-matches mike \"0xBad_Face\"))\n",
    ";flotantes enteros\n",
    "(is (re-matches mike \"0.\"))\n",
    "(is (re-matches mike \"72.40\"))\n",
    "(is (re-matches mike \"7_2.40\"))\n",
    "(is (re-matches mike \"072.40\"))\n",
    "(is (re-matches mike \"2.71828\"))\n",
    "(is (re-matches mike \"1.e+0\"))\n",
    "(is (re-matches mike \"1.e+0_4_4_4\"))\n",
    "(is (re-matches mike \"6.67428e-11\"))\n",
    ";checar este caso\n",
    "(is (re-matches mike \".25\"))\n",
    "(is (re-matches mike \".12345E+5\"))\n",
    "(is (re-matches mike \"1_5.\"))\n",
    "(is (re-matches mike \"0.15e+0_2\"))\n",
    ";flotantes con e sin punto\n",
    "(is (re-matches mike \"1E6\"))\n",
    "(is (re-matches mike \"0E6\"))\n",
    "(is (re-matches mike \"434_43e423\"))\n",
    "(is (re-matches mike \"00565_443_4e4_4\"))\n",
    "(is (not (re-matches mike \"4534545e_e\")))\n",
    ";flotantes hexadecimales\n",
    "(is (re-matches mike \"0x2.p10\"))\n",
    "(is (re-matches mike \"0x2_3.p10_12_2222_2\"))\n",
    "(is (re-matches mike \"0X1.p1\"))\n",
    "(is (re-matches mike \"0x_4.p43\"))\n",
    "(is (re-matches mike \"0x_4p45\"))\n",
    "(is (re-matches mike \"0x1p-2\"))\n",
    "(is (re-matches mike \"0x3_3._32p3\"))\n",
    "(is (re-matches mike \"0x1.Fp+0\"))\n",
    "(is (re-matches mike \"0x.8p-0\"))\n",
    "(is (re-matches mike \"0X_1FFFP-16\"))\n",
    "(is (re-matches mike \"0x15e-2\"))\n",
    "(is (re-matches mike \"0x.1p1\"))\n",
    ";este caso es erróneo\n",
    "(is (not (re-matches mike \"0x.p1\")))\n",
    ";operadores\n",
    "(is (re-matches mike \"+=\"))\n",
    "(is (re-matches mike \"-=\"))\n",
    "(is (re-matches mike \"|=\"))\n",
    "(is (re-matches mike \"==\"))\n",
    "(is (re-matches mike \"^=\"))\n",
    "(is (re-matches mike \"<\"))\n",
    "(is (re-matches mike \">\"))\n",
    "(is (re-matches mike \">>\"))\n",
    "(is (re-matches mike \"<<\"))\n",
    "(is (re-matches mike \"<<=\"))\n",
    "(is (re-matches mike \">>=\"))\n",
    "(is (not (re-matches mike \">>>=\")))\n",
    "(is (not (re-matches mike \"<<<=\")))\n",
    "(is (re-matches mike \"||\"))\n",
    "(is (re-matches mike \"&&\"))\n",
    "(is (re-matches mike \"!\"))"
   ]
  },
  {
   "cell_type": "markdown",
   "metadata": {},
   "source": [
    "## Version final hexadecimal\n",
    "\n",
    "0[xX][_]*([0-9a-fA-F]+(?:_[0-9a-fA-F]+)*[.]*[0-9a-fA-F]*|[0-9a-fA-F]*(?:_[0-9a-fA-F]+)*[.]*[0-9a-fA-F]+)(?:_[0-9a-fA-F]+)*[pPeE][+-]??[0-9a-fA-F]+(?:_[0-9a-fA-F]+)*"
   ]
  },
  {
   "cell_type": "code",
   "execution_count": null,
   "metadata": {},
   "outputs": [],
   "source": [
    ";0[oO][_]*[0-7]+(_[0-7]+)* #octal\n",
    ";0[xX][0-9a-fA-F]+(_[0-9a-fA-F]+)* #hexadecimal\n",
    ";0[bB][01]+(_[01]+)* #binario\n",
    "\n",
    ";[0]+(_\\d+)*\\d+ #enteros empezando con 0\n",
    ";[1-9]+\\d*(_\\d+)* #enteros que no empiezan con 0\n",
    "\n",
    ";\\d*(_\\d)*\\.\\d*([eE][+-]*\\d+(_\\d)*)* #flotantes con enteros\n",
    "\n",
    ";#flotantes hexadecimales como 0x2_3.p10_12_2222_2 sin tener numeros despues del .\n",
    ";0[xX][_]*[0-9a-fA-F]+(_[0-9a-fA-F])*\\.p[0-9a-fA-F]+(_[0-9a-fA-F]+)* \n",
    ";final casi bueno 0[xX][_]*[0-9a-fA-F]*(_[0-9a-fA-F]+)*[.]*[0-9a-fA-F]*(_[0-9a-fA-F]+)*[pP][+-]*[0-9a-fA-F]+(_[0-9a-fA-F]+)*\n",
    ";caso que acepta 1.p 0[xX][_]*[0-9a-fA-F]+(_[0-9a-fA-F]+)*[.]*[0-9a-fA-F]*(_[0-9a-fA-F]+)*[pP][+-]*[0-9a-fA-F]+(_[0-9a-fA-F]+)*\n",
    ";caso que acepta .1p 0[xX][_]*[0-9a-fA-F]*(_[0-9a-fA-F]+)*[.]*[0-9a-fA-F]+(_[0-9a-fA-F]+)*[pP][+-]*[0-9a-fA-F]+(_[0-9a-fA-F]+)*"
   ]
  },
  {
   "cell_type": "markdown",
   "metadata": {},
   "source": [
    "## Asignación"
   ]
  },
  {
   "cell_type": "code",
   "execution_count": 59,
   "metadata": {},
   "outputs": [
    {
     "data": {
      "text/plain": [
       "#'user/mike2"
      ]
     },
     "execution_count": 59,
     "metadata": {},
     "output_type": "execute_result"
    }
   ],
   "source": [
    "(def mike2 #\"(?xi)\n",
    " >>={0,1}|<<={0,1} #aritmetico\n",
    "| [=><!]=| [><] #comparacion\n",
    "| [-+|^*&/%]??= #asignacion\n",
    "| |[|]{2}|&{2}|! #logico\n",
    "| [-+*/%&|^]|(&^) #aritmetico\n",
    "| (\\s)\n",
    "  \")"
   ]
  },
  {
   "cell_type": "code",
   "execution_count": 60,
   "metadata": {},
   "outputs": [
    {
     "name": "stdout",
     "output_type": "stream",
     "text": [
      "[+= nil nil] [-= nil nil] [|= nil nil] [== nil nil] [^= nil nil] [< nil nil] [> nil nil] [>> nil nil] [<< nil nil] [<<= nil nil] [>>= nil nil] true true [|| nil nil] [&& nil nil] [! nil nil]\n"
     ]
    },
    {
     "data": {
      "text/plain": [
       "nil"
      ]
     },
     "execution_count": 60,
     "metadata": {},
     "output_type": "execute_result"
    }
   ],
   "source": [
    "(println\n",
    " (is (re-matches mike2 \"+=\"))\n",
    "(is (re-matches mike2 \"-=\"))\n",
    "(is (re-matches mike2 \"|=\"))\n",
    " (is (re-matches mike2 \"==\"))\n",
    "(is (re-matches mike2 \"^=\"))\n",
    "(is (re-matches mike2 \"<\"))\n",
    "(is (re-matches mike2 \">\"))\n",
    "(is (re-matches mike2 \">>\"))\n",
    "(is (re-matches mike2 \"<<\"))\n",
    "(is (re-matches mike2 \"<<=\"))\n",
    "(is (re-matches mike2 \">>=\"))\n",
    "(is (not (re-matches mike2 \">>>=\")))\n",
    "(is (not (re-matches mike2 \"<<<=\")))\n",
    "(is (re-matches mike2 \"||\"))\n",
    "(is (re-matches mike2 \"&&\"))\n",
    "(is (re-matches mike2 \"!\")))"
   ]
  },
  {
   "cell_type": "code",
   "execution_count": null,
   "metadata": {},
   "outputs": [],
   "source": []
  }
 ],
 "metadata": {
  "kernelspec": {
   "display_name": "Clojure (clojupyter=0.3.2=1)",
   "language": "clojure",
   "name": "conda-clojupyter"
  },
  "language_info": {
   "file_extension": ".clj",
   "mimetype": "text/x-clojure",
   "name": "clojure",
   "version": "1.10.1"
  }
 },
 "nbformat": 4,
 "nbformat_minor": 4
}
