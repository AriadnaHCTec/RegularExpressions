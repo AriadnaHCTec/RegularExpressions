{
 "cells": [
  {
   "cell_type": "markdown",
   "metadata": {
    "tags": []
   },
   "source": [
    "# Proyecto integrador\n",
    "\n",
    "Miguel Ángel Pérez López A01750145\n",
    "\n",
    "Ariadna Huesca Coronado A01749161\n",
    "\n",
    "Lenguaje: GO\n",
    "\n",
    "https://golang.org/ref/spec#Floating-point_literals\n",
    "\n",
    "http://www.regular-expressions.info/unicode.html#prop"
   ]
  },
  {
   "cell_type": "code",
   "execution_count": 1,
   "metadata": {},
   "outputs": [
    {
     "data": {
      "text/plain": [
       "nil"
      ]
     },
     "execution_count": 1,
     "metadata": {},
     "output_type": "execute_result"
    }
   ],
   "source": [
    ";; External function required for this notebook.\n",
    "(require '[clojure.test :refer [is]])"
   ]
  },
  {
   "cell_type": "markdown",
   "metadata": {
    "tags": []
   },
   "source": [
    "## Secuencial"
   ]
  },
  {
   "cell_type": "code",
   "execution_count": 2,
   "metadata": {},
   "outputs": [
    {
     "data": {
      "text/plain": [
       "#'user/regex"
      ]
     },
     "execution_count": 2,
     "metadata": {},
     "output_type": "execute_result"
    }
   ],
   "source": [
    "(def regex #\"(?xi)\n",
    "  ((?:import|var|true|false|func]|switch|if   # Grupo 1: Constantes\n",
    "    |return|case|for|new|.Float|struct|type)[^A-Z\\d]{1})\n",
    "  | ( [\\p{L}_][\\p{L}\\p{N}_]* )                # Grupo 2: Variables\n",
    "  | ((?:\\d+(?:_\\d+)*)*\\.\\d+(?:_\\d+)*          #Grupo 3 Flotantes\n",
    "    (?:[eE][+-]??\\d+(?:_\\d+)*)*\n",
    "    |(?:\\d+(?:_\\d+)*)+\\.\\d*(?:_\\d+)*(?:[eE][+-]??\\d+(?:\\d+)*)*\n",
    "    |0[xX][_]*(?:[0-9a-fA-F]+(?:_[0-9a-fA-F]+)*[.]*[0-9a-fA-F]*\n",
    "    |[0-9a-fA-F]*(?:_[0-9a-fA-F]+)*[.]*[0-9a-fA-F]+)\n",
    "    (?:_[0-9a-fA-F]+)*[pP][+-]??[0-9a-fA-F]+(?:_[0-9a-fA-F]+)*)\n",
    "  | (0[oO][_]*[0-7]+(?:_[0-7]+)*              #Grupo 4 enteros\n",
    "    |0[xX][0-9a-fA-F]+(?:_[0-9a-fA-F]+)*\n",
    "    |0[bB][01]+(?:_[01]+)*|(?:[0]+\\d*(?:_\\d+)*\n",
    "    |[1-9]+\\d*(?:_\\d+)*)[eE][+-]??(?:[0]+\\d*(?:_\\d+)*|[1-9]+\\d*(?:_\\d+)*)\n",
    "    |[0]+\\d*(?:_\\d+)*\\d+|[1-9]+\\d*(?:_\\d+)*|0)\n",
    "  | ( // .*|[/][*][^*]*[*]+(?:[^*/][^*]*[*]+)*[/]) # Grupo 5: Comentario\n",
    "  | (`[^`]*?`|\\\"(?:[^\\\\]|\\\\(?:[abfnrtv\\\\\\\"`]\n",
    "    |[^\\\"\\n\\\\]|U[\\dA-F]{4}|[0-7]{3}|x[\\dA-F]{2}))*?\\\")   # Grupo 6: String\n",
    "  | ([-+|*&/%^:]??=|(?:<<|>>|&\\^)=)           # Grupo 7: Operador de Asignacion\n",
    "  | ([|]{2}|&{2}|!)                           # Grupo 8: Operador Lógico\n",
    "  | (>>|<<|(?:&\\^)|[-+*/%&|^])                # Grupo 9: Operador Aritmético\n",
    "  | ( [\\(\\)\\{\\}] )                            # Grupo 10: Puntuación\n",
    "  | ( \\s )                                    # Grupo 11: Otro\n",
    "  | ( . )                                     # Grupo 12: Carácter inválido\")"
   ]
  },
  {
   "cell_type": "code",
   "execution_count": 3,
   "metadata": {},
   "outputs": [
    {
     "data": {
      "text/plain": [
       "#'user/tokenize-file"
      ]
     },
     "execution_count": 3,
     "metadata": {},
     "output_type": "execute_result"
    }
   ],
   "source": [
    "(defn tokenize-file\n",
    "  \"Asigna un string según el match que tiene el string.\"\n",
    "  [file-name]\n",
    "  (->> (re-seq regex (slurp (clojure.string/join [\"archivos/\" file-name])))\n",
    "       (map (fn [match]\n",
    "              (let [token (match 0)]\n",
    "                (cond\n",
    "                  (match 1) [token \"Constante\"]\n",
    "                  (match 2) [token \"Variable\"]\n",
    "                  (match 3) [token \"Flotante\"]\n",
    "                  (match 4) [token \"Entero\"]\n",
    "                  (match 5) [token \"Comentario\"]\n",
    "                  (match 6) [token \"String\"]\n",
    "                  (match 7) [token \"Asignacion\"]\n",
    "                  (match 8) [token \"Logico\"]\n",
    "                  (match 9) [token \"Aritmetico\"]\n",
    "                  (match 10) [token \"Puntuacion\"]\n",
    "                  (match 11) [token \"Espacio\"]\n",
    "                  (match 12) [token \"Invalido\"]))))))"
   ]
  },
  {
   "cell_type": "markdown",
   "metadata": {},
   "source": [
    "### En HTML"
   ]
  },
  {
   "cell_type": "code",
   "execution_count": 4,
   "metadata": {},
   "outputs": [
    {
     "data": {
      "text/plain": [
       "#'user/replace-chars"
      ]
     },
     "execution_count": 4,
     "metadata": {},
     "output_type": "execute_result"
    }
   ],
   "source": [
    "(defn replace-chars\n",
    "  \"Remplaza carácteres &,<,> por sus equivalentes en html.\"\n",
    "  [string]\n",
    "  (->> (clojure.string/replace string #\"&\" \"&amp\")\n",
    "       (map (fn [string] (clojure.string/replace string #\"<\" \"&lt\")))\n",
    "       (map (fn [string] (clojure.string/replace string #\">\" \"&gt\")))\n",
    "       (reduce str)))"
   ]
  },
  {
   "cell_type": "code",
   "execution_count": 5,
   "metadata": {},
   "outputs": [
    {
     "data": {
      "text/plain": [
       "#'user/html-labels"
      ]
     },
     "execution_count": 5,
     "metadata": {},
     "output_type": "execute_result"
    }
   ],
   "source": [
    "(defn html-labels\n",
    "  \"Genera las etiquetas HTML.\"\n",
    "  [file-name]\n",
    "  (->> (tokenize-file file-name)\n",
    "       (map (fn [t] (if (= (t 1) \"Espacio\")\n",
    "                      (t 0)\n",
    "                      (clojure.string/join\n",
    "                       [\"<span id = '\"\n",
    "                        (t 1)\n",
    "                        \"'>\"\n",
    "                        (replace-chars (t 0))\n",
    "                        \"</span>\"]))))\n",
    "       (reduce str)))"
   ]
  },
  {
   "cell_type": "code",
   "execution_count": 6,
   "metadata": {},
   "outputs": [
    {
     "data": {
      "text/plain": [
       "#'user/join-strings-html"
      ]
     },
     "execution_count": 6,
     "metadata": {},
     "output_type": "execute_result"
    }
   ],
   "source": [
    "(defn join-strings-html\n",
    "  \"Une los strings de inicio.txt y final.txt\n",
    "  con las estiquetas generadas de los archivos.\"\n",
    "  [file-name]\n",
    "  (clojure.string/join [(slurp \"inicio.txt\")\n",
    "                        (html-labels file-name)\n",
    "                        (slurp \"final.txt\")]))"
   ]
  },
  {
   "cell_type": "code",
   "execution_count": 7,
   "metadata": {},
   "outputs": [
    {
     "data": {
      "text/plain": [
       "#'user/process-html"
      ]
     },
     "execution_count": 7,
     "metadata": {},
     "output_type": "execute_result"
    }
   ],
   "source": [
    "(defn process-html\n",
    "  \"Genera un archivo HTML y escribe el string generado por la función join-strings-html.\"\n",
    "  [file-name]\n",
    "  (spit (clojure.string/join [\"Resultado/\" file-name \".html\"])\n",
    "        (join-strings-html (clojure.string/join [file-name \".go\"]))))"
   ]
  },
  {
   "cell_type": "code",
   "execution_count": 8,
   "metadata": {},
   "outputs": [
    {
     "data": {
      "text/plain": [
       "#'user/get-file-info"
      ]
     },
     "execution_count": 8,
     "metadata": {},
     "output_type": "execute_result"
    }
   ],
   "source": [
    "(defn get-file-info\n",
    "  \"Regresa una Lazy sequence con el path, validación de que es\n",
    "  un archivo y nombre de todos los archivos en un directorio.\"\n",
    "  [dir]\n",
    "  (pmap (fn [f]\n",
    "         [(.getPath f) (.isFile f) (.getName f)])\n",
    "       (file-seq (clojure.java.io/file dir))))"
   ]
  },
  {
   "cell_type": "code",
   "execution_count": 9,
   "metadata": {},
   "outputs": [
    {
     "data": {
      "text/plain": [
       "#'user/valid-file-names"
      ]
     },
     "execution_count": 9,
     "metadata": {},
     "output_type": "execute_result"
    }
   ],
   "source": [
    "(defn valid-file-names\n",
    "  \"Regresa una Lazy sequence de los nombres\n",
    "  de archivos con extensión .go.\"\n",
    "  [dir]\n",
    "  (->> (for [f (get-file-info dir) :when (f 1)]\n",
    "            (f 2))\n",
    "       (remove (fn [string1] (re-seq #\"(?xi)\n",
    "                                       (checkpoint\n",
    "                                       |[.]css|[.]html\n",
    "                                       |[.]ipynb)\" string1)))\n",
    "       (map (fn [string] (clojure.string/replace string #\".go\" \"\")))\n",
    "       (map (fn [name1] (clojure.string/join [dir \"/\" name1])))))"
   ]
  },
  {
   "cell_type": "markdown",
   "metadata": {},
   "source": [
    "## Solución con una lista"
   ]
  },
  {
   "cell_type": "code",
   "execution_count": 43,
   "metadata": {},
   "outputs": [
    {
     "data": {
      "text/plain": [
       "#'user/sequential-solution"
      ]
     },
     "execution_count": 43,
     "metadata": {},
     "output_type": "execute_result"
    }
   ],
   "source": [
    "(defn sequential-solution\n",
    "  \"Aplica la función process-html en todos los\n",
    "  archivos .go en el directorio proporcionado.\"\n",
    "  [directory]\n",
    "  (pmap process-html directory))"
   ]
  },
  {
   "cell_type": "code",
   "execution_count": 29,
   "metadata": {},
   "outputs": [
    {
     "data": {
      "text/plain": [
       "#'user/test-files"
      ]
     },
     "execution_count": 29,
     "metadata": {},
     "output_type": "execute_result"
    }
   ],
   "source": [
    "(def test-files (map #(clojure.string/replace % #\"archivos/\" \"\")\n",
    "                          (valid-file-names \"archivos\")))"
   ]
  },
  {
   "cell_type": "markdown",
   "metadata": {
    "tags": []
   },
   "source": [
    "## Paralelo"
   ]
  },
  {
   "cell_type": "code",
   "execution_count": 12,
   "metadata": {},
   "outputs": [
    {
     "data": {
      "text/plain": [
       "#'user/ranges-str"
      ]
     },
     "execution_count": 12,
     "metadata": {},
     "output_type": "execute_result"
    }
   ],
   "source": [
    "(defn ranges-str\n",
    "  \"Regresa una Lazy sequence de lists de n strings cada una.\"\n",
    "  [p strings]\n",
    "  (partition p strings))"
   ]
  },
  {
   "cell_type": "code",
   "execution_count": 32,
   "metadata": {},
   "outputs": [
    {
     "data": {
      "text/plain": [
       "#'user/parallel-solution"
      ]
     },
     "execution_count": 32,
     "metadata": {},
     "output_type": "execute_result"
    }
   ],
   "source": [
    "(defn parallel-solution\n",
    "  \"Aplica la función sequential-solution con un número\n",
    "  específico de hilos a cada archivo usando pmap.\"\n",
    "  [archivo]\n",
    "  (pmap process-html archivo))"
   ]
  },
  {
   "cell_type": "markdown",
   "metadata": {},
   "source": [
    "## Pruebas"
   ]
  },
  {
   "cell_type": "code",
   "execution_count": 39,
   "metadata": {},
   "outputs": [
    {
     "name": "stdout",
     "output_type": "stream",
     "text": [
      "\"Elapsed time: 5796.3664 msecs\"\n"
     ]
    },
    {
     "data": {
      "text/plain": [
       "[nil nil nil nil nil nil nil nil nil nil nil nil nil nil nil nil nil nil nil nil nil nil nil nil nil nil nil nil nil nil nil nil nil nil nil nil nil nil nil nil nil nil nil nil nil nil nil nil nil nil nil nil nil nil nil nil nil nil nil nil nil nil nil nil nil nil nil nil nil nil nil nil nil nil nil nil nil nil nil nil nil nil nil nil nil nil nil nil nil nil nil nil nil nil nil nil nil nil nil nil nil nil nil nil nil nil nil nil nil nil nil nil nil nil nil nil nil nil nil nil nil nil nil nil nil nil nil nil nil nil nil nil nil nil nil nil nil nil nil nil]"
      ]
     },
     "execution_count": 39,
     "metadata": {},
     "output_type": "execute_result"
    }
   ],
   "source": [
    "(time (doall (sequential-solution test-files)))"
   ]
  },
  {
   "cell_type": "code",
   "execution_count": 48,
   "metadata": {},
   "outputs": [
    {
     "name": "stdout",
     "output_type": "stream",
     "text": [
      "\"Elapsed time: 0.2888 msecs\"\n"
     ]
    },
    {
     "data": {
      "text/plain": [
       "((nil nil nil nil nil nil nil nil nil nil nil nil nil nil) (nil nil nil nil nil nil nil nil nil nil nil nil nil nil) (nil nil nil nil nil nil nil nil nil nil nil nil nil nil) (nil nil nil nil nil nil nil nil nil nil nil nil nil nil) (nil nil nil nil nil nil nil nil nil nil nil nil nil nil) (nil nil nil nil nil nil nil nil nil nil nil nil nil nil) (nil nil nil nil nil nil nil nil nil nil nil nil nil nil) (nil nil nil nil nil nil nil nil nil nil nil nil nil nil) (nil nil nil nil nil nil nil nil nil nil nil nil nil nil) (nil nil nil nil nil nil nil nil nil nil nil nil nil nil))"
      ]
     },
     "execution_count": 48,
     "metadata": {},
     "output_type": "execute_result"
    }
   ],
   "source": [
    "(time (doall (parallel-solution 14 test-files)))"
   ]
  },
  {
   "cell_type": "code",
   "execution_count": 16,
   "metadata": {},
   "outputs": [
    {
     "data": {
      "text/plain": [
       "3.5041992470315666"
      ]
     },
     "execution_count": 16,
     "metadata": {},
     "output_type": "execute_result"
    }
   ],
   "source": [
    "(/ 5.9452 0.3033)\n",
    "(/ 0.5517 0.3967)\n",
    "(/ 0.5517 0.2115)\n",
    "(/ 2.42 0.6906)"
   ]
  },
  {
   "cell_type": "code",
   "execution_count": null,
   "metadata": {},
   "outputs": [],
   "source": []
  }
 ],
 "metadata": {
  "kernelspec": {
   "display_name": "Clojure (clojupyter=0.3.2=1)",
   "language": "clojure",
   "name": "conda-clojupyter"
  },
  "language_info": {
   "file_extension": ".clj",
   "mimetype": "text/x-clojure",
   "name": "clojure",
   "version": "1.10.1"
  },
  "toc": {
   "base_numbering": 1,
   "nav_menu": {},
   "number_sections": true,
   "sideBar": true,
   "skip_h1_title": false,
   "title_cell": "Table of Contents",
   "title_sidebar": "Contents",
   "toc_cell": false,
   "toc_position": {
    "height": "calc(100% - 180px)",
    "left": "10px",
    "top": "150px",
    "width": "286px"
   },
   "toc_section_display": true,
   "toc_window_display": true
  }
 },
 "nbformat": 4,
 "nbformat_minor": 4
}
