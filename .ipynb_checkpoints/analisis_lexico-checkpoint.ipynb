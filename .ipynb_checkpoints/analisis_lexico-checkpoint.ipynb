{
 "cells": [
  {
   "cell_type": "markdown",
   "metadata": {
    "tags": []
   },
   "source": [
    "# Proyecto integrador\n",
    "\n",
    "Miguel Ángel Pérez López A01750145\n",
    "\n",
    "Ariadna Huesca Coronado A01749161\n",
    "\n",
    "Lenguaje: GO\n",
    "\n",
    "https://golang.org/ref/spec#Floating-point_literals\n",
    "\n",
    "http://www.regular-expressions.info/unicode.html#prop"
   ]
  },
  {
   "cell_type": "code",
   "execution_count": 1,
   "metadata": {},
   "outputs": [
    {
     "data": {
      "text/plain": [
       "nil"
      ]
     },
     "execution_count": 1,
     "metadata": {},
     "output_type": "execute_result"
    }
   ],
   "source": [
    ";; External function required for this notebook.\n",
    "(require '[clojure.test :refer [is]])"
   ]
  },
  {
   "cell_type": "markdown",
   "metadata": {
    "heading_collapsed": true,
    "tags": [],
    "toc-hr-collapsed": true
   },
   "source": [
    "## Pruebas unitarias"
   ]
  },
  {
   "cell_type": "markdown",
   "metadata": {
    "heading_collapsed": true,
    "hidden": true,
    "tags": []
   },
   "source": [
    "### Variable"
   ]
  },
  {
   "cell_type": "code",
   "execution_count": 2,
   "metadata": {
    "hidden": true
   },
   "outputs": [
    {
     "data": {
      "text/plain": [
       "true"
      ]
     },
     "execution_count": 2,
     "metadata": {},
     "output_type": "execute_result"
    }
   ],
   "source": [
    ";;; Regular expression:\n",
    "(def GO-variable #\"(?xi)\n",
    "                    [\\p{L}_][\\p{L}\\p{N}_]*\") \n",
    "(is (re-matches GO-variable \"a\"))\n",
    "(is (re-matches GO-variable \"_x9\"))\n",
    "(is (re-matches GO-variable \"ThisVariableIsExported\"))\n",
    "(is (re-matches GO-variable \"αβ\"))\n",
    "(is (not (re-matches GO-variable \".\")))"
   ]
  },
  {
   "cell_type": "markdown",
   "metadata": {
    "hidden": true
   },
   "source": [
    "STRING"
   ]
  },
  {
   "cell_type": "code",
   "execution_count": 3,
   "metadata": {
    "hidden": true
   },
   "outputs": [
    {
     "data": {
      "text/plain": [
       "true"
      ]
     },
     "execution_count": 3,
     "metadata": {},
     "output_type": "execute_result"
    }
   ],
   "source": [
    "(def GO-string #\"(?xi)\n",
    "                    `[^`]*`|\n",
    "                    \\\"([^\\\\\\\"]|\n",
    "                        \\\\ \n",
    "                        ([abfnrtv\\\\\\\"`]|\n",
    "                          U[\\dA-F]{4}|\n",
    "                          [0-7]{3}|\n",
    "                          x[\\dA-F]{2}))* \n",
    "                    \\\"\") \n",
    "(is (re-matches GO-string \"`abc`\"))\n",
    "(is (re-matches GO-string \"`\\n \\n`\"))\n",
    "(is (re-matches GO-string \"\\\"\\\\\\\"\\\"\"))\n",
    "(is (re-matches GO-string \"\\\"Hello, world!\\\\n\\\"\"))\n",
    "(is (re-matches GO-string \"\\\"日本語\\\"\"))\n",
    "(is (re-matches GO-string \"\\\"\\\\u65e5本\\\\U00008a9e\\\"\"))\n",
    "(is (re-matches GO-string \"\\\"\\\\xff\\\\u00FF\\\"\"))\n",
    "(is (not (re-matches GO-string \"\\\"\\\\0\\\"\")))\n",
    "(is (not (re-matches GO-string \"\\\"\\\\xa\\\"\")));este era con U\n",
    "(is (not (re-matches GO-string \"\\\"\\\\UabcZ\\\"\")));este era con U\n",
    "(is (not (re-matches GO-string \"\\\"\\\\\\\"\")));este era con U"
   ]
  },
  {
   "cell_type": "code",
   "execution_count": 4,
   "metadata": {
    "hidden": true
   },
   "outputs": [
    {
     "name": "stdout",
     "output_type": "stream",
     "text": [
      "\n",
      "FAIL in () (NO_SOURCE_FILE:4)\n",
      "expected: (re-matches GO-string \"var\")\n",
      "  actual: (not (re-matches #\"(?xi)\n",
      "                    (import|var|true|false)\\s\" \"var\"))\n",
      "\n",
      "FAIL in () (NO_SOURCE_FILE:5)\n",
      "expected: (re-matches GO-string \"true\")\n",
      "  actual: (not (re-matches #\"(?xi)\n",
      "                    (import|var|true|false)\\s\" \"true\"))\n",
      "\n",
      "FAIL in () (NO_SOURCE_FILE:6)\n",
      "expected: (re-matches GO-string \"false\")\n",
      "  actual: (not (re-matches #\"(?xi)\n",
      "                    (import|var|true|false)\\s\" \"false\"))\n"
     ]
    },
    {
     "data": {
      "text/plain": [
       "true"
      ]
     },
     "execution_count": 4,
     "metadata": {},
     "output_type": "execute_result"
    }
   ],
   "source": [
    "(def GO-string #\"(?xi)\n",
    "                    (import|var|true|false)\\s\") \n",
    "(is (re-matches GO-string \"import \"))\n",
    "(is (re-matches GO-string \"var\"))\n",
    "(is (re-matches GO-string \"true\"))\n",
    "(is (re-matches GO-string \"false\"))\n",
    "(is (not (re-matches GO-string \" \")))\n",
    "(is (not (re-matches GO-string \"importar\")))\n",
    "(is (not (re-matches GO-string \"_var\")))"
   ]
  },
  {
   "cell_type": "markdown",
   "metadata": {},
   "source": [
    "1. fn2: exportar archivo html\n",
    "2. fn1: (inicio intermedio final) : string \n",
    "3. intermedio: (\"<span class=\" \" resultado(float,var) \">\"  contenido \"</span>\"\n",
    "4. contenido: (< (menor que)   ➔   &lt; > (mayor que)   ➔   &gt; & (ampersand)   ➔   &amp;)"
   ]
  },
  {
   "cell_type": "markdown",
   "metadata": {
    "tags": []
   },
   "source": [
    "## Secuencial"
   ]
  },
  {
   "cell_type": "markdown",
   "metadata": {
    "tags": [],
    "toc-hr-collapsed": true
   },
   "source": [
    "### Secuencia Inicial"
   ]
  },
  {
   "cell_type": "code",
   "execution_count": 3,
   "metadata": {},
   "outputs": [
    {
     "data": {
      "text/plain": [
       "#'user/regex"
      ]
     },
     "execution_count": 3,
     "metadata": {},
     "output_type": "execute_result"
    }
   ],
   "source": [
    "(def regex #\"(?xi)\n",
    "  ((?:import|var|true|false|func|switch|if|return|case|for|new|Float|struct|type)[^A-Z\\d]{1})  # Grupo 1: Constantes\n",
    "  |( [\\p{L}_][\\p{L}\\p{N}_]* )                # Grupo 2: Variables\n",
    "  |((?:\\d+(?:_\\d+)*)*\\.\\d+(?:_\\d+)*(?:[eE][+-]??\\d+(?:_\\d+)*)* #Grupo 3 Flotantes\n",
    "    |(?:\\d+(?:_\\d+)*)+\\.\\d*(?:_\\d+)*(?:[eE][+-]??\\d+(?:\\d+)*)*\n",
    "    |0[xX][_]*(?:[0-9a-fA-F]+(?:_[0-9a-fA-F]+)*[.]*[0-9a-fA-F]*\n",
    "    |[0-9a-fA-F]*(?:_[0-9a-fA-F]+)*[.]*[0-9a-fA-F]+)\n",
    "    (?:_[0-9a-fA-F]+)*[pPeE][+-]??[0-9a-fA-F]+(?:_[0-9a-fA-F]+)*)\n",
    "  | (0[oO][_]*[0-7]+(?:_[0-7]+)*              #Grupo 4 enteros\n",
    "    |0[xX][0-9a-fA-F]+(?:_[0-9a-fA-F]+)*\n",
    "    |0[bB][01]+(?:_[01]+)*|(?:[0]+\\d*(?:_\\d+)*\n",
    "    |[1-9]+\\d*(?:_\\d+)*)[eE][+-]??(?:[0]+\\d*(?:_\\d+)*|[1-9]+\\d*(?:_\\d+)*)\n",
    "    |[0]+\\d*(?:_\\d+)*\\d+|[1-9]+\\d*(?:_\\d+)*|0)\n",
    "  | ( // .*|[/][*][^*]*[*]+(?:[^*/][^*]*[*]+)*[/]) # Grupo 5: Comentario\n",
    "  | (`[^`]*?`|\\\"(?:[^\\\\]|\\\\(?:[abfnrtv\\\\\\\"`]\n",
    "    |[^\\\"\\n\\\\]|U[\\dA-F]{4}|[0-7]{3}|x[\\dA-F]{2}))*?\\\")   # Grupo 6: String\n",
    "  | ([-+|*&/%^:]??=|(?:<<|>>|&\\^)=)                   # Grupo 7: Operador de Asignacion\n",
    "  | ([|]{2}|&{2}|!)                           # Grupo 8: Operador Lógico\n",
    "  | (>>|<<|(?:&\\^)|[-+*/%&|^])                # Grupo 9: Operador Aritmético\n",
    "  | ( [\\(\\)\\{\\}] )                            # Grupo 10: Puntuación\n",
    "  | ( \\s )                                    # Grupo 11: Otro\n",
    "  | ( . )                                     # Grupo 12: Carácter inválido\")"
   ]
  },
  {
   "cell_type": "code",
   "execution_count": 5,
   "metadata": {},
   "outputs": [
    {
     "data": {
      "text/plain": [
       "#'user/tokenize-file"
      ]
     },
     "execution_count": 5,
     "metadata": {},
     "output_type": "execute_result"
    }
   ],
   "source": [
    "(defn tokenize-file\n",
    "  [file-name]\n",
    "  (->> (re-seq regex (slurp (clojure.string/join [\"archivos/\" file-name])))\n",
    "       (map (fn [match]\n",
    "              (let [token (match 0)]\n",
    "                (cond\n",
    "                  (match 1) [token \"Constante\"]\n",
    "                  (match 2) [token \"Variable\"]\n",
    "                  (match 3) [token \"Flotante\"]\n",
    "                  (match 4) [token \"Entero\"]\n",
    "                  (match 5) [token \"Comentario\"]\n",
    "                  (match 6) [token \"String\"]\n",
    "                  (match 7) [token \"Asignacion\"]\n",
    "                  (match 8) [token \"Logico\"]\n",
    "                  (match 9) [token \"Aritmetico\"]\n",
    "                  (match 10) [token \"Puntuacion\"]\n",
    "                  (match 11) [token \"Espacio\"]\n",
    "                  (match 12) [token \"Invalido\"]))))))"
   ]
  },
  {
   "cell_type": "markdown",
   "metadata": {},
   "source": [
    "### En HTML"
   ]
  },
  {
   "cell_type": "code",
   "execution_count": 6,
   "metadata": {},
   "outputs": [
    {
     "data": {
      "text/plain": [
       "#'user/reemplaza"
      ]
     },
     "execution_count": 6,
     "metadata": {},
     "output_type": "execute_result"
    }
   ],
   "source": [
    "(defn reemplaza [string]\n",
    "  \"Remplaza carácteres &,<,> por sus equivalentes en html.\"\n",
    "  (->> (clojure.string/replace string #\"&\" \"&amp\")\n",
    "       (map (fn [string] (clojure.string/replace string #\"<\" \"&lt\")))\n",
    "       (map (fn [string] (clojure.string/replace string #\">\" \"&gt\")))\n",
    "       (reduce str)))"
   ]
  },
  {
   "cell_type": "code",
   "execution_count": 7,
   "metadata": {},
   "outputs": [
    {
     "data": {
      "text/plain": [
       "#'user/etiquetas"
      ]
     },
     "execution_count": 7,
     "metadata": {},
     "output_type": "execute_result"
    }
   ],
   "source": [
    "(defn etiquetas [file-name]\n",
    "    \"Genera las etiquetas HTML.\"\n",
    "  (->> (tokenize-file file-name)\n",
    "       (map (fn [t] (if (= (t 1) \"Espacio\")\n",
    "                      (t 0)\n",
    "                      (clojure.string/join \n",
    "                       [\"<span id = '\" \n",
    "                        (t 1) \n",
    "                        \"'>\" \n",
    "                        (reemplaza (t 0)) \n",
    "                        \"</span>\"]))))\n",
    "       (reduce str)))"
   ]
  },
  {
   "cell_type": "code",
   "execution_count": 8,
   "metadata": {},
   "outputs": [
    {
     "data": {
      "text/plain": [
       "#'user/final"
      ]
     },
     "execution_count": 8,
     "metadata": {},
     "output_type": "execute_result"
    }
   ],
   "source": [
    "(defn final [file-name]\n",
    "  (clojure.string/join [(slurp \"inicio.txt\")\n",
    "                        (etiquetas file-name)\n",
    "                        (slurp \"final.txt\")]))"
   ]
  },
  {
   "cell_type": "code",
   "execution_count": 9,
   "metadata": {},
   "outputs": [
    {
     "data": {
      "text/plain": [
       "#'user/procesa-texto"
      ]
     },
     "execution_count": 9,
     "metadata": {},
     "output_type": "execute_result"
    }
   ],
   "source": [
    ";funcion final\n",
    "(defn procesa-texto [file-name]\n",
    "  (spit (clojure.string/join [\"Resultado/\" file-name \".html\"]) \n",
    "        (final (clojure.string/join [file-name \".go\"]))))"
   ]
  },
  {
   "cell_type": "code",
   "execution_count": 10,
   "metadata": {},
   "outputs": [
    {
     "data": {
      "text/plain": [
       "#'user/get-file-info"
      ]
     },
     "execution_count": 10,
     "metadata": {},
     "output_type": "execute_result"
    }
   ],
   "source": [
    "(defn get-file-info\n",
    "  [dir]\n",
    "  (map (fn [f]\n",
    "         [(.getPath f) (.isFile f) (.getName f)]);obtiene 3 informaciones de cada archivo\n",
    "       (file-seq (clojure.java.io/file dir))));   para usarlo en la función valid-file-names qu esta abajo"
   ]
  },
  {
   "cell_type": "code",
   "execution_count": 11,
   "metadata": {},
   "outputs": [
    {
     "data": {
      "text/plain": [
       "#'user/valid-file-names"
      ]
     },
     "execution_count": 11,
     "metadata": {},
     "output_type": "execute_result"
    }
   ],
   "source": [
    ";Esta función sirve para obtener todos los nombres que se encuentren en la carpeta a analizar.\n",
    ";Como en la función de procesa-texto se pide el nombre del archivo sin extensión,\n",
    ";cree esta función\n",
    "(defn valid-file-names\n",
    "  [dir]                                        ;obtiene los nombres del directorio\n",
    "  (->> (for [f (get-file-info dir) :when (f 1)];(f 1) es true o false si es archivo o no\n",
    "            (f 2)) ;si (f 1) es verdadero se incluye el nombre del archivo\n",
    "       (remove (fn [string1] (re-seq #\"(?xi) (checkpoint|[.]css|[.]html)\" string1)));quita archivos checkpoint que hace jupyterlab, archivos html y css\n",
    "       (map (fn [string] (clojure.string/replace string #\".go\" \"\")));los archivos go le quita su extensión\n",
    "       (map (fn [name1] (clojure.string/join [dir \"/\" name1])))));le agrega su extensión que se pone como parámetro dir\n",
    "                                                    ;porque si sólo se queda el nombre, no va a encontrar el archivo en caso de que\n",
    "                                                    ;el archivo este en otro directorio"
   ]
  },
  {
   "cell_type": "markdown",
   "metadata": {},
   "source": [
    "## Solución con una lista"
   ]
  },
  {
   "cell_type": "code",
   "execution_count": 1,
   "metadata": {},
   "outputs": [
    {
     "name": "stderr",
     "output_type": "stream",
     "text": [
      "Syntax error compiling at (REPL:3:3).\n",
      "Unable to resolve symbol: procesa-texto in this context\n"
     ]
    },
    {
     "ename": "class clojure.lang.Compiler$CompilerException",
     "evalue": "",
     "execution_count": 1,
     "output_type": "error",
     "status": "error",
     "traceback": [
      "  Util.java:   221 clojure.lang.Util/runtimeException",
      "   core.clj:  3214 clojure.core$eval/invokeStatic",
      "   core.clj:  3210 clojure.core$eval/invoke",
      "   main.clj:   437 clojure.main$repl$read_eval_print__9086$fn__9089/invoke",
      "   main.clj:   458 clojure.main$repl$fn__9095/invoke",
      "   main.clj:   368 clojure.main$repl/doInvoke",
      "RestFn.java:  1523 clojure.lang.RestFn/invoke",
      "   AFn.java:    22 clojure.lang.AFn/run",
      "   AFn.java:    22 clojure.lang.AFn/run",
      "Thread.java:   748 java.lang.Thread/run"
     ]
    }
   ],
   "source": [
    "(defn part-one2    ;esta función hace lo mismo pero recibe una lista de los nombres\n",
    "  [directory]\n",
    "  (map procesa-texto directory))"
   ]
  },
  {
   "cell_type": "code",
   "execution_count": 22,
   "metadata": {},
   "outputs": [
    {
     "name": "stdout",
     "output_type": "stream",
     "text": [
      "(binary128 binary1281 binary12810 binary12811 binary12812 binary12813 binary12814 binary12815 binary12816 binary12817 binary12818 binary12819 binary1282 binary12820 binary12821 binary12822 binary12823 binary12824 binary12825 binary12826 binary12827 binary12828 binary12829 binary1283 binary12830 binary12831 binary12832 binary12833 binary12834 binary12835 binary12836 binary12837 binary12838 binary12839 binary1284 binary12840 binary12841 binary12842 binary12843 binary12844 binary12845 binary12846 binary12847 binary12848 binary12849 binary1285 binary1286 binary1287 binary1288 binary1289 binary16_test binary16_test1 binary16_test10 binary16_test11 binary16_test12 binary16_test13 binary16_test14 binary16_test15 binary16_test16 binary16_test17 binary16_test18 binary16_test19 binary16_test2 binary16_test20 binary16_test21 binary16_test22 binary16_test23 binary16_test24 binary16_test25 binary16_test26 binary16_test27 binary16_test28 binary16_test29 binary16_test3 binary16_test30 binary16_test31 binary16_test32 binary16_test33 binary16_test34 binary16_test35 binary16_test36 binary16_test37 binary16_test38 binary16_test39 binary16_test4 binary16_test40 binary16_test41 binary16_test42 binary16_test43 binary16_test44 binary16_test45 binary16_test46 binary16_test47 binary16_test48 binary16_test49 binary16_test5 binary16_test6 binary16_test7 binary16_test8 binary16_test9 calculator calculator1 calculator10 calculator11 calculator12 calculator13 calculator14 calculator15 calculator16 calculator17 calculator18 calculator19 calculator2 calculator20 calculator21 calculator22 calculator23 calculator24 calculator25 calculator26 calculator27 calculator28 calculator29 calculator3 calculator30 calculator31 calculator32 calculator33 calculator34 calculator35 calculator36 calculator37 calculator38 calculator39 calculator4 calculator40 calculator41 calculator42 calculator43 calculator44 calculator45 calculator46 calculator47 calculator48 calculator49 calculator5 calculator6 calculator7 calculator8 calculator9 client client1 client10 client11 client12 client13 client14 client15 client16 client17 client18 client19 client2 client20 client21 client22 client23 client24 client25 client26 client27 client28 client29 client3 client30 client31 client32 client33 client34 client35 client36 client37 client38 client39 client4 client40 client41 client42 client43 client44 client45 client46 client47 client48 client49 client5 client6 client7 client8 client9 config_test config_test1 config_test10 config_test11 config_test12 config_test13 config_test14 config_test15 config_test16 config_test17 config_test18 config_test19 config_test2 config_test20 config_test21 config_test22 config_test23 config_test24 config_test25 config_test26 config_test27 config_test28 config_test29 config_test3 config_test30 config_test31 config_test32 config_test33 config_test34 config_test35 config_test36 config_test37 config_test38 config_test39 config_test4 config_test40 config_test41 config_test42 config_test43 config_test44 config_test45 config_test46 config_test47 config_test48 config_test49 config_test5 config_test6 config_test7 config_test8 config_test9 decoder_test decoder_test1 decoder_test10 decoder_test11 decoder_test12 decoder_test13 decoder_test14 decoder_test15 decoder_test16 decoder_test17 decoder_test18 decoder_test19 decoder_test2 decoder_test20 decoder_test21 decoder_test22 decoder_test23 decoder_test24 decoder_test25 decoder_test26 decoder_test27 decoder_test28 decoder_test29 decoder_test3 decoder_test30 decoder_test31 decoder_test32 decoder_test33 decoder_test34 decoder_test35 decoder_test36 decoder_test37 decoder_test38 decoder_test39 decoder_test4 decoder_test40 decoder_test41 decoder_test42 decoder_test43 decoder_test44 decoder_test45 decoder_test46 decoder_test47 decoder_test48 decoder_test49 decoder_test5 decoder_test6 decoder_test7 decoder_test8 decoder_test9 fuzzy_decoder fuzzy_decoder1 fuzzy_decoder10 fuzzy_decoder11 fuzzy_decoder12 fuzzy_decoder13 fuzzy_decoder14 fuzzy_decoder15 fuzzy_decoder16 fuzzy_decoder17 fuzzy_decoder18 fuzzy_decoder19 fuzzy_decoder2 fuzzy_decoder20 fuzzy_decoder21 fuzzy_decoder22 fuzzy_decoder23 fuzzy_decoder24 fuzzy_decoder25 fuzzy_decoder26 fuzzy_decoder27 fuzzy_decoder28 fuzzy_decoder29 fuzzy_decoder3 fuzzy_decoder30 fuzzy_decoder31 fuzzy_decoder32 fuzzy_decoder33 fuzzy_decoder34 fuzzy_decoder35 fuzzy_decoder36 fuzzy_decoder37 fuzzy_decoder38 fuzzy_decoder39 fuzzy_decoder4 fuzzy_decoder40 fuzzy_decoder41 fuzzy_decoder42 fuzzy_decoder43 fuzzy_decoder44 fuzzy_decoder45 fuzzy_decoder46 fuzzy_decoder47 fuzzy_decoder48 fuzzy_decoder49 fuzzy_decoder5 fuzzy_decoder6 fuzzy_decoder7 fuzzy_decoder8 fuzzy_decoder9 fuzzy_decoder_test fuzzy_decoder_test1 fuzzy_decoder_test10 fuzzy_decoder_test11 fuzzy_decoder_test12 fuzzy_decoder_test13 fuzzy_decoder_test14 fuzzy_decoder_test15 fuzzy_decoder_test16 fuzzy_decoder_test17 fuzzy_decoder_test18 fuzzy_decoder_test19 fuzzy_decoder_test2 fuzzy_decoder_test20 fuzzy_decoder_test21 fuzzy_decoder_test22 fuzzy_decoder_test23 fuzzy_decoder_test24 fuzzy_decoder_test25 fuzzy_decoder_test26 fuzzy_decoder_test27 fuzzy_decoder_test28 fuzzy_decoder_test29 fuzzy_decoder_test3 fuzzy_decoder_test30 fuzzy_decoder_test31 fuzzy_decoder_test32 fuzzy_decoder_test33 fuzzy_decoder_test34 fuzzy_decoder_test35 fuzzy_decoder_test36 fuzzy_decoder_test37 fuzzy_decoder_test38 fuzzy_decoder_test39 fuzzy_decoder_test4 fuzzy_decoder_test40 fuzzy_decoder_test41 fuzzy_decoder_test42 fuzzy_decoder_test43 fuzzy_decoder_test44 fuzzy_decoder_test45 fuzzy_decoder_test46 fuzzy_decoder_test47 fuzzy_decoder_test48 fuzzy_decoder_test49 fuzzy_decoder_test5 fuzzy_decoder_test6 fuzzy_decoder_test7 fuzzy_decoder_test8 fuzzy_decoder_test9 hellopb hellopb1 hellopb10 hellopb11 hellopb12 hellopb13 hellopb14 hellopb15 hellopb16 hellopb17 hellopb18 hellopb19 hellopb2 hellopb20 hellopb21 hellopb22 hellopb23 hellopb24 hellopb25 hellopb26 hellopb27 hellopb28 hellopb29 hellopb3 hellopb30 hellopb31 hellopb32 hellopb33 hellopb34 hellopb35 hellopb36 hellopb37 hellopb38 hellopb39 hellopb4 hellopb40 hellopb41 hellopb42 hellopb43 hellopb44 hellopb45 hellopb46 hellopb47 hellopb48 hellopb49 hellopb5 hellopb6 hellopb7 hellopb8 hellopb9 jsoniter_array_test jsoniter_array_test1 jsoniter_array_test10 jsoniter_array_test11 jsoniter_array_test12 jsoniter_array_test13 jsoniter_array_test14 jsoniter_array_test15 jsoniter_array_test16 jsoniter_array_test17 jsoniter_array_test18 jsoniter_array_test19 jsoniter_array_test2 jsoniter_array_test20 jsoniter_array_test21 jsoniter_array_test22 jsoniter_array_test23 jsoniter_array_test24 jsoniter_array_test25 jsoniter_array_test26 jsoniter_array_test27 jsoniter_array_test28 jsoniter_array_test29 jsoniter_array_test3 jsoniter_array_test30 jsoniter_array_test31 jsoniter_array_test32 jsoniter_array_test33 jsoniter_array_test34 jsoniter_array_test35 jsoniter_array_test36 jsoniter_array_test37 jsoniter_array_test38 jsoniter_array_test39 jsoniter_array_test4 jsoniter_array_test40 jsoniter_array_test41 jsoniter_array_test42 jsoniter_array_test43 jsoniter_array_test44 jsoniter_array_test45 jsoniter_array_test46 jsoniter_array_test47 jsoniter_array_test48 jsoniter_array_test49 jsoniter_array_test5 jsoniter_array_test6 jsoniter_array_test7 jsoniter_array_test8 jsoniter_array_test9 otroServer otroServer1 otroServer10 otroServer11 otroServer12 otroServer13 otroServer14 otroServer15 otroServer16 otroServer17 otroServer18 otroServer19 otroServer2 otroServer20 otroServer21 otroServer22 otroServer23 otroServer24 otroServer25 otroServer26 otroServer27 otroServer28 otroServer29 otroServer3 otroServer30 otroServer31 otroServer32 otroServer33 otroServer34 otroServer35 otroServer36 otroServer37 otroServer38 otroServer39 otroServer4 otroServer40 otroServer41 otroServer42 otroServer43 otroServer44 otroServer45 otroServer46 otroServer47 otroServer48 otroServer49 otroServer5 otroServer6 otroServer7 otroServer8 otroServer9 point_test point_test1 point_test10 point_test11 point_test12 point_test13 point_test14 point_test15 point_test16 point_test17 point_test18 point_test19 point_test2 point_test20 point_test21 point_test22 point_test23 point_test24 point_test25 point_test26 point_test27 point_test28 point_test29 point_test3 point_test30 point_test31 point_test32 point_test33 point_test34 point_test35 point_test36 point_test37 point_test38 point_test39 point_test4 point_test40 point_test41 point_test42 point_test43 point_test44 point_test45 point_test46 point_test47 point_test48 point_test49 point_test5 point_test6 point_test7 point_test8 point_test9 response response1 response10 response11 response12 response13 response14 response15 response16 response17 response18 response19 response2 response20 response21 response22 response23 response24 response25 response26 response27 response28 response29 response3 response30 response31 response32 response33 response34 response35 response36 response37 response38 response39 response4 response40 response41 response42 response43 response44 response45 response46 response47 response48 response49 response5 response6 response7 response8 response9 server server1 server10 server11 server12 server13 server14 server15 server16 server17 server18 server19 server2 server20 server21 server22 server23 server24 server25 server26 server27 server28 server29 server3 server30 server31 server32 server33 server34 server35 server36 server37 server38 server39 server4 server40 server41 server42 server43 server44 server45 server46 server47 server48 server49 server5 server6 server7 server8 server9 singlelinkedlist singlelinkedlist1 singlelinkedlist10 singlelinkedlist11 singlelinkedlist12 singlelinkedlist13 singlelinkedlist14 singlelinkedlist15 singlelinkedlist16 singlelinkedlist17 singlelinkedlist18 singlelinkedlist19 singlelinkedlist2 singlelinkedlist20 singlelinkedlist21 singlelinkedlist22 singlelinkedlist23 singlelinkedlist24 singlelinkedlist25 singlelinkedlist26 singlelinkedlist27 singlelinkedlist28 singlelinkedlist29 singlelinkedlist3 singlelinkedlist30 singlelinkedlist31 singlelinkedlist32 singlelinkedlist33 singlelinkedlist34 singlelinkedlist35 singlelinkedlist36 singlelinkedlist37 singlelinkedlist38 singlelinkedlist39 singlelinkedlist4 singlelinkedlist40 singlelinkedlist41 singlelinkedlist42 singlelinkedlist43 singlelinkedlist44 singlelinkedlist45 singlelinkedlist46 singlelinkedlist47 singlelinkedlist48 singlelinkedlist49 singlelinkedlist5 singlelinkedlist6 singlelinkedlist7 singlelinkedlist8 singlelinkedlist9 stream_str stream_str1 stream_str10 stream_str11 stream_str12 stream_str13 stream_str14 stream_str15 stream_str16 stream_str17 stream_str18 stream_str19 stream_str2 stream_str20 stream_str21 stream_str22 stream_str23 stream_str24 stream_str25 stream_str26 stream_str27 stream_str28 stream_str29 stream_str3 stream_str30 stream_str31 stream_str32 stream_str33 stream_str34 stream_str35 stream_str36 stream_str37 stream_str38 stream_str39 stream_str4 stream_str40 stream_str41 stream_str42 stream_str43 stream_str44 stream_str45 stream_str46 stream_str47 stream_str48 stream_str49 stream_str5 stream_str6 stream_str7 stream_str8 stream_str9 struct_embedded_test struct_embedded_test1 struct_embedded_test10 struct_embedded_test11 struct_embedded_test12 struct_embedded_test13 struct_embedded_test14 struct_embedded_test15 struct_embedded_test16 struct_embedded_test17 struct_embedded_test18 struct_embedded_test19 struct_embedded_test2 struct_embedded_test20 struct_embedded_test21 struct_embedded_test22 struct_embedded_test23 struct_embedded_test24 struct_embedded_test25 struct_embedded_test26 struct_embedded_test27 struct_embedded_test28 struct_embedded_test29 struct_embedded_test3 struct_embedded_test30 struct_embedded_test31 struct_embedded_test32 struct_embedded_test33 struct_embedded_test34 struct_embedded_test35 struct_embedded_test36 struct_embedded_test37 struct_embedded_test38 struct_embedded_test39 struct_embedded_test4 struct_embedded_test40 struct_embedded_test41 struct_embedded_test42 struct_embedded_test43 struct_embedded_test44 struct_embedded_test45 struct_embedded_test46 struct_embedded_test47 struct_embedded_test48 struct_embedded_test49 struct_embedded_test5 struct_embedded_test6 struct_embedded_test7 struct_embedded_test8 struct_embedded_test9 struct_tags_test struct_tags_test1 struct_tags_test10 struct_tags_test11 struct_tags_test12 struct_tags_test13 struct_tags_test14 struct_tags_test15 struct_tags_test16 struct_tags_test17 struct_tags_test18 struct_tags_test19 struct_tags_test2 struct_tags_test20 struct_tags_test21 struct_tags_test22 struct_tags_test23 struct_tags_test24 struct_tags_test25 struct_tags_test26 struct_tags_test27 struct_tags_test28 struct_tags_test29 struct_tags_test3 struct_tags_test30 struct_tags_test31 struct_tags_test32 struct_tags_test33 struct_tags_test34 struct_tags_test35 struct_tags_test36 struct_tags_test37 struct_tags_test38 struct_tags_test39 struct_tags_test4 struct_tags_test40 struct_tags_test41 struct_tags_test42 struct_tags_test43 struct_tags_test44 struct_tags_test45 struct_tags_test46 struct_tags_test47 struct_tags_test48 struct_tags_test49 struct_tags_test5 struct_tags_test6 struct_tags_test7 struct_tags_test8 struct_tags_test9 test_stale_repositories test_stale_repositories1 test_stale_repositories10 test_stale_repositories11 test_stale_repositories12 test_stale_repositories13 test_stale_repositories14 test_stale_repositories15 test_stale_repositories16 test_stale_repositories17 test_stale_repositories18 test_stale_repositories19 test_stale_repositories2 test_stale_repositories20 test_stale_repositories21 test_stale_repositories22 test_stale_repositories23 test_stale_repositories24 test_stale_repositories25 test_stale_repositories26 test_stale_repositories27 test_stale_repositories28 test_stale_repositories29 test_stale_repositories3 test_stale_repositories30 test_stale_repositories31 test_stale_repositories32 test_stale_repositories33 test_stale_repositories34 test_stale_repositories35 test_stale_repositories36 test_stale_repositories37 test_stale_repositories38 test_stale_repositories39 test_stale_repositories4 test_stale_repositories40 test_stale_repositories41 test_stale_repositories42 test_stale_repositories43 test_stale_repositories44 test_stale_repositories45 test_stale_repositories46 test_stale_repositories47 test_stale_repositories48 test_stale_repositories49 test_stale_repositories5 test_stale_repositories6 test_stale_repositories7 test_stale_repositories8 test_stale_repositories9 Ultimo Ultimo1 Ultimo10 Ultimo11 Ultimo12 Ultimo13 Ultimo14 Ultimo15 Ultimo16 Ultimo17 Ultimo18 Ultimo19 Ultimo2 Ultimo20 Ultimo21 Ultimo22 Ultimo23 Ultimo24 Ultimo25 Ultimo26 Ultimo27 Ultimo28 Ultimo29 Ultimo3 Ultimo30 Ultimo31 Ultimo32 Ultimo33 Ultimo34 Ultimo35 Ultimo36 Ultimo37 Ultimo38 Ultimo39 Ultimo4 Ultimo40 Ultimo41 Ultimo42 Ultimo43 Ultimo44 Ultimo45 Ultimo46 Ultimo47 Ultimo48 Ultimo49 Ultimo5 Ultimo6 Ultimo7 Ultimo8 Ultimo9)\n"
     ]
    },
    {
     "data": {
      "text/plain": [
       "nil"
      ]
     },
     "execution_count": 22,
     "metadata": {},
     "output_type": "execute_result"
    }
   ],
   "source": [
    "(def archivos-prueba (map #(clojure.string/replace % #\"archivos/\" \"\") (valid-file-names \"archivos\")))"
   ]
  },
  {
   "cell_type": "code",
   "execution_count": 25,
   "metadata": {},
   "outputs": [
    {
     "data": {
      "text/plain": [
       "(nil nil nil nil nil nil nil nil nil nil nil nil nil nil nil nil nil nil nil nil nil nil nil nil nil nil nil nil nil nil nil nil nil nil nil nil nil nil nil nil nil nil nil nil nil nil nil nil nil nil nil nil nil nil nil nil nil nil nil nil nil nil nil nil nil nil nil nil nil nil nil nil nil nil nil nil nil nil nil nil nil nil nil nil nil nil nil nil nil nil nil nil nil nil nil nil nil nil nil nil nil nil nil nil nil nil nil nil nil nil nil nil nil nil nil nil nil nil nil nil nil nil nil nil nil nil nil nil nil nil nil nil nil nil nil nil nil nil nil nil nil nil nil nil nil nil nil nil nil nil nil nil nil nil nil nil nil nil nil nil nil nil nil nil nil nil nil nil nil nil nil nil nil nil nil nil nil nil nil nil nil nil nil nil nil nil nil nil nil nil nil nil nil nil nil nil nil nil nil nil nil nil nil nil nil nil nil nil nil nil nil nil nil nil nil nil nil nil nil nil nil nil nil nil nil nil nil nil nil nil nil nil nil nil nil nil nil nil nil nil nil nil nil nil nil nil nil nil nil nil nil nil nil nil nil nil nil nil nil nil nil nil nil nil nil nil nil nil nil nil nil nil nil nil nil nil nil nil nil nil nil nil nil nil nil nil nil nil nil nil nil nil nil nil nil nil nil nil nil nil nil nil nil nil nil nil nil nil nil nil nil nil nil nil nil nil nil nil nil nil nil nil nil nil nil nil nil nil nil nil nil nil nil nil nil nil nil nil nil nil nil nil nil nil nil nil nil nil nil nil nil nil nil nil nil nil nil nil nil nil nil nil nil nil nil nil nil nil nil nil nil nil nil nil nil nil nil nil nil nil nil nil nil nil nil nil nil nil nil nil nil nil nil nil nil nil nil nil nil nil nil nil nil nil nil nil nil nil nil nil nil nil nil nil nil nil nil nil nil nil nil nil nil nil nil nil nil nil nil nil nil nil nil nil nil nil nil nil nil nil nil nil nil nil nil nil nil nil nil nil nil nil nil nil nil nil nil nil nil nil nil nil nil nil nil nil nil nil nil nil nil nil nil nil nil nil nil nil nil nil nil nil nil nil nil nil nil nil nil nil nil nil nil nil nil nil nil nil nil nil nil nil nil nil nil nil nil nil nil nil nil nil nil nil nil nil nil nil nil nil nil nil nil nil nil nil nil nil nil nil nil nil nil nil nil nil nil nil nil nil nil nil nil nil nil nil nil nil nil nil nil nil nil nil nil nil nil nil nil nil nil nil nil nil nil nil nil nil nil nil nil nil nil nil nil nil nil nil nil nil nil nil nil nil nil nil nil nil nil nil nil nil nil nil nil nil nil nil nil nil nil nil nil nil nil nil nil nil nil nil nil nil nil nil nil nil nil nil nil nil nil nil nil nil nil nil nil nil nil nil nil nil nil nil nil nil nil nil nil nil nil nil nil nil nil nil nil nil nil nil nil nil nil nil nil nil nil nil nil nil nil nil nil nil nil nil nil nil nil nil nil nil nil nil nil nil nil nil nil nil nil nil nil nil nil nil nil nil nil nil nil nil nil nil nil nil nil nil nil nil nil nil nil nil nil nil nil nil nil nil nil nil nil nil nil nil nil nil nil nil nil nil nil nil nil nil nil nil nil nil nil nil nil nil nil nil nil nil nil nil nil nil nil nil nil nil nil nil nil nil nil nil nil nil nil nil nil nil nil nil nil nil nil nil nil nil nil nil nil nil nil nil nil nil nil nil nil nil nil nil nil nil nil nil nil nil nil nil nil nil nil nil nil nil nil nil nil nil nil nil nil nil nil nil nil nil nil nil nil nil nil nil nil nil nil nil nil nil nil nil nil nil nil nil nil nil nil nil nil nil nil nil nil nil nil nil nil nil nil nil nil nil nil nil nil nil nil nil nil nil nil nil nil nil nil nil nil nil nil nil nil nil nil nil nil nil nil nil nil nil nil nil nil nil nil nil nil nil nil nil nil nil nil nil nil nil nil nil nil nil nil nil nil nil nil nil nil nil nil nil nil nil nil nil nil nil nil nil nil nil nil nil nil nil nil nil nil nil nil nil nil nil nil nil nil nil nil nil nil nil nil nil nil nil nil nil nil nil nil nil nil nil nil nil nil nil nil nil nil nil nil nil nil nil nil nil nil nil nil nil nil nil nil nil nil nil nil nil nil nil nil nil nil nil nil nil nil nil nil nil nil nil nil nil nil nil nil nil nil nil nil nil nil nil nil nil nil nil nil nil)"
      ]
     },
     "execution_count": 25,
     "metadata": {},
     "output_type": "execute_result"
    }
   ],
   "source": [
    "(part-one2 archivos-prueba)"
   ]
  },
  {
   "cell_type": "markdown",
   "metadata": {
    "tags": []
   },
   "source": [
    "## Paralelo"
   ]
  },
  {
   "cell_type": "code",
   "execution_count": 15,
   "metadata": {},
   "outputs": [
    {
     "data": {
      "text/plain": [
       "#'user/ranges-str"
      ]
     },
     "execution_count": 15,
     "metadata": {},
     "output_type": "execute_result"
    }
   ],
   "source": [
    ";esta función hace que haga una secuencia \n",
    "(defn ranges-str\n",
    "  [p strings]\n",
    "  (partition p strings))"
   ]
  },
  {
   "cell_type": "code",
   "execution_count": 19,
   "metadata": {},
   "outputs": [
    {
     "data": {
      "text/plain": [
       "#'user/parallel-Ariadna"
      ]
     },
     "execution_count": 19,
     "metadata": {},
     "output_type": "execute_result"
    }
   ],
   "source": [
    "(defn parallel\n",
    "  [p archivo]\n",
    "  (->> (partition p archivo)\n",
    "       (pmap \n",
    "         #(part-one2 %))))"
   ]
  },
  {
   "cell_type": "markdown",
   "metadata": {},
   "source": [
    "## Pruebas"
   ]
  },
  {
   "cell_type": "code",
   "execution_count": 32,
   "metadata": {},
   "outputs": [
    {
     "name": "stdout",
     "output_type": "stream",
     "text": [
      "\"Elapsed time: 0.0052 msecs\"\n",
      "\"Elapsed time: 0.0026 msecs\"\n",
      "\"Elapsed time: 0.0051 msecs\"\n",
      "\"Elapsed time: 6.0E-4 msecs\"\n",
      "\"Elapsed time: 6.0E-4 msecs\"\n"
     ]
    },
    {
     "data": {
      "text/plain": [
       "nil"
      ]
     },
     "execution_count": 32,
     "metadata": {},
     "output_type": "execute_result"
    }
   ],
   "source": [
    "(doseq [i (range 5)]\n",
    "  (time (part-one2 \n",
    "         archivos-prueba)))"
   ]
  },
  {
   "cell_type": "code",
   "execution_count": 33,
   "metadata": {},
   "outputs": [
    {
     "name": "stdout",
     "output_type": "stream",
     "text": [
      "\"Elapsed time: 0.0514 msecs\"\n",
      "\"Elapsed time: 0.0302 msecs\"\n",
      "\"Elapsed time: 0.0285 msecs\"\n",
      "\"Elapsed time: 0.028 msecs\"\n",
      "\"Elapsed time: 0.0285 msecs\"\n"
     ]
    },
    {
     "data": {
      "text/plain": [
       "nil"
      ]
     },
     "execution_count": 33,
     "metadata": {},
     "output_type": "execute_result"
    }
   ],
   "source": [
    "(doseq [i (range 5)]\n",
    "  (time (parallel\n",
    "         10 archivos-prueba)))"
   ]
  },
  {
   "cell_type": "code",
   "execution_count": null,
   "metadata": {},
   "outputs": [],
   "source": []
  }
 ],
 "metadata": {
  "kernelspec": {
   "display_name": "Clojure (clojupyter=0.3.2=1)",
   "language": "clojure",
   "name": "conda-clojupyter"
  },
  "language_info": {
   "file_extension": ".clj",
   "mimetype": "text/x-clojure",
   "name": "clojure",
   "version": "1.10.1"
  },
  "toc": {
   "base_numbering": 1,
   "nav_menu": {},
   "number_sections": true,
   "sideBar": true,
   "skip_h1_title": false,
   "title_cell": "Table of Contents",
   "title_sidebar": "Contents",
   "toc_cell": false,
   "toc_position": {
    "height": "calc(100% - 180px)",
    "left": "10px",
    "top": "150px",
    "width": "286px"
   },
   "toc_section_display": true,
   "toc_window_display": true
  }
 },
 "nbformat": 4,
 "nbformat_minor": 4
}
