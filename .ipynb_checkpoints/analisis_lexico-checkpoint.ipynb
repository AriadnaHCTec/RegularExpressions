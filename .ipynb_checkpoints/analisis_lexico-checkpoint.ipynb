{
 "cells": [
  {
   "cell_type": "markdown",
   "metadata": {
    "tags": []
   },
   "source": [
    "# Proyecto integrador\n",
    "\n",
    "Miguel Ángel Pérez López A01750145\n",
    "\n",
    "Ariadna Huesca Coronado A01749161\n",
    "\n",
    "Lenguaje: GO\n",
    "\n",
    "https://golang.org/ref/spec#Floating-point_literals\n",
    "\n",
    "http://www.regular-expressions.info/unicode.html#prop"
   ]
  },
  {
   "cell_type": "code",
   "execution_count": 19,
   "metadata": {},
   "outputs": [
    {
     "data": {
      "text/plain": [
       "nil"
      ]
     },
     "execution_count": 19,
     "metadata": {},
     "output_type": "execute_result"
    }
   ],
   "source": [
    ";; External function required for this notebook.\n",
    "(require '[clojure.test :refer [is]])"
   ]
  },
  {
   "cell_type": "markdown",
   "metadata": {
    "heading_collapsed": true,
    "tags": [],
    "toc-hr-collapsed": true
   },
   "source": [
    "## Pruebas unitarias"
   ]
  },
  {
   "cell_type": "markdown",
   "metadata": {
    "heading_collapsed": true,
    "hidden": true,
    "tags": [],
    "toc-hr-collapsed": true
   },
   "source": [
    "### Variable"
   ]
  },
  {
   "cell_type": "code",
   "execution_count": 20,
   "metadata": {
    "hidden": true
   },
   "outputs": [
    {
     "data": {
      "text/plain": [
       "true"
      ]
     },
     "execution_count": 20,
     "metadata": {},
     "output_type": "execute_result"
    }
   ],
   "source": [
    ";;; Regular expression:\n",
    "(def GO-variable #\"(?xi)\n",
    "                    [\\p{L}_][\\p{L}\\p{N}_]*\") \n",
    "(is (re-matches GO-variable \"a\"))\n",
    "(is (re-matches GO-variable \"_x9\"))\n",
    "(is (re-matches GO-variable \"ThisVariableIsExported\"))\n",
    "(is (re-matches GO-variable \"αβ\"))\n",
    "(is (not (re-matches GO-variable \".\")))"
   ]
  },
  {
   "cell_type": "markdown",
   "metadata": {
    "hidden": true
   },
   "source": [
    "STRING"
   ]
  },
  {
   "cell_type": "code",
   "execution_count": 21,
   "metadata": {
    "hidden": true
   },
   "outputs": [
    {
     "data": {
      "text/plain": [
       "true"
      ]
     },
     "execution_count": 21,
     "metadata": {},
     "output_type": "execute_result"
    }
   ],
   "source": [
    "(def GO-string #\"(?xi)\n",
    "                    `[^`]*`|\n",
    "                    \\\"([^\\\\]|\n",
    "                        \\\\ \n",
    "                        ([abfnrtv\\\\\\\"`]|\n",
    "                          U[\\dA-F]{4}|\n",
    "                          [0-7]{3}|\n",
    "                          x[\\dA-F]{2}))* \n",
    "                    \\\"\") \n",
    "(is (re-matches GO-string \"`abc`\"))\n",
    "(is (re-matches GO-string \"`\\n \\n`\"))\n",
    "(is (re-matches GO-string \"\\\"\\\\\\\"\\\"\"))\n",
    "(is (re-matches GO-string \"\\\"Hello, world!\\\\n\\\"\"))\n",
    "(is (re-matches GO-string \"\\\"日本語\\\"\"))\n",
    "(is (re-matches GO-string \"\\\"\\\\u65e5本\\\\U00008a9e\\\"\"))\n",
    "(is (re-matches GO-string \"\\\"\\\\xff\\\\u00FF\\\"\"))\n",
    "(is (not (re-matches GO-string \"\\\"\\\\0\\\"\")))\n",
    "(is (not (re-matches GO-string \"\\\"\\\\xa\\\"\")));este era con U\n",
    "(is (not (re-matches GO-string \"\\\"\\\\UabcZ\\\"\")));este era con U\n",
    "(is (not (re-matches GO-string \"\\\"\\\\\\\"\")));este era con U"
   ]
  },
  {
   "cell_type": "code",
   "execution_count": 22,
   "metadata": {
    "hidden": true
   },
   "outputs": [
    {
     "data": {
      "text/plain": [
       "true"
      ]
     },
     "execution_count": 22,
     "metadata": {},
     "output_type": "execute_result"
    }
   ],
   "source": [
    "(def GO-string #\"(?xi)\n",
    "                    import|var|true|false\") \n",
    "(is (re-matches GO-string \"import\"))\n",
    "(is (re-matches GO-string \"var\"))\n",
    "(is (re-matches GO-string \"true\"))\n",
    "(is (re-matches GO-string \"false\"))\n",
    "(is (not (re-matches GO-string \" \")))\n",
    "(is (not (re-matches GO-string \"importar\")))\n",
    "(is (not (re-matches GO-string \"_var\")))"
   ]
  },
  {
   "cell_type": "markdown",
   "metadata": {
    "heading_collapsed": true,
    "hidden": true
   },
   "source": [
    "### Asignación"
   ]
  },
  {
   "cell_type": "markdown",
   "metadata": {
    "hidden": true
   },
   "source": [
    "### Version final hexadecimal\n",
    "\n",
    "0[xX][_]*([0-9a-fA-F]+(?:_[0-9a-fA-F]+)*[.]*[0-9a-fA-F]*|[0-9a-fA-F]*(?:_[0-9a-fA-F]+)*[.]*[0-9a-fA-F]+)(?:_[0-9a-fA-F]+)*[pPeE][+-]??[0-9a-fA-F]+(?:_[0-9a-fA-F]+)*"
   ]
  },
  {
   "cell_type": "code",
   "execution_count": 23,
   "metadata": {
    "hidden": true
   },
   "outputs": [
    {
     "data": {},
     "execution_count": 23,
     "metadata": {},
     "output_type": "execute_result"
    }
   ],
   "source": [
    ";0[oO][_]*[0-7]+(_[0-7]+)* #octal\n",
    ";0[xX][0-9a-fA-F]+(_[0-9a-fA-F]+)* #hexadecimal\n",
    ";0[bB][01]+(_[01]+)* #binario\n",
    "\n",
    ";[0]+(_\\d+)*\\d+ #enteros empezando con 0\n",
    ";[1-9]+\\d*(_\\d+)* #enteros que no empiezan con 0\n",
    "\n",
    ";\\d*(_\\d)*\\.\\d*([eE][+-]*\\d+(_\\d)*)* #flotantes con enteros\n",
    "\n",
    ";#flotantes hexadecimales como 0x2_3.p10_12_2222_2 sin tener numeros despues del .\n",
    ";0[xX][_]*[0-9a-fA-F]+(_[0-9a-fA-F])*\\.p[0-9a-fA-F]+(_[0-9a-fA-F]+)* \n",
    ";final casi bueno 0[xX][_]*[0-9a-fA-F]*(_[0-9a-fA-F]+)*[.]*[0-9a-fA-F]*(_[0-9a-fA-F]+)*[pP][+-]*[0-9a-fA-F]+(_[0-9a-fA-F]+)*\n",
    ";caso que acepta 1.p 0[xX][_]*[0-9a-fA-F]+(_[0-9a-fA-F]+)*[.]*[0-9a-fA-F]*(_[0-9a-fA-F]+)*[pP][+-]*[0-9a-fA-F]+(_[0-9a-fA-F]+)*\n",
    ";caso que acepta .1p 0[xX][_]*[0-9a-fA-F]*(_[0-9a-fA-F]+)*[.]*[0-9a-fA-F]+(_[0-9a-fA-F]+)*[pP][+-]*[0-9a-fA-F]+(_[0-9a-fA-F]+)*"
   ]
  },
  {
   "cell_type": "code",
   "execution_count": 24,
   "metadata": {
    "hidden": true
   },
   "outputs": [
    {
     "data": {
      "text/plain": [
       "#'user/mike2"
      ]
     },
     "execution_count": 24,
     "metadata": {},
     "output_type": "execute_result"
    }
   ],
   "source": [
    "(def mike2 #\"(?xi)\n",
    " >>={0,1}|<<={0,1} #aritmetico\n",
    "| [=><!]=| [><] #comparacion\n",
    "| [-+|^*&/%]??= #asignacion\n",
    "| |[|]{2}|&{2}|! #logico\n",
    "| [-+*/%&|^]|(&^) #aritmetico\n",
    "| (\\s)\n",
    "  \")"
   ]
  },
  {
   "cell_type": "code",
   "execution_count": 81,
   "metadata": {
    "hidden": true
   },
   "outputs": [
    {
     "data": {
      "text/plain": [
       "#'user/mike"
      ]
     },
     "execution_count": 81,
     "metadata": {},
     "output_type": "execute_result"
    }
   ],
   "source": [
    "(def mike #\"(?xi)\n",
    "  0[oO][_]*[0-7]+(?:_[0-7]+)*|0[xX][0-9a-fA-F]+(?:_[0-9a-fA-F]+)*\n",
    "  |0[bB][01]+(?:_[01]+)*|(?:[0]+\\d*(?:_\\d+)*\n",
    "  |[1-9]+\\d*(?:_\\d+)*)[eE][+-]??(?:[0]+\\d*(?:_\\d+)*|[1-9]+\\d*(?:_\\d+)*)\n",
    "  |[0]+\\d*(?:_\\d+)*\\d+| [1-9]+\\d*(?:_\\d+)*|0 #enteros\n",
    "  | \\d*(?:_\\d)*\\.\\d*(?:[eE][+-]??\\d+(?:_\\d)*)*\n",
    "  |0[xX][_]*([0-9a-fA-F]+(?:_[0-9a-fA-F]+)*[.]*[0-9a-fA-F]*\n",
    "  |[0-9a-fA-F]*(?:_[0-9a-fA-F]+)*[.]*[0-9a-fA-F]+)(?:_[0-9a-fA-F]+)*[pPeE][+-]??[0-9a-fA-F]+(?:_[0-9a-fA-F]+)* #hexadecimales flotantes\n",
    "  | >>={0,1}|<<={0,1}|[-+*/%&|^]|(&^)#aritmetico\n",
    "  | [=><!]=| [><] #comparacion\n",
    "  | [-+|^*&/%]??= #asignacion\n",
    "  | |[|]{2}|&{2}|! #logico\n",
    "  | (?:// .* )      #Comentario\n",
    "  | (?: \\s )\n",
    "  \")"
   ]
  },
  {
   "cell_type": "code",
   "execution_count": 82,
   "metadata": {
    "hidden": true
   },
   "outputs": [
    {
     "data": {
      "text/plain": [
       "[\"!\" nil nil]"
      ]
     },
     "execution_count": 82,
     "metadata": {},
     "output_type": "execute_result"
    }
   ],
   "source": [
    ";enteros\n",
    "(is (re-matches mike \"0\"))\n",
    "(is (re-matches mike \"3\"))\n",
    "(is (re-matches mike \"4_4543_35435_2\"))\n",
    "(is (re-matches mike \"342_3242_2342\"))\n",
    "(is (re-matches mike \"7_7\"))\n",
    "(is (re-matches mike \"00_232_232\"))\n",
    "(is (re-matches mike \"0_232_232\"))\n",
    "(is (re-matches mike \"8699874238403009\"))\n",
    "(is (re-matches mike \"43216400\"))\n",
    "(is (re-matches mike \"00089970\"))\n",
    "(is (re-matches mike \"08989\"))\n",
    "(is (re-matches mike \"7678575\"))\n",
    "(is (re-matches mike \"0o6565467\"))\n",
    "(is (re-matches mike \"0x435F564A\"))\n",
    "(is (re-matches mike \"0X000_3_f565\"))\n",
    "(is (re-matches mike \"0x47464456f_32f_3_3\"))\n",
    "(is (re-matches mike \"0b10100_01_1\"))\n",
    "(is (re-matches mike \"0B00_1_111\"))\n",
    "(is (re-matches mike \"0o_6_3432_2_34\"))\n",
    "(is (re-matches mike \"0O4_43_2432\"))\n",
    "(is (re-matches mike \"0_54654654\"))\n",
    "(is (re-matches mike \"//Hello\"))\n",
    "(is (re-matches mike \"0xBad_Face\"))\n",
    ";flotantes enteros\n",
    "(is (re-matches mike \"0.\"))\n",
    "(is (re-matches mike \"72.40\"))\n",
    "(is (re-matches mike \"7_2.40\"))\n",
    "(is (re-matches mike \"072.40\"))\n",
    "(is (re-matches mike \"2.71828\"))\n",
    "(is (re-matches mike \"1.e+0\"))\n",
    "(is (re-matches mike \"1.e+0_4_4_4\"))\n",
    "(is (re-matches mike \"6.67428e-11\"))\n",
    ";checar este caso\n",
    "(is (re-matches mike \".25\"))\n",
    "(is (re-matches mike \".12345E+5\"))\n",
    "(is (re-matches mike \"1_5.\"))\n",
    "(is (re-matches mike \"0.15e+0_2\"))\n",
    ";flotantes con e sin punto\n",
    "(is (re-matches mike \"1E6\"))\n",
    "(is (re-matches mike \"0E6\"))\n",
    "(is (re-matches mike \"434_43e423\"))\n",
    "(is (re-matches mike \"00565_443_4e4_4\"))\n",
    "(is (not (re-matches mike \"4534545e_e\")))\n",
    ";flotantes hexadecimales\n",
    "(is (re-matches mike \"0x2.p10\"))\n",
    "(is (re-matches mike \"0x2_3.p10_12_2222_2\"))\n",
    "(is (re-matches mike \"0X1.p1\"))\n",
    "(is (re-matches mike \"0x_4.p43\"))\n",
    "(is (re-matches mike \"0x_4p45\"))\n",
    "(is (re-matches mike \"0x1p-2\"))\n",
    "(is (re-matches mike \"0x3_3._32p3\"))\n",
    "(is (re-matches mike \"0x1.Fp+0\"))\n",
    "(is (re-matches mike \"0x.8p-0\"))\n",
    "(is (re-matches mike \"0X_1FFFP-16\"))\n",
    "(is (re-matches mike \"0x15e-2\"))\n",
    "(is (re-matches mike \"0x.1p1\"))\n",
    ";este caso es erróneo\n",
    "(is (not (re-matches mike \"0x.p1\")))\n",
    ";operadores\n",
    "(is (re-matches mike \"+=\"))\n",
    "(is (re-matches mike \"-=\"))\n",
    "(is (re-matches mike \"|=\"))\n",
    "(is (re-matches mike \"==\"))\n",
    "(is (re-matches mike \"^=\"))\n",
    "(is (re-matches mike \"<\"))\n",
    "(is (re-matches mike \">\"))\n",
    "(is (re-matches mike \">>\"))\n",
    "(is (re-matches mike \"<<\"))\n",
    "(is (re-matches mike \"<<=\"))\n",
    "(is (re-matches mike \">>=\"))\n",
    "(is (not (re-matches mike \">>>=\")))\n",
    "(is (not (re-matches mike \"<<<=\")))\n",
    "(is (re-matches mike \"||\"))\n",
    "(is (re-matches mike \"&&\"))\n",
    "(is (re-matches mike \"!\"))"
   ]
  },
  {
   "cell_type": "code",
   "execution_count": 27,
   "metadata": {
    "hidden": true
   },
   "outputs": [
    {
     "data": {
      "text/plain": [
       "#'user/mike"
      ]
     },
     "execution_count": 27,
     "metadata": {},
     "output_type": "execute_result"
    }
   ],
   "source": [
    "(def mike #\"(?xi)\n",
    "  0[oO][_]*[0-7]+(?:_[0-7]+)*                 #octal\n",
    "| 0[xX][0-9a-fA-F]+(?:_[0-9a-fA-F]+)*         #hexadecimal\n",
    "| 0[bB][01]+(?:_[01]+)*                       #binario\n",
    "| (?:[0]+\\d*(?:_\\d+)*|[1-9]+\\d*(?:_\\d+)*)[eE][+-]??(?:[0]+\\d*(?:_\\d+)*|[1-9]+\\d*(?:_\\d+)*) #flotantes con E sin punto\n",
    "| [0]+\\d*(?:_\\d+)*\\d+                         #enteros empezando con 0\n",
    "| [1-9]+\\d*(?:_\\d+)*                          #enteros que no empiezan con 0\n",
    "| \\d*(?:_\\d)*\\.\\d*(?:[eE][+-]??\\d+(?:_\\d)*)*        #flotantes con enteros\n",
    "| 0[xX][_]*([0-9a-fA-F]+(?:_[0-9a-fA-F]+)*[.]*[0-9a-fA-F]*|[0-9a-fA-F]*(?:_[0-9a-fA-F]+)*[.]*[0-9a-fA-F]+)(?:_[0-9a-fA-F]+)*[pPeE][+-]??[0-9a-fA-F]+(?:_[0-9a-fA-F]+)* #hexadecimales flotantes\n",
    "| >>={0,1}|<<={0,1} #aritmetico\n",
    "| [=><!]=| [><] #comparacion\n",
    "| [-+|^*&/%]??= #asignacion\n",
    "| |[|]{2}|&{2}|! #logico\n",
    "| [-+*/%&|^]|(&^) #aritmetico\n",
    "| (?:// .* )                                  #Comentario\n",
    "| ( \\s ) \")"
   ]
  },
  {
   "cell_type": "markdown",
   "metadata": {},
   "source": [
    "## Tareas\n",
    "\n",
    "1. Entero 1\n",
    "2. FLotante 1\n",
    "3. Comentario 1\n",
    "4. Variable 1\n",
    "5. String\n",
    "6. Operadores (Asignación) = += *= Mmike\n",
    "7. Lógico (> < ==) Mike\n",
    "8. Aritmético(+ - *) mike\n",
    "9. Constantes (True, False, var) Ari\n",
    "10. Paréntesis y llaves Ari"
   ]
  },
  {
   "cell_type": "markdown",
   "metadata": {},
   "source": [
    "1. fn2: exportar archivo html\n",
    "2. fn1: (inicio intermedio final) : string \n",
    "3. intermedio: (\"<span class=\" \" resultado(float,var) \">\"  contenido \"</span>\"\n",
    "4. contenido: (< (menor que)   ➔   &lt; > (mayor que)   ➔   &gt; & (ampersand)   ➔   &amp;)"
   ]
  },
  {
   "cell_type": "markdown",
   "metadata": {},
   "source": [
    "### Hilos\n",
    "1. 20 archivos diferentes\n",
    "2. Script para copiar los archivos - Ari\n",
    "3. Solucion Secuencial\n",
    "4. Hilos\n",
    "5. Estadisticas"
   ]
  },
  {
   "cell_type": "markdown",
   "metadata": {},
   "source": [
    "### Otros\n",
    "1. Estilos de clojure - Mike\n",
    "2. Poster\n",
    "3. Revision"
   ]
  },
  {
   "cell_type": "markdown",
   "metadata": {
    "tags": []
   },
   "source": [
    "## Secuencial"
   ]
  },
  {
   "cell_type": "markdown",
   "metadata": {},
   "source": [
    "### Normal"
   ]
  },
  {
   "cell_type": "code",
   "execution_count": 179,
   "metadata": {},
   "outputs": [
    {
     "data": {
      "text/plain": [
       "#'user/regex"
      ]
     },
     "execution_count": 179,
     "metadata": {},
     "output_type": "execute_result"
    }
   ],
   "source": [
    "(def regex #\"(?xi)\n",
    "  (\\d*(?:_\\d)*\\.\\d*(?:[eE][+-]??\\d+(?:_\\d)*)* #Grupo 1 Flotantes\n",
    "    |0[xX][_]*(?:[0-9a-fA-F]+(?:_[0-9a-fA-F]+)*[.]*[0-9a-fA-F]*\n",
    "    |[0-9a-fA-F]*(?:_[0-9a-fA-F]+)*[.]*[0-9a-fA-F]+)\n",
    "    (?:_[0-9a-fA-F]+)*[pPeE][+-]??[0-9a-fA-F]+(?:_[0-9a-fA-F]+)*)\n",
    "  | (0[oO][_]*[0-7]+(?:_[0-7]+)*              #Grupo 2 enteros\n",
    "    |0[xX][0-9a-fA-F]+(?:_[0-9a-fA-F]+)*\n",
    "    |0[bB][01]+(?:_[01]+)*|(?:[0]+\\d*(?:_\\d+)*\n",
    "    |[1-9]+\\d*(?:_\\d+)*)[eE][+-]??(?:[0]+\\d*(?:_\\d+)*|[1-9]+\\d*(?:_\\d+)*)\n",
    "    |[0]+\\d*(?:_\\d+)*\\d+|[1-9]+\\d*(?:_\\d+)*|0)\n",
    "  | ( // .*|[/][*][^*]*[*]+(?:[^*/][^*]*[*]+)*[/]) # Grupo 3: Comentario\n",
    "  | (import|var|true|false)                   # Grupo 4: Constantes\n",
    "  | (`[^`]*`|\\\"(?:[^\\\\]|\\\\(?:[abfnrtv\\\\\\\"`]\n",
    "    |U[\\dA-F]{4}|[0-7]{3}|x[\\dA-F]{2}))*\\\")   # Grupo 5: String\n",
    "  | ([-+|*&/%^]??=|<<=|>>=)                   # Grupo 6: Operador de Asignacion\n",
    "  | ([|]{2}|&{2}|!)                           # Grupo 7: Operador Lógico\n",
    "  | (>>|<<|(?:&\\^)|[-+*/%&|^])                # Grupo 8: Operador Aritmético\n",
    "  | ( [\\p{L}_][\\p{L}\\p{N}_]* )                # Grupo 9: Variable\n",
    "  | ( [\\(\\)\\{\\}] )                            # Grupo 10: Puntuación\n",
    "  | ( \\s )                                    # Grupo 11: Otro\n",
    "  | ( . )                                     # Grupo 12: Carácter inválido\")"
   ]
  },
  {
   "cell_type": "code",
   "execution_count": 178,
   "metadata": {},
   "outputs": [
    {
     "data": {
      "text/plain": [
       "#'user/tokenize-file"
      ]
     },
     "execution_count": 178,
     "metadata": {},
     "output_type": "execute_result"
    }
   ],
   "source": [
    "(defn tokenize-file\n",
    "  [file-name]\n",
    "  (->> (re-seq regex (slurp file-name))\n",
    "       (map (fn [match]\n",
    "              (let [token (match 0)]\n",
    "                (cond\n",
    "                  (match 1) [token \"Flotante\"]\n",
    "                  (match 2) [token \"Entero\"]\n",
    "                  (match 3) [token \"Comentario\"]\n",
    "                  (match 4) [token \"Constante\"]\n",
    "                  (match 5) [token \"String\"]\n",
    "                  (match 6) [token \"Asignacion\"]\n",
    "                  (match 7) [token \"Logico\"]\n",
    "                  (match 8) [token \"Aritmetico\"]\n",
    "                  (match 9) [token \"Variable\"]\n",
    "                  (match 10) [token \"Puntuacion\"]\n",
    "                  (match 11) [token \"Espacio\"]\n",
    "                  (match 12) [token \"Invalido\"]))))))"
   ]
  },
  {
   "cell_type": "code",
   "execution_count": 99,
   "metadata": {},
   "outputs": [
    {
     "data": {
      "text/plain": [
       "[\"//go:generate go run gen.go -o extra_test.go\" nil nil \"//go:generate go run gen.go -o extra_test.go\" nil nil nil nil nil nil nil nil nil]"
      ]
     },
     "execution_count": 99,
     "metadata": {},
     "output_type": "execute_result"
    }
   ],
   "source": [
    ";ignorar, pruebas\n",
    "(re-find regex (slurp \"binary128.go\"))\n",
    "(use 'clojure.java.io)\n",
    "(defn tokenize-file3 []\n",
    " (loop [token (re-seq regex (slurp file-name))\n",
    "        vector1 [ ]]\n",
    "  (if (seq token))\n",
    "   (recur (rest token) (conj vector1 (first token)))))\n",
    "\n",
    "(def vector1 [])\n",
    "(with-open [rdr (reader \"binary128.go\")]\n",
    "  (doseq [line (line-seq rdr)]\n",
    "    (conj vector1 (re-seq regex line))))\n",
    "\n",
    "(defn my-re-seq [re string]\n",
    "         \"Something like re-seq\"\n",
    "         (let [matcher (re-matcher re string)]\n",
    "\n",
    "           (loop [match (re-find matcher) ;loop starts with 2 set arguments\n",
    "                  result []]\n",
    "             (if-not match\n",
    "               result\n",
    "               (recur (re-find matcher)    ;loop with 2 new arguments\n",
    "                      (conj result match))))))"
   ]
  },
  {
   "cell_type": "code",
   "execution_count": 251,
   "metadata": {},
   "outputs": [
    {
     "data": {
      "text/plain": [
       "#'user/valor"
      ]
     },
     "execution_count": 251,
     "metadata": {},
     "output_type": "execute_result"
    }
   ],
   "source": [
    ";ignorar lo boa borrar\n",
    "(defn valor [file-name]\n",
    "  (with-open [rdr (reader file-name)]\n",
    "    (doseq [line (line-seq rdr)]\n",
    "      (println (re-seq regex line)))))\n",
    "(valor \"binary128.go\")"
   ]
  },
  {
   "cell_type": "code",
   "execution_count": 118,
   "metadata": {},
   "outputs": [
    {
     "data": {
      "text/plain": [
       "#'user/valor2"
      ]
     },
     "execution_count": 118,
     "metadata": {},
     "output_type": "execute_result"
    }
   ],
   "source": [
    ";ignorar lo boa borrar\n",
    "(defn valor2 []\n",
    "  (->> \n",
    "    (valor \"binary128.go\")\n",
    "    (map (fn [match]\n",
    "              (let [token (match 0)]\n",
    "                (cond\n",
    "                  (match 1) [token \"Flotante\"]\n",
    "                  (match 2) [token \"Entero\"]\n",
    "                  (match 3) [token \"Comentario\"]\n",
    "                  (match 4) [token \"Constante\"]\n",
    "                  (match 5) [token \"String\"]\n",
    "                  (match 6) [token \"Asignacion\"]\n",
    "                  (match 7) [token \"Logico\"]\n",
    "                  (match 8) [token \"Aritmetico\"]\n",
    "                  (match 9) [token \"Variable\"]\n",
    "                  (match 10) [token \"Puntuacion\"]\n",
    "                  (match 11) [token \"Espacio\"]\n",
    "                  (match 12) [token \"Invalido\"]))))))\n",
    "(valor2)"
   ]
  },
  {
   "cell_type": "code",
   "execution_count": 120,
   "metadata": {},
   "outputs": [
    {
     "name": "stdout",
     "output_type": "stream",
     "text": [
      "//go:generate go run gen.go -o extra_test.go\n",
      "\n",
      "// Package binary128 implements encoding and decoding of IEEE 754 quadruple\n",
      "// precision floating-point numbers.\n",
      "//\n",
      "// https://en.wikipedia.org/wiki/Quadruple-precision_floating-point_format\n",
      "package binary128\n",
      "\n",
      "import (\n",
      "\t\"fmt\"\n",
      "\t\"math\"\n",
      "\t\"math/big\"\n",
      ")\n",
      "\n",
      "const (\n",
      "\t// precision specifies the number of bits in the mantissa (including the\n",
      "\t// implicit lead bit).\n",
      "\tprecision = 113\n",
      "\t// exponent bias.\n",
      "\tbias = 16383\n",
      ")\n",
      "\n",
      "// Positive and negative Not-a-Number, infinity and zero.\n",
      "var (\n"
     ]
    },
    {
     "data": {
      "text/plain": [
       "nil"
      ]
     },
     "execution_count": 120,
     "metadata": {},
     "output_type": "execute_result"
    }
   ],
   "source": [
    ";ignorar lo boa borrar / codigo para leer línea por línea\n",
    "(use 'clojure.java.io)\n",
    "(with-open [rdr (reader \"binary128.go\")]\n",
    "  (doseq [line (line-seq rdr)]\n",
    "    (println line))) ;;; do line-processing here"
   ]
  },
  {
   "cell_type": "code",
   "execution_count": 63,
   "metadata": {},
   "outputs": [
    {
     "data": {},
     "execution_count": 63,
     "metadata": {},
     "output_type": "execute_result"
    }
   ],
   "source": [
    "(tokenize-file \"binary128.go\")"
   ]
  },
  {
   "cell_type": "markdown",
   "metadata": {
    "heading_collapsed": true,
    "tags": [],
    "toc-hr-collapsed": true
   },
   "source": [
    "### Prueba local"
   ]
  },
  {
   "cell_type": "code",
   "execution_count": 4,
   "metadata": {
    "hidden": true
   },
   "outputs": [
    {
     "data": {
      "text/plain": [
       "#'user/table-lines"
      ]
     },
     "execution_count": 4,
     "metadata": {},
     "output_type": "execute_result"
    }
   ],
   "source": [
    "(defn table-lines\n",
    "  [file-name]\n",
    "  (->> (tokenize-file file-name)\n",
    "       (map (fn [t] (format \"%-30s%s\" (t 0) (t 1))))))"
   ]
  },
  {
   "cell_type": "code",
   "execution_count": 5,
   "metadata": {
    "hidden": true,
    "scrolled": true
   },
   "outputs": [
    {
     "data": {
      "text/plain": [
       "#'user/line"
      ]
     },
     "execution_count": 5,
     "metadata": {},
     "output_type": "execute_result"
    }
   ],
   "source": [
    "(defn line\n",
    "  [character size]\n",
    "  (clojure.string/join (repeat size character)))"
   ]
  },
  {
   "cell_type": "code",
   "execution_count": 6,
   "metadata": {
    "hidden": true
   },
   "outputs": [
    {
     "data": {
      "text/plain": [
       "#'user/table-string"
      ]
     },
     "execution_count": 6,
     "metadata": {},
     "output_type": "execute_result"
    }
   ],
   "source": [
    "(defn table-string \n",
    "  [file-name]\n",
    "  (clojure.string/join \\newline\n",
    "    (concat [(line \\= 50)]\n",
    "            [(format \"%-30s%s\" \"Token\" \"Tipo\")]\n",
    "            [(line \\= 50)]\n",
    "            (table-lines file-name)\n",
    "            [(line \\= 50)])))"
   ]
  },
  {
   "cell_type": "code",
   "execution_count": 7,
   "metadata": {
    "hidden": true
   },
   "outputs": [
    {
     "data": {
      "text/plain": [
       "#'user/print-token-table"
      ]
     },
     "execution_count": 7,
     "metadata": {},
     "output_type": "execute_result"
    }
   ],
   "source": [
    "(defn print-token-table\n",
    "  [file-name]\n",
    "  (println (table-string file-name)))"
   ]
  },
  {
   "cell_type": "markdown",
   "metadata": {},
   "source": [
    "No se porque marca stack over flow unu"
   ]
  },
  {
   "cell_type": "code",
   "execution_count": 181,
   "metadata": {
    "hidden": true
   },
   "outputs": [
    {
     "data": {
      "text/plain": [
       "([\"//go:generate go run gen.go -o extra_test.go\" \"Comentario\"] [\"\\r\" \"Espacio\"] [\"\\n\" \"Espacio\"] [\"\\r\" \"Espacio\"] [\"\\n\" \"Espacio\"] [\"// Package binary128 implements encoding and decoding of IEEE 754 quadruple\" \"Comentario\"] [\"\\r\" \"Espacio\"] [\"\\n\" \"Espacio\"] [\"// precision floating-point numbers.\" \"Comentario\"] [\"\\r\" \"Espacio\"] [\"\\n\" \"Espacio\"] [\"//\" \"Comentario\"] [\"\\r\" \"Espacio\"] [\"\\n\" \"Espacio\"] [\"// https://en.wikipedia.org/wiki/Quadruple-precision_floating-point_format\" \"Comentario\"] [\"\\r\" \"Espacio\"] [\"\\n\" \"Espacio\"] [\"package\" \"Variable\"] [\" \" \"Espacio\"] [\"binary128\" \"Variable\"] [\"\\r\" \"Espacio\"] [\"\\n\" \"Espacio\"] [\"\\r\" \"Espacio\"] [\"\\n\" \"Espacio\"] [\"import\" \"Constante\"] [\" \" \"Espacio\"] [\"(\" \"Puntuacion\"] [\"\\r\" \"Espacio\"] [\"\\n\" \"Espacio\"] [\"\\t\" \"Espacio\"] [\"\\\"fmt\\\"\\r\\n\\t\\\"math\\\"\\r\\n\\t\\\"math/big\\\"\" \"String\"] [\"\\r\" \"Espacio\"] [\"\\n\" \"Espacio\"] [\")\" \"Puntuacion\"] [\"\\r\" \"Espacio\"] [\"\\n\" \"Espacio\"] [\"\\r\" \"Espacio\"] [\"\\n\" \"Espacio\"] [\"const\" \"Variable\"] [\" \" \"Espacio\"] [\"(\" \"Puntuacion\"] [\"\\r\" \"Espacio\"] [\"\\n\" \"Espacio\"] [\"\\t\" \"Espacio\"] [\"// precision specifies the number of bits in the mantissa (including the\" \"Comentario\"] [\"\\r\" \"Espacio\"] [\"\\n\" \"Espacio\"] [\"\\t\" \"Espacio\"] [\"// implicit lead bit).\" \"Comentario\"] [\"\\r\" \"Espacio\"] [\"\\n\" \"Espacio\"] [\"\\t\" \"Espacio\"] [\"precision\" \"Variable\"] [\" \" \"Espacio\"] [\"=\" \"Asignacion\"] [\" \" \"Espacio\"] [\"113\" \"Entero\"] [\"\\r\" \"Espacio\"] [\"\\n\" \"Espacio\"] [\"\\t\" \"Espacio\"] [\"// exponent bias.\" \"Comentario\"] [\"\\r\" \"Espacio\"] [\"\\n\" \"Espacio\"] [\"\\t\" \"Espacio\"] [\"bias\" \"Variable\"] [\" \" \"Espacio\"] [\"=\" \"Asignacion\"] [\" \" \"Espacio\"] [\"16383\" \"Entero\"] [\"\\r\" \"Espacio\"] [\"\\n\" \"Espacio\"] [\")\" \"Puntuacion\"] [\"\\r\" \"Espacio\"] [\"\\n\" \"Espacio\"] [\"\\r\" \"Espacio\"] [\"\\n\" \"Espacio\"] [\"// Positive and negative Not-a-Number, infinity and zero.\" \"Comentario\"] [\"\\r\" \"Espacio\"] [\"\\n\" \"Espacio\"] [\"var\" \"Constante\"] [\" \" \"Espacio\"] [\"(\" \"Puntuacion\"] [\"\\r\" \"Espacio\"] [\"\\n\" \"Espacio\"] [\"\\t\" \"Espacio\"] [\"// +NaN\" \"Comentario\"] [\"\\r\" \"Espacio\"] [\"\\n\" \"Espacio\"] [\"\\t\" \"Espacio\"] [\"NaN\" \"Variable\"] [\" \" \"Espacio\"] [\"=\" \"Asignacion\"] [\" \" \"Espacio\"] [\"Float\" \"Variable\"] [\"{\" \"Puntuacion\"] [\"a\" \"Variable\"] [\":\" \"Invalido\"] [\" \" \"Espacio\"] [\"0x7FFF800000000000\" \"Entero\"] [\",\" \"Invalido\"] [\" \" \"Espacio\"] [\"b\" \"Variable\"] [\":\" \"Invalido\"] [\" \" \"Espacio\"] [\"0\" \"Entero\"] [\"}\" \"Puntuacion\"] [\"\\r\" \"Espacio\"] [\"\\n\" \"Espacio\"] [\"\\t\" \"Espacio\"] [\"// -NaN\" \"Comentario\"] [\"\\r\" \"Espacio\"] [\"\\n\" \"Espacio\"] [\"\\t\" \"Espacio\"] [\"NegNaN\" \"Variable\"] [\" \" \"Espacio\"] [\"=\" \"Asignacion\"] [\" \" \"Espacio\"] [\"Float\" \"Variable\"] [\"{\" \"Puntuacion\"] [\"a\" \"Variable\"] [\":\" \"Invalido\"] [\" \" \"Espacio\"] [\"0xFFFF800000000000\" \"Entero\"] [\",\" \"Invalido\"] [\" \" \"Espacio\"] [\"b\" \"Variable\"] [\":\" \"Invalido\"] [\" \" \"Espacio\"] [\"0\" \"Entero\"] [\"}\" \"Puntuacion\"] [\"\\r\" \"Espacio\"] [\"\\n\" \"Espacio\"] [\"\\t\" \"Espacio\"] [\"// +Inf\" \"Comentario\"] [\"\\r\" \"Espacio\"] [\"\\n\" \"Espacio\"] [\"\\t\" \"Espacio\"] [\"Inf\" \"Variable\"] [\" \" \"Espacio\"] [\"=\" \"Asignacion\"] [\" \" \"Espacio\"] [\"Float\" \"Variable\"] [\"{\" \"Puntuacion\"] [\"a\" \"Variable\"] [\":\" \"Invalido\"] [\" \" \"Espacio\"] [\"0x7FFF000000000000\" \"Entero\"] [\",\" \"Invalido\"] [\" \" \"Espacio\"] [\"b\" \"Variable\"] [\":\" \"Invalido\"] [\" \" \"Espacio\"] [\"0\" \"Entero\"] [\"}\" \"Puntuacion\"] [\"\\r\" \"Espacio\"] [\"\\n\" \"Espacio\"] [\"\\t\" \"Espacio\"] [\"// -Inf\" \"Comentario\"] [\"\\r\" \"Espacio\"] [\"\\n\" \"Espacio\"] [\"\\t\" \"Espacio\"] [\"NegInf\" \"Variable\"] [\" \" \"Espacio\"] [\"=\" \"Asignacion\"] [\" \" \"Espacio\"] [\"Float\" \"Variable\"] [\"{\" \"Puntuacion\"] [\"a\" \"Variable\"] [\":\" \"Invalido\"] [\" \" \"Espacio\"] [\"0xFFFF000000000000\" \"Entero\"] [\",\" \"Invalido\"] [\" \" \"Espacio\"] [\"b\" \"Variable\"] [\":\" \"Invalido\"] [\" \" \"Espacio\"] [\"0\" \"Entero\"] [\"}\" \"Puntuacion\"] [\"\\r\" \"Espacio\"] [\"\\n\" \"Espacio\"] [\"\\t\" \"Espacio\"] [\"// +zero\" \"Comentario\"] [\"\\r\" \"Espacio\"] [\"\\n\" \"Espacio\"] [\"\\t\" \"Espacio\"] [\"Zero\" \"Variable\"] [\" \" \"Espacio\"] [\"=\" \"Asignacion\"] [\" \" \"Espacio\"] [\"Float\" \"Variable\"] [\"{\" \"Puntuacion\"] [\"a\" \"Variable\"] [\":\" \"Invalido\"] [\" \" \"Espacio\"] [\"0x0000000000000000\" \"Entero\"] [\",\" \"Invalido\"] [\" \" \"Espacio\"] [\"b\" \"Variable\"] [\":\" \"Invalido\"] [\" \" \"Espacio\"] [\"0\" \"Entero\"] [\"}\" \"Puntuacion\"] [\"\\r\" \"Espacio\"] [\"\\n\" \"Espacio\"] [\"\\t\" \"Espacio\"] [\"// -zero\" \"Comentario\"] [\"\\r\" \"Espacio\"] [\"\\n\" \"Espacio\"] [\"\\t\" \"Espacio\"] [\"NegZero\" \"Variable\"] [\" \" \"Espacio\"] [\"=\" \"Asignacion\"] [\" \" \"Espacio\"] [\"Float\" \"Variable\"] [\"{\" \"Puntuacion\"] [\"a\" \"Variable\"] [\":\" \"Invalido\"] [\" \" \"Espacio\"] [\"0x8000000000000000\" \"Entero\"] [\",\" \"Invalido\"] [\" \" \"Espacio\"] [\"b\" \"Variable\"] [\":\" \"Invalido\"] [\" \" \"Espacio\"] [\"0\" \"Entero\"] [\"}\" \"Puntuacion\"] [\"\\r\" \"Espacio\"] [\"\\n\" \"Espacio\"] [\")\" \"Puntuacion\"] [\"\\r\" \"Espacio\"] [\"\\n\" \"Espacio\"] [\"\\r\" \"Espacio\"] [\"\\n\" \"Espacio\"] [\"// Float is a floating-point number in IEEE 754 quadruple precision format.\" \"Comentario\"] [\"\\r\" \"Espacio\"] [\"\\n\" \"Espacio\"] [\"type\" \"Variable\"] [\" \" \"Espacio\"] [\"Float\" \"Variable\"] [\" \" \"Espacio\"] [\"struct\" \"Variable\"] [\" \" \"Espacio\"] [\"{\" \"Puntuacion\"] [\"\\r\" \"Espacio\"] [\"\\n\" \"Espacio\"] [\"\\t\" \"Espacio\"] [\"// Sign, exponent and fraction.\" \"Comentario\"] [\"\\r\" \"Espacio\"] [\"\\n\" \"Espacio\"] [\"\\t\" \"Espacio\"] [\"//\" \"Comentario\"] [\"\\r\" \"Espacio\"] [\"\\n\" \"Espacio\"] [\"\\t\" \"Espacio\"] [\"//    1 bit:    sign\" \"Comentario\"] [\"\\r\" \"Espacio\"] [\"\\n\" \"Espacio\"] [\"\\t\" \"Espacio\"] [\"//    15 bits:  exponent\" \"Comentario\"] [\"\\r\" \"Espacio\"] [\"\\n\" \"Espacio\"] [\"\\t\" \"Espacio\"] [\"//    112 bits: fraction\" \"Comentario\"] [\"\\r\" \"Espacio\"] [\"\\n\" \"Espacio\"] [\"\\t\" \"Espacio\"] [\"a\" \"Variable\"] [\" \" \"Espacio\"] [\"uint64\" \"Variable\"] [\"\\r\" \"Espacio\"] [\"\\n\" \"Espacio\"] [\"\\t\" \"Espacio\"] [\"b\" \"Variable\"] [\" \" \"Espacio\"] [\"uint64\" \"Variable\"] [\"\\r\" \"Espacio\"] [\"\\n\" \"Espacio\"] [\"}\" \"Puntuacion\"] [\"\\r\" \"Espacio\"] [\"\\n\" \"Espacio\"] [\"\\r\" \"Espacio\"] [\"\\n\" \"Espacio\"] [\"// NewFromBits returns the floating-point number corresponding to the IEEE 754\" \"Comentario\"] [\"\\r\" \"Espacio\"] [\"\\n\" \"Espacio\"] [\"// quadruple precision binary representation.\" \"Comentario\"] [\"\\r\" \"Espacio\"] [\"\\n\" \"Espacio\"] [\"func\" \"Variable\"] [\" \" \"Espacio\"] [\"NewFromBits\" \"Variable\"] [\"(\" \"Puntuacion\"] [\"a\" \"Variable\"] [\",\" \"Invalido\"] [\" \" \"Espacio\"] [\"b\" \"Variable\"] [\" \" \"Espacio\"] [\"uint64\" \"Variable\"] [\")\" \"Puntuacion\"] [\" \" \"Espacio\"] [\"Float\" \"Variable\"] [\" \" \"Espacio\"] [\"{\" \"Puntuacion\"] [\"\\r\" \"Espacio\"] [\"\\n\" \"Espacio\"] [\"\\t\" \"Espacio\"] [\"return\" \"Variable\"] [\" \" \"Espacio\"] [\"Float\" \"Variable\"] [\"{\" \"Puntuacion\"] [\"a\" \"Variable\"] [\":\" \"Invalido\"] [\" \" \"Espacio\"] [\"a\" \"Variable\"] [\",\" \"Invalido\"] [\" \" \"Espacio\"] [\"b\" \"Variable\"] [\":\" \"Invalido\"] [\" \" \"Espacio\"] [\"b\" \"Variable\"] [\"}\" \"Puntuacion\"] [\"\\r\" \"Espacio\"] [\"\\n\" \"Espacio\"] [\"}\" \"Puntuacion\"] [\"\\r\" \"Espacio\"] [\"\\n\" \"Espacio\"] [\"\\r\" \"Espacio\"] [\"\\n\" \"Espacio\"] [\"// NewFromFloat32 returns the nearest quadruple precision floating-point number\" \"Comentario\"] [\"\\r\" \"Espacio\"] [\"\\n\" \"Espacio\"] [\"// for x and the accuracy of the conversion.\" \"Comentario\"] [\"\\r\" \"Espacio\"] [\"\\n\" \"Espacio\"] [\"func\" \"Variable\"] [\" \" \"Espacio\"] [\"NewFromFloat32\" \"Variable\"] [\"(\" \"Puntuacion\"] [\"x\" \"Variable\"] [\" \" \"Espacio\"] [\"float32\" \"Variable\"] [\")\" \"Puntuacion\"] [\" \" \"Espacio\"] [\"(\" \"Puntuacion\"] [\"Float\" \"Variable\"] [\",\" \"Invalido\"] [\" \" \"Espacio\"] [\"big\" \"Variable\"] [\".\" \"Flotante\"] [\"Accuracy\" \"Variable\"] [\")\" \"Puntuacion\"] [\" \" \"Espacio\"] [\"{\" \"Puntuacion\"] [\"\\r\" \"Espacio\"] [\"\\n\" \"Espacio\"] [\"\\t\" \"Espacio\"] [\"f\" \"Variable\"] [\",\" \"Invalido\"] [\" \" \"Espacio\"] [\"acc\" \"Variable\"] [\" \" \"Espacio\"] [\":\" \"Invalido\"] [\"=\" \"Asignacion\"] [\" \" \"Espacio\"] [\"NewFromFloat64\" \"Variable\"] [\"(\" \"Puntuacion\"] [\"float64\" \"Variable\"] [\"(\" \"Puntuacion\"] [\"x\" \"Variable\"] [\")\" \"Puntuacion\"] [\")\" \"Puntuacion\"] [\"\\r\" \"Espacio\"] [\"\\n\" \"Espacio\"] [\"\\t\" \"Espacio\"] [\"if\" \"Variable\"] [\" \" \"Espacio\"] [\"acc\" \"Variable\"] [\" \" \"Espacio\"] [\"=\" \"Asignacion\"] [\"=\" \"Asignacion\"] [\" \" \"Espacio\"] [\"big\" \"Variable\"] [\".\" \"Flotante\"] [\"Exact\" \"Variable\"] [\" \" \"Espacio\"] [\"{\" \"Puntuacion\"])"
      ]
     },
     "execution_count": 181,
     "metadata": {},
     "output_type": "execute_result"
    }
   ],
   "source": [
    ";cree una carpeta llamada \"pruebaParaleloBorrar\" donde puse dos archivos go, pero sólo con 60 líneas cada uno\n",
    "(tokenize-file \"Archivos_prueba/pruebaParaleloBorrar/binary128.go\")"
   ]
  },
  {
   "cell_type": "markdown",
   "metadata": {},
   "source": [
    "### En HTML"
   ]
  },
  {
   "cell_type": "code",
   "execution_count": 182,
   "metadata": {},
   "outputs": [
    {
     "data": {
      "text/plain": [
       "#'user/reemplaza"
      ]
     },
     "execution_count": 182,
     "metadata": {},
     "output_type": "execute_result"
    }
   ],
   "source": [
    "(defn reemplaza [string]\n",
    "  \"Remplaza carácteres &,<,> por sus equivalentes en html.\"\n",
    "  (->> (clojure.string/replace string #\"&\" \"&amp\")\n",
    "       (map (fn [string] (clojure.string/replace string #\"<\" \"&lt\")))\n",
    "       (map (fn [string] (clojure.string/replace string #\">\" \"&gt\")))\n",
    "       (reduce str)))"
   ]
  },
  {
   "cell_type": "code",
   "execution_count": 183,
   "metadata": {},
   "outputs": [
    {
     "data": {
      "text/plain": [
       "#'user/etiquetas"
      ]
     },
     "execution_count": 183,
     "metadata": {},
     "output_type": "execute_result"
    }
   ],
   "source": [
    "(defn etiquetas [file-name]\n",
    "    \"Genera las etiquetas HTML.\"\n",
    "  (->> (tokenize-file file-name)\n",
    "    ; Si (t 1) == Espacio dejarlo normal, si no el span\n",
    "       (map (fn [t] (if (= (t 1) \"Espacio\")\n",
    "                      (t 0)\n",
    "                      (clojure.string/join \n",
    "                       [\"<span id = '\" \n",
    "                        (t 1) \n",
    "                        \"'>\" \n",
    "                        (reemplaza (t 0)) \n",
    "                        \"</span>\"]))))\n",
    "       (reduce str)))"
   ]
  },
  {
   "cell_type": "code",
   "execution_count": 184,
   "metadata": {},
   "outputs": [
    {
     "data": {
      "text/plain": [
       "#'user/final"
      ]
     },
     "execution_count": 184,
     "metadata": {},
     "output_type": "execute_result"
    }
   ],
   "source": [
    "(defn final [file-name]\n",
    "  (clojure.string/join [(slurp \"inicio.txt\")\n",
    "                        (etiquetas file-name)\n",
    "                        (slurp \"final.txt\")]))"
   ]
  },
  {
   "cell_type": "code",
   "execution_count": 185,
   "metadata": {},
   "outputs": [
    {
     "data": {
      "text/plain": [
       "#'user/procesa-texto"
      ]
     },
     "execution_count": 185,
     "metadata": {},
     "output_type": "execute_result"
    }
   ],
   "source": [
    ";funcion final\n",
    "(defn procesa-texto [file-name]\n",
    "  (spit (clojure.string/join [file-name \".html\"]) \n",
    "        (final (clojure.string/join [file-name \".go\"]))))"
   ]
  },
  {
   "cell_type": "code",
   "execution_count": 187,
   "metadata": {},
   "outputs": [
    {
     "data": {
      "text/plain": [
       "nil"
      ]
     },
     "execution_count": 187,
     "metadata": {},
     "output_type": "execute_result"
    }
   ],
   "source": [
    ";si corres esto se generan los archivos html en el directorio que cree\n",
    "(procesa-texto \"Archivos_prueba/pruebaParaleloBorrar/binary128\")"
   ]
  },
  {
   "cell_type": "code",
   "execution_count": 188,
   "metadata": {},
   "outputs": [
    {
     "data": {
      "text/plain": [
       "#'user/get-file-info"
      ]
     },
     "execution_count": 188,
     "metadata": {},
     "output_type": "execute_result"
    }
   ],
   "source": [
    "(defn get-file-info\n",
    "  [dir]\n",
    "  (map (fn [f]\n",
    "         [(.getPath f) (.isFile f) (.getName f)]);obtiene 3 informaciones de cada archivo\n",
    "       (file-seq (clojure.java.io/file dir))));   para usarlo en la función valid-file-names qu esta abajo"
   ]
  },
  {
   "cell_type": "code",
   "execution_count": 72,
   "metadata": {},
   "outputs": [
    {
     "name": "stdout",
     "output_type": "stream",
     "text": [
      "([\"Archivos_prueba\\\\10archivos\" false \"10archivos\"]\n",
      " [\"Archivos_prueba\\\\10archivos\\\\.ipynb_checkpoints\"\n",
      "  false\n",
      "  \".ipynb_checkpoints\"]\n",
      " [\"Archivos_prueba\\\\10archivos\\\\.ipynb_checkpoints\\\\binary128-checkpoint.go\"\n",
      "  true\n",
      "  \"binary128-checkpoint.go\"]\n",
      " [\"Archivos_prueba\\\\10archivos\\\\.ipynb_checkpoints\\\\binary_as_string_codec-checkpoint.go\"\n",
      "  true\n",
      "  \"binary_as_string_codec-checkpoint.go\"]\n",
      " [\"Archivos_prueba\\\\10archivos\\\\.ipynb_checkpoints\\\\response-checkpoint.go\"\n",
      "  true\n",
      "  \"response-checkpoint.go\"]\n",
      " [\"Archivos_prueba\\\\10archivos\\\\binary128.go\" true \"binary128.go\"]\n",
      " [\"Archivos_prueba\\\\10archivos\\\\binary16_test.go\"\n",
      "  true\n",
      "  \"binary16_test.go\"]\n",
      " [\"Archivos_prueba\\\\10archivos\\\\binary_as_string_codec.go\"\n",
      "  true\n",
      "  \"binary_as_string_codec.go\"]\n",
      " [\"Archivos_prueba\\\\10archivos\\\\calculator.go\" true \"calculator.go\"]\n",
      " [\"Archivos_prueba\\\\10archivos\\\\hellopb.go\" true \"hellopb.go\"]\n",
      " [\"Archivos_prueba\\\\10archivos\\\\point_test.go\" true \"point_test.go\"]\n",
      " [\"Archivos_prueba\\\\10archivos\\\\response.go\" true \"response.go\"]\n",
      " [\"Archivos_prueba\\\\10archivos\\\\server.go\" true \"server.go\"]\n",
      " [\"Archivos_prueba\\\\10archivos\\\\singlelinkedlist.go\"\n",
      "  true\n",
      "  \"singlelinkedlist.go\"]\n",
      " [\"Archivos_prueba\\\\10archivos\\\\test_stale_repositories.go\"\n",
      "  true\n",
      "  \"test_stale_repositories.go\"])\n"
     ]
    },
    {
     "data": {
      "text/plain": [
       "nil"
      ]
     },
     "execution_count": 72,
     "metadata": {},
     "output_type": "execute_result"
    }
   ],
   "source": [
    ";prueba para ver qué datos recopila, ya cuando lo acabemos modificare la función \n",
    ";para quitar .getPath ya que es irrelevante en el código\n",
    "(clojure.pprint/pprint (get-file-info \"Archivos_prueba/10archivos\"))"
   ]
  },
  {
   "cell_type": "code",
   "execution_count": 196,
   "metadata": {},
   "outputs": [
    {
     "data": {
      "text/plain": [
       "#'user/valid-file-names"
      ]
     },
     "execution_count": 196,
     "metadata": {},
     "output_type": "execute_result"
    }
   ],
   "source": [
    ";Esta función sirve para obtener todos los nombres que se encuentren en la carpeta a analizar.\n",
    ";Como en la función de procesa-texto se pide el nombre del archivo sin extensión,\n",
    ";cree esta función\n",
    "(defn valid-file-names\n",
    "  [dir]                                        ;obtiene los nombres del directorio\n",
    "  (->> (for [f (get-file-info dir) :when (f 1)];(f 1) es true o false si es archivo o no\n",
    "            (f 2)) ;si (f 1) es verdadero se incluye el nombre del archivo\n",
    "       (remove (fn [string1] (re-seq #\"(?xi) (checkpoint|[.]css|[.]html)\" string1)));quita archivos checkpoint que hace jupyterlab, archivos html y css\n",
    "       (map (fn [string] (clojure.string/replace string #\".go\" \"\")));los archivos go le quita su extensión\n",
    "       (map (fn [name1] (clojure.string/join [dir \"/\" name1])))));le agrega su extensión que se pone como parámetro dir\n",
    "                                                    ;porque si sólo se queda el nombre, no va a encontrar el archivo en caso de que\n",
    "                                                    ;el archivo este en otro directorio"
   ]
  },
  {
   "cell_type": "code",
   "execution_count": 197,
   "metadata": {},
   "outputs": [
    {
     "data": {
      "text/plain": [
       "(\"Archivos_prueba/10archivos/binary128\" \"Archivos_prueba/10archivos/binary16_test\" \"Archivos_prueba/10archivos/binary_as_string_codec\" \"Archivos_prueba/10archivos/calculator\" \"Archivos_prueba/10archivos/client\" \"Archivos_prueba/10archivos/config_test\" \"Archivos_prueba/10archivos/decoder_test\" \"Archivos_prueba/10archivos/fuzzy_decoder\" \"Archivos_prueba/10archivos/fuzzy_decoder_test\" \"Archivos_prueba/10archivos/hellopb\" \"Archivos_prueba/10archivos/jsoniter_array_test\" \"Archivos_prueba/10archivos/point_test\" \"Archivos_prueba/10archivos/response\" \"Archivos_prueba/10archivos/server\" \"Archivos_prueba/10archivos/server2\" \"Archivos_prueba/10archivos/singlelinkedlist\" \"Archivos_prueba/10archivos/stream_str\" \"Archivos_prueba/10archivos/struct_embedded_test\" \"Archivos_prueba/10archivos/struct_tags_test\" \"Archivos_prueba/10archivos/test_stale_repositories\")"
      ]
     },
     "execution_count": 197,
     "metadata": {},
     "output_type": "execute_result"
    }
   ],
   "source": [
    "(valid-file-names \"Archivos_prueba/10archivos\")"
   ]
  },
  {
   "cell_type": "markdown",
   "metadata": {},
   "source": [
    "## La función de abajo es la que hace todo la parte 1\n",
    "\n",
    "Esta es la parte que creo que tiene que ir con loop recur y que se utilizará en el pmap de la función paralela"
   ]
  },
  {
   "cell_type": "code",
   "execution_count": 252,
   "metadata": {},
   "outputs": [
    {
     "data": {
      "text/plain": [
       "#'user/part-one2"
      ]
     },
     "execution_count": 252,
     "metadata": {},
     "output_type": "execute_result"
    }
   ],
   "source": [
    ";(defn part-one     ;esta función recibe el directorio y aplica la función procesa-texto\n",
    ";  [directory]\n",
    ";  (map (fn [string] (procesa-texto string)) (valid-file-names directory)))\n",
    "\n",
    "(defn part-one2    ;esta función hace lo mismo pero recibe una lista de los nombres\n",
    "  [directory]\n",
    "  (map (fn [string] (procesa-texto string)) directory))"
   ]
  },
  {
   "cell_type": "code",
   "execution_count": 26,
   "metadata": {},
   "outputs": [
    {
     "data": {
      "text/plain": [
       "(nil nil)"
      ]
     },
     "execution_count": 26,
     "metadata": {},
     "output_type": "execute_result"
    }
   ],
   "source": [
    ";(part-one \"Archivos_prueba/10archivos\")\n",
    "(part-one2 '(\"binary128\" \"binary16_test\"))"
   ]
  },
  {
   "cell_type": "markdown",
   "metadata": {},
   "source": [
    "## Paralelo"
   ]
  },
  {
   "cell_type": "code",
   "execution_count": 4,
   "metadata": {},
   "outputs": [
    {
     "data": {
      "text/plain": [
       "#'user/ranges-str"
      ]
     },
     "execution_count": 4,
     "metadata": {},
     "output_type": "execute_result"
    }
   ],
   "source": [
    ";esta función hace que haga una secuencia \n",
    "(defn ranges-str\n",
    "  [p strings]\n",
    "  (partition p strings))"
   ]
  },
  {
   "cell_type": "code",
   "execution_count": 7,
   "metadata": {},
   "outputs": [
    {
     "data": {
      "text/plain": [
       "((\"binary128\" \"binary16_test\") (\"esto\" \"es\") (\"una\" \"prueba\"))"
      ]
     },
     "execution_count": 7,
     "metadata": {},
     "output_type": "execute_result"
    }
   ],
   "source": [
    "(ranges-str 2 '(\"binary128\" \"binary16_test\" \"esto\" \"es\" \"una\" \"prueba\"))"
   ]
  },
  {
   "cell_type": "code",
   "execution_count": 240,
   "metadata": {},
   "outputs": [
    {
     "data": {
      "text/plain": [
       "#'user/parallel-prueba"
      ]
     },
     "execution_count": 240,
     "metadata": {},
     "output_type": "execute_result"
    }
   ],
   "source": [
    ";esta es la función paralela de la parte 2\n",
    "(defn parallel\n",
    "  [p directory]\n",
    "  (->> (ranges-str p (valid-file-names directory));busca los nombres en el directorio y regresa una secuencia particionada\n",
    "       (pmap (fn [lst-str] (procesa-texto lst-str)))));procesa la secuencia particionada con un pmap\n",
    "\n",
    ";esta función es lo mismo que la de arriba, nada más que la puse para que reciba una lista con los nombres de los archivos\n",
    ";porque hice otra función? porque la función de arriba no jala unu,falla al querer procesar lo que regresa la línea 4\n",
    ";regresa algo asi: ((\"binary128\" \"binary16_test\") (\"esto\" \"es\") (\"una\" \"prueba\")) y el pmap no sabe que hacer con\n",
    ";una secuencia de secuencias uwu\n",
    "(defn parallel-prueba\n",
    "  [string]\n",
    "  (pmap (fn [n] (procesa-texto n)) string))"
   ]
  },
  {
   "cell_type": "markdown",
   "metadata": {},
   "source": [
    "## Pruebas"
   ]
  },
  {
   "cell_type": "code",
   "execution_count": 140,
   "metadata": {},
   "outputs": [
    {
     "data": {},
     "execution_count": 140,
     "metadata": {},
     "output_type": "execute_result"
    }
   ],
   "source": [
    "(doseq [i (range 5)]\n",
    "  (time (part-one2 \n",
    "         '(\"Archivos_prueba/pruebaParaleloBorrar/binary16_test\" \n",
    "           \"Archivos_prueba/pruebaParaleloBorrar/binary128\"))))"
   ]
  },
  {
   "cell_type": "code",
   "execution_count": null,
   "metadata": {},
   "outputs": [],
   "source": [
    "(doseq [i (range 5)]\n",
    "  (time (parallel-prueba \n",
    "         '(\"Archivos_prueba/pruebaParaleloBorrar/binary16_test\" \n",
    "           \"Archivos_prueba/pruebaParaleloBorrar/binary128\"))))"
   ]
  },
  {
   "cell_type": "code",
   "execution_count": null,
   "metadata": {},
   "outputs": [],
   "source": []
  }
 ],
 "metadata": {
  "kernelspec": {
   "display_name": "Clojure (clojupyter=0.3.2=1)",
   "language": "clojure",
   "name": "conda-clojupyter"
  },
  "language_info": {
   "file_extension": ".clj",
   "mimetype": "text/x-clojure",
   "name": "clojure",
   "version": "1.10.1"
  },
  "toc": {
   "base_numbering": 1,
   "nav_menu": {},
   "number_sections": true,
   "sideBar": true,
   "skip_h1_title": false,
   "title_cell": "Table of Contents",
   "title_sidebar": "Contents",
   "toc_cell": false,
   "toc_position": {
    "height": "calc(100% - 180px)",
    "left": "10px",
    "top": "150px",
    "width": "286px"
   },
   "toc_section_display": true,
   "toc_window_display": true
  }
 },
 "nbformat": 4,
 "nbformat_minor": 4
}
